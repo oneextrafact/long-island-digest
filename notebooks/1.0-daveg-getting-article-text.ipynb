{
 "cells": [
  {
   "cell_type": "code",
   "execution_count": 1,
   "metadata": {},
   "outputs": [],
   "source": [
    "import pandas as pd"
   ]
  },
  {
   "cell_type": "code",
   "execution_count": 2,
   "metadata": {},
   "outputs": [],
   "source": [
    "articles_df = pd.read_parquet('/workspaces/long-island-digest/data/processed/articles.parquet')"
   ]
  },
  {
   "cell_type": "code",
   "execution_count": 3,
   "metadata": {},
   "outputs": [
    {
     "data": {
      "text/plain": [
       "suffolk           21470\n",
       "baseball          21090\n",
       "football          20004\n",
       "nassau            18660\n",
       "columnists        15620\n",
       "                  ...  \n",
       "the-point            50\n",
       "investigations       49\n",
       "towns                39\n",
       "data                 17\n",
       "voices                2\n",
       "Name: L2, Length: 67, dtype: int64"
      ]
     },
     "execution_count": 3,
     "metadata": {},
     "output_type": "execute_result"
    }
   ],
   "source": [
    "articles_df['L2'].value_counts()"
   ]
  },
  {
   "cell_type": "code",
   "execution_count": 14,
   "metadata": {},
   "outputs": [],
   "source": [
    "import requests \n",
    "import os \n",
    "\n",
    "for a in articles_df.set_index('YearMonth').loc['2021'].query(\"\"\"L2=='letters'\"\"\")['url'].values:\n",
    "    r = requests.get(a)\n",
    "    if r.ok:\n",
    "        article_name = a.split('/')[-1] + \".html\"\n",
    "        article_path = os.path.join(\"/workspaces/long-island-digest/data/raw/newsday/letters\", article_name)\n",
    "        with open(article_path, 'wb') as fout:\n",
    "            fout.write(r.content)\n",
    "        "
   ]
  },
  {
   "cell_type": "code",
   "execution_count": 9,
   "metadata": {},
   "outputs": [
    {
     "data": {
      "text/plain": [
       "'https://www.newsday.com/opinion/letters/potholes-suffolk-county-broken-lights-police-teachers-pay-ji10m9i5'"
      ]
     },
     "execution_count": 9,
     "metadata": {},
     "output_type": "execute_result"
    }
   ],
   "source": [
    "articles_df.iloc[370104\t].url\n"
   ]
  },
  {
   "cell_type": "code",
   "execution_count": null,
   "metadata": {},
   "outputs": [],
   "source": []
  }
 ],
 "metadata": {
  "kernelspec": {
   "display_name": "Python 3.10.4 64-bit",
   "language": "python",
   "name": "python3"
  },
  "language_info": {
   "codemirror_mode": {
    "name": "ipython",
    "version": 3
   },
   "file_extension": ".py",
   "mimetype": "text/x-python",
   "name": "python",
   "nbconvert_exporter": "python",
   "pygments_lexer": "ipython3",
   "version": "3.10.4"
  },
  "orig_nbformat": 4,
  "vscode": {
   "interpreter": {
    "hash": "949777d72b0d2535278d3dc13498b2535136f6dfe0678499012e853ee9abcab1"
   }
  }
 },
 "nbformat": 4,
 "nbformat_minor": 2
}
