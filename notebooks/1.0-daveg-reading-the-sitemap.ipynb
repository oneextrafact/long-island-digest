{
 "cells": [
  {
   "cell_type": "code",
   "execution_count": 83,
   "metadata": {},
   "outputs": [],
   "source": [
    "import requests"
   ]
  },
  {
   "cell_type": "code",
   "execution_count": 86,
   "metadata": {},
   "outputs": [
    {
     "data": {
      "text/plain": [
       "['User-agent: *  ',\n",
       " 'Disallow: /preview/',\n",
       " 'Disallow: /iosfeeds/',\n",
       " 'Disallow: /json/',\n",
       " 'Disallow: /cmlink/ ',\n",
       " 'Disallow: /mobile/',\n",
       " 'Disallow: /5819/',\n",
       " 'Disallow: *?lng',\n",
       " 'Disallow: *?view',\n",
       " '',\n",
       " '',\n",
       " 'Sitemap: https://www.newsday.com/sitemap/',\n",
       " 'Sitemap: https://projects.newsday.com/sitemap_index.xml',\n",
       " 'Sitemap: https://projects.newsday.com/voters-guide/sitemap.xml',\n",
       " 'Sitemap: https://projects.newsday.com/schools/sitemap.xml',\n",
       " 'Sitemap: https://projects.newsday.com/payrolls/sitemap_index.xml']"
      ]
     },
     "execution_count": 86,
     "metadata": {},
     "output_type": "execute_result"
    }
   ],
   "source": [
    "robots_txt = requests.get(\"https://www.newsday.com/robots.txt\")\n",
    "robots_txt.content.decode(\"utf-8\").split('\\n')"
   ]
  },
  {
   "cell_type": "code",
   "execution_count": 87,
   "metadata": {},
   "outputs": [],
   "source": [
    "sitemap_locs = requests.get(\"https://www.newsday.com/sitemap\")"
   ]
  },
  {
   "cell_type": "markdown",
   "metadata": {},
   "source": [
    "Looking at the return, we can see what appears to be a sitemap by month. It doesn't include the latest months, which is kind of interesting. Not sure why that should be. The document is an XML doc, so we can parse it and work through it as desired. "
   ]
  },
  {
   "cell_type": "code",
   "execution_count": 88,
   "metadata": {},
   "outputs": [],
   "source": [
    "import xml.etree.ElementTree as etree\n",
    "sitemap_doc = etree.fromstring(sitemap_locs.content.decode(\"utf-8\"))"
   ]
  },
  {
   "cell_type": "code",
   "execution_count": 239,
   "metadata": {},
   "outputs": [],
   "source": [
    "loc = sitemap_doc[0]"
   ]
  },
  {
   "cell_type": "code",
   "execution_count": 240,
   "metadata": {},
   "outputs": [
    {
     "data": {
      "text/plain": [
       "'https://www.newsday.com/sitemap/article/2022/5'"
      ]
     },
     "execution_count": 240,
     "metadata": {},
     "output_type": "execute_result"
    }
   ],
   "source": [
    "loc[0].text"
   ]
  },
  {
   "cell_type": "markdown",
   "metadata": {},
   "source": [
    "Let's build the set of every article we can get from the sitemap (we are not going to pull all of them)"
   ]
  },
  {
   "cell_type": "code",
   "execution_count": 247,
   "metadata": {},
   "outputs": [],
   "source": [
    "sitemap_urls = [loc[0].text for loc in sitemap_doc if \"article\" in loc[0].text]"
   ]
  },
  {
   "cell_type": "code",
   "execution_count": 250,
   "metadata": {},
   "outputs": [],
   "source": [
    "import uuid"
   ]
  },
  {
   "cell_type": "code",
   "execution_count": 252,
   "metadata": {},
   "outputs": [
    {
     "data": {
      "text/plain": [
       "'a4e18863-4cbd-4b13-976e-7d7f051f0c33'"
      ]
     },
     "execution_count": 252,
     "metadata": {},
     "output_type": "execute_result"
    }
   ],
   "source": [
    "str(uuid.uuid4())"
   ]
  },
  {
   "cell_type": "code",
   "execution_count": 256,
   "metadata": {},
   "outputs": [
    {
     "data": {
      "text/plain": [
       "'2013'"
      ]
     },
     "execution_count": 256,
     "metadata": {},
     "output_type": "execute_result"
    }
   ],
   "source": [
    "u.split('/')[-2]"
   ]
  },
  {
   "cell_type": "code",
   "execution_count": 261,
   "metadata": {},
   "outputs": [
    {
     "data": {
      "text/plain": [
       "'01'"
      ]
     },
     "execution_count": 261,
     "metadata": {},
     "output_type": "execute_result"
    }
   ],
   "source": [
    "\"1\".rjust(2, \"0\")"
   ]
  },
  {
   "cell_type": "code",
   "execution_count": 262,
   "metadata": {},
   "outputs": [],
   "source": [
    "import uuid \n",
    "\n",
    "for u in sitemap_urls:\n",
    "    m = requests.get(u)\n",
    "    if m.ok:\n",
    "        fields = u.split('/')\n",
    "        file_name = fields[-2] + fields[-1].rjust(2, \"0\") + \".xml\"\n",
    "        if int(fields[-2]) >= 2012:\n",
    "            file_path = os.path.join(\"/workspaces/long-island-digest/data/raw/newsday/sitemaps\", file_name)\n",
    "            with open(file_path, \"wb\") as fout:\n",
    "                fout.write(m.content)\n",
    "\n"
   ]
  },
  {
   "cell_type": "code",
   "execution_count": 264,
   "metadata": {},
   "outputs": [],
   "source": [
    "from glob import glob"
   ]
  },
  {
   "cell_type": "code",
   "execution_count": 265,
   "metadata": {},
   "outputs": [],
   "source": [
    "sitemap_files = glob(\"/workspaces/long-island-digest/data/raw/newsday/sitemaps/*.xml\")"
   ]
  },
  {
   "cell_type": "code",
   "execution_count": 275,
   "metadata": {},
   "outputs": [],
   "source": [
    "sitemap_frames = []\n",
    "\n",
    "for smf in sitemap_files:\n",
    "    sitemap_df = pd.read_xml(smf)\n",
    "    file_name = os.path.split(smf)[1]\n",
    "    file_month = os.path.splitext(file_name)[0]\n",
    "    sitemap_df['YearMonth'] = pd.to_datetime(file_month, format=\"%Y%m\")\n",
    "    sitemap_frames.append(sitemap_df)"
   ]
  },
  {
   "cell_type": "markdown",
   "metadata": {},
   "source": [
    "Fun with Pandas - remove duplicates! "
   ]
  },
  {
   "cell_type": "code",
   "execution_count": 331,
   "metadata": {},
   "outputs": [
    {
     "data": {
      "text/html": [
       "<div>\n",
       "<style scoped>\n",
       "    .dataframe tbody tr th:only-of-type {\n",
       "        vertical-align: middle;\n",
       "    }\n",
       "\n",
       "    .dataframe tbody tr th {\n",
       "        vertical-align: top;\n",
       "    }\n",
       "\n",
       "    .dataframe thead th {\n",
       "        text-align: right;\n",
       "    }\n",
       "</style>\n",
       "<table border=\"1\" class=\"dataframe\">\n",
       "  <thead>\n",
       "    <tr style=\"text-align: right;\">\n",
       "      <th></th>\n",
       "      <th>url</th>\n",
       "      <th>changefreq</th>\n",
       "      <th>priority</th>\n",
       "      <th>YearMonth</th>\n",
       "    </tr>\n",
       "  </thead>\n",
       "  <tbody>\n",
       "    <tr>\n",
       "      <th>0</th>\n",
       "      <td>https://www.newsday.com/sports/basketball/knic...</td>\n",
       "      <td>monthly</td>\n",
       "      <td>0.9</td>\n",
       "      <td>2012-01-01</td>\n",
       "    </tr>\n",
       "    <tr>\n",
       "      <th>1</th>\n",
       "      <td>https://www.newsday.com/news/keeler-gingrich-s...</td>\n",
       "      <td>monthly</td>\n",
       "      <td>0.9</td>\n",
       "      <td>2012-01-01</td>\n",
       "    </tr>\n",
       "    <tr>\n",
       "      <th>2</th>\n",
       "      <td>https://www.newsday.com/business/best-january-...</td>\n",
       "      <td>monthly</td>\n",
       "      <td>0.9</td>\n",
       "      <td>2012-01-01</td>\n",
       "    </tr>\n",
       "    <tr>\n",
       "      <th>3</th>\n",
       "      <td>https://www.newsday.com/sports/boxing/hbo-spor...</td>\n",
       "      <td>monthly</td>\n",
       "      <td>0.9</td>\n",
       "      <td>2012-01-01</td>\n",
       "    </tr>\n",
       "    <tr>\n",
       "      <th>4</th>\n",
       "      <td>https://www.newsday.com/sports/football/giants...</td>\n",
       "      <td>monthly</td>\n",
       "      <td>0.9</td>\n",
       "      <td>2012-01-01</td>\n",
       "    </tr>\n",
       "    <tr>\n",
       "      <th>...</th>\n",
       "      <td>...</td>\n",
       "      <td>...</td>\n",
       "      <td>...</td>\n",
       "      <td>...</td>\n",
       "    </tr>\n",
       "    <tr>\n",
       "      <th>1785</th>\n",
       "      <td>https://www.newsday.com/sports/columnists/bob-...</td>\n",
       "      <td>monthly</td>\n",
       "      <td>0.9</td>\n",
       "      <td>2022-05-01</td>\n",
       "    </tr>\n",
       "    <tr>\n",
       "      <th>1786</th>\n",
       "      <td>https://www.newsday.com/sports/high-school/boy...</td>\n",
       "      <td>monthly</td>\n",
       "      <td>0.9</td>\n",
       "      <td>2022-05-01</td>\n",
       "    </tr>\n",
       "    <tr>\n",
       "      <th>1787</th>\n",
       "      <td>https://www.newsday.com/sports/baseball/yankee...</td>\n",
       "      <td>monthly</td>\n",
       "      <td>0.9</td>\n",
       "      <td>2022-05-01</td>\n",
       "    </tr>\n",
       "    <tr>\n",
       "      <th>1788</th>\n",
       "      <td>https://www.newsday.com/sports/high-school/tra...</td>\n",
       "      <td>monthly</td>\n",
       "      <td>0.9</td>\n",
       "      <td>2022-05-01</td>\n",
       "    </tr>\n",
       "    <tr>\n",
       "      <th>1789</th>\n",
       "      <td>https://www.newsday.com/long-island/suffolk/pr...</td>\n",
       "      <td>monthly</td>\n",
       "      <td>0.9</td>\n",
       "      <td>2022-05-01</td>\n",
       "    </tr>\n",
       "  </tbody>\n",
       "</table>\n",
       "<p>370122 rows × 4 columns</p>\n",
       "</div>"
      ],
      "text/plain": [
       "                                                    url changefreq  priority  \\\n",
       "0     https://www.newsday.com/sports/basketball/knic...    monthly       0.9   \n",
       "1     https://www.newsday.com/news/keeler-gingrich-s...    monthly       0.9   \n",
       "2     https://www.newsday.com/business/best-january-...    monthly       0.9   \n",
       "3     https://www.newsday.com/sports/boxing/hbo-spor...    monthly       0.9   \n",
       "4     https://www.newsday.com/sports/football/giants...    monthly       0.9   \n",
       "...                                                 ...        ...       ...   \n",
       "1785  https://www.newsday.com/sports/columnists/bob-...    monthly       0.9   \n",
       "1786  https://www.newsday.com/sports/high-school/boy...    monthly       0.9   \n",
       "1787  https://www.newsday.com/sports/baseball/yankee...    monthly       0.9   \n",
       "1788  https://www.newsday.com/sports/high-school/tra...    monthly       0.9   \n",
       "1789  https://www.newsday.com/long-island/suffolk/pr...    monthly       0.9   \n",
       "\n",
       "      YearMonth  \n",
       "0    2012-01-01  \n",
       "1    2012-01-01  \n",
       "2    2012-01-01  \n",
       "3    2012-01-01  \n",
       "4    2012-01-01  \n",
       "...         ...  \n",
       "1785 2022-05-01  \n",
       "1786 2022-05-01  \n",
       "1787 2022-05-01  \n",
       "1788 2022-05-01  \n",
       "1789 2022-05-01  \n",
       "\n",
       "[370122 rows x 4 columns]"
      ]
     },
     "execution_count": 331,
     "metadata": {},
     "output_type": "execute_result"
    }
   ],
   "source": [
    "sitemap_df = pd.concat(sitemap_frames).drop_duplicates()\n",
    "sitemap_df = sitemap_df.rename(columns={\"loc\": \"url\"})\n",
    "sitemap_df"
   ]
  },
  {
   "cell_type": "markdown",
   "metadata": {},
   "source": [
    "One of the things we can notice is that the practice of adding a section and subsection is not universal. Sometimes there is only a section with the rest of it missing. "
   ]
  },
  {
   "cell_type": "code",
   "execution_count": 332,
   "metadata": {},
   "outputs": [],
   "source": [
    "urls = sitemap_df['url'].values\n",
    "sections = [u.split('/')[3] for u in urls]\n",
    "subsections = [u.split('/')[4] for u in urls if len(u.split('/')) > 4]\n",
    "subsubsections = [u.split('/')[5] for u in urls if len(u.split('/')) > 5] \n",
    "sections_counter = Counter(sections)\n",
    "subsections_counter = Counter(subsections)\n",
    "subsubsections_counter = Counter(subsubsections)"
   ]
  },
  {
   "cell_type": "code",
   "execution_count": 334,
   "metadata": {},
   "outputs": [],
   "source": [
    "valid_sections = [s for s in sections_counter if sections_counter.get(s) > 1]\n",
    "valid_subsections = [s for s in subsections_counter if subsections_counter.get(s) > 1]\n",
    "valid_subsubsections = [s for s in subsubsections_counter if subsubsections_counter.get(s) > 1]"
   ]
  },
  {
   "cell_type": "code",
   "execution_count": 355,
   "metadata": {},
   "outputs": [],
   "source": [
    "sections = [\"/\".join(u.split(\"/\")[3:-1]) for u in urls]"
   ]
  },
  {
   "cell_type": "code",
   "execution_count": 363,
   "metadata": {},
   "outputs": [],
   "source": [
    "sections_counter = Counter(sections)"
   ]
  },
  {
   "cell_type": "code",
   "execution_count": 340,
   "metadata": {},
   "outputs": [],
   "source": [
    "def get_section(url):\n",
    "    fields = url.split(\"/\")\n",
    "    if len(fields) >= 3:\n",
    "        if fields[3] in valid_sections:\n",
    "            return fields[3]\n",
    "    return \"Unknown\"\n",
    "\n",
    "def get_"
   ]
  },
  {
   "cell_type": "code",
   "execution_count": 366,
   "metadata": {},
   "outputs": [
    {
     "data": {
      "text/html": [
       "<div>\n",
       "<style scoped>\n",
       "    .dataframe tbody tr th:only-of-type {\n",
       "        vertical-align: middle;\n",
       "    }\n",
       "\n",
       "    .dataframe tbody tr th {\n",
       "        vertical-align: top;\n",
       "    }\n",
       "\n",
       "    .dataframe thead th {\n",
       "        text-align: right;\n",
       "    }\n",
       "</style>\n",
       "<table border=\"1\" class=\"dataframe\">\n",
       "  <thead>\n",
       "    <tr style=\"text-align: right;\">\n",
       "      <th></th>\n",
       "      <th>url</th>\n",
       "      <th>changefreq</th>\n",
       "      <th>priority</th>\n",
       "      <th>YearMonth</th>\n",
       "      <th>section</th>\n",
       "      <th>sections</th>\n",
       "      <th>valid_sections</th>\n",
       "    </tr>\n",
       "  </thead>\n",
       "  <tbody>\n",
       "    <tr>\n",
       "      <th>0</th>\n",
       "      <td>https://www.newsday.com/sports/basketball/knic...</td>\n",
       "      <td>monthly</td>\n",
       "      <td>0.9</td>\n",
       "      <td>2012-01-01</td>\n",
       "      <td>sports</td>\n",
       "      <td>sports/basketball/knicks</td>\n",
       "      <td>[sports, basketball, knicks]</td>\n",
       "    </tr>\n",
       "    <tr>\n",
       "      <th>1</th>\n",
       "      <td>https://www.newsday.com/news/keeler-gingrich-s...</td>\n",
       "      <td>monthly</td>\n",
       "      <td>0.9</td>\n",
       "      <td>2012-01-01</td>\n",
       "      <td>news</td>\n",
       "      <td>news</td>\n",
       "      <td>[news]</td>\n",
       "    </tr>\n",
       "    <tr>\n",
       "      <th>2</th>\n",
       "      <td>https://www.newsday.com/business/best-january-...</td>\n",
       "      <td>monthly</td>\n",
       "      <td>0.9</td>\n",
       "      <td>2012-01-01</td>\n",
       "      <td>business</td>\n",
       "      <td>business</td>\n",
       "      <td>[business]</td>\n",
       "    </tr>\n",
       "    <tr>\n",
       "      <th>3</th>\n",
       "      <td>https://www.newsday.com/sports/boxing/hbo-spor...</td>\n",
       "      <td>monthly</td>\n",
       "      <td>0.9</td>\n",
       "      <td>2012-01-01</td>\n",
       "      <td>sports</td>\n",
       "      <td>sports/boxing</td>\n",
       "      <td>[sports, boxing]</td>\n",
       "    </tr>\n",
       "    <tr>\n",
       "      <th>4</th>\n",
       "      <td>https://www.newsday.com/sports/football/giants...</td>\n",
       "      <td>monthly</td>\n",
       "      <td>0.9</td>\n",
       "      <td>2012-01-01</td>\n",
       "      <td>sports</td>\n",
       "      <td>sports/football/giants</td>\n",
       "      <td>[sports, football, giants]</td>\n",
       "    </tr>\n",
       "    <tr>\n",
       "      <th>...</th>\n",
       "      <td>...</td>\n",
       "      <td>...</td>\n",
       "      <td>...</td>\n",
       "      <td>...</td>\n",
       "      <td>...</td>\n",
       "      <td>...</td>\n",
       "      <td>...</td>\n",
       "    </tr>\n",
       "    <tr>\n",
       "      <th>1785</th>\n",
       "      <td>https://www.newsday.com/sports/columnists/bob-...</td>\n",
       "      <td>monthly</td>\n",
       "      <td>0.9</td>\n",
       "      <td>2022-05-01</td>\n",
       "      <td>sports</td>\n",
       "      <td>sports/columnists/bob-glauber</td>\n",
       "      <td>[sports, columnists, bob-glauber]</td>\n",
       "    </tr>\n",
       "    <tr>\n",
       "      <th>1786</th>\n",
       "      <td>https://www.newsday.com/sports/high-school/boy...</td>\n",
       "      <td>monthly</td>\n",
       "      <td>0.9</td>\n",
       "      <td>2022-05-01</td>\n",
       "      <td>sports</td>\n",
       "      <td>sports/high-school/boys-lacrosse</td>\n",
       "      <td>[sports, high-school, boys-lacrosse]</td>\n",
       "    </tr>\n",
       "    <tr>\n",
       "      <th>1787</th>\n",
       "      <td>https://www.newsday.com/sports/baseball/yankee...</td>\n",
       "      <td>monthly</td>\n",
       "      <td>0.9</td>\n",
       "      <td>2022-05-01</td>\n",
       "      <td>sports</td>\n",
       "      <td>sports/baseball/yankees</td>\n",
       "      <td>[sports, baseball, yankees]</td>\n",
       "    </tr>\n",
       "    <tr>\n",
       "      <th>1788</th>\n",
       "      <td>https://www.newsday.com/sports/high-school/tra...</td>\n",
       "      <td>monthly</td>\n",
       "      <td>0.9</td>\n",
       "      <td>2022-05-01</td>\n",
       "      <td>sports</td>\n",
       "      <td>sports/high-school/track</td>\n",
       "      <td>[sports, high-school, track]</td>\n",
       "    </tr>\n",
       "    <tr>\n",
       "      <th>1789</th>\n",
       "      <td>https://www.newsday.com/long-island/suffolk/pr...</td>\n",
       "      <td>monthly</td>\n",
       "      <td>0.9</td>\n",
       "      <td>2022-05-01</td>\n",
       "      <td>long-island</td>\n",
       "      <td>long-island/suffolk</td>\n",
       "      <td>[long-island, suffolk]</td>\n",
       "    </tr>\n",
       "  </tbody>\n",
       "</table>\n",
       "<p>370122 rows × 7 columns</p>\n",
       "</div>"
      ],
      "text/plain": [
       "                                                    url changefreq  priority  \\\n",
       "0     https://www.newsday.com/sports/basketball/knic...    monthly       0.9   \n",
       "1     https://www.newsday.com/news/keeler-gingrich-s...    monthly       0.9   \n",
       "2     https://www.newsday.com/business/best-january-...    monthly       0.9   \n",
       "3     https://www.newsday.com/sports/boxing/hbo-spor...    monthly       0.9   \n",
       "4     https://www.newsday.com/sports/football/giants...    monthly       0.9   \n",
       "...                                                 ...        ...       ...   \n",
       "1785  https://www.newsday.com/sports/columnists/bob-...    monthly       0.9   \n",
       "1786  https://www.newsday.com/sports/high-school/boy...    monthly       0.9   \n",
       "1787  https://www.newsday.com/sports/baseball/yankee...    monthly       0.9   \n",
       "1788  https://www.newsday.com/sports/high-school/tra...    monthly       0.9   \n",
       "1789  https://www.newsday.com/long-island/suffolk/pr...    monthly       0.9   \n",
       "\n",
       "      YearMonth      section                          sections  \\\n",
       "0    2012-01-01       sports          sports/basketball/knicks   \n",
       "1    2012-01-01         news                              news   \n",
       "2    2012-01-01     business                          business   \n",
       "3    2012-01-01       sports                     sports/boxing   \n",
       "4    2012-01-01       sports            sports/football/giants   \n",
       "...         ...          ...                               ...   \n",
       "1785 2022-05-01       sports     sports/columnists/bob-glauber   \n",
       "1786 2022-05-01       sports  sports/high-school/boys-lacrosse   \n",
       "1787 2022-05-01       sports           sports/baseball/yankees   \n",
       "1788 2022-05-01       sports          sports/high-school/track   \n",
       "1789 2022-05-01  long-island               long-island/suffolk   \n",
       "\n",
       "                            valid_sections  \n",
       "0             [sports, basketball, knicks]  \n",
       "1                                   [news]  \n",
       "2                               [business]  \n",
       "3                         [sports, boxing]  \n",
       "4               [sports, football, giants]  \n",
       "...                                    ...  \n",
       "1785     [sports, columnists, bob-glauber]  \n",
       "1786  [sports, high-school, boys-lacrosse]  \n",
       "1787           [sports, baseball, yankees]  \n",
       "1788          [sports, high-school, track]  \n",
       "1789                [long-island, suffolk]  \n",
       "\n",
       "[370122 rows x 7 columns]"
      ]
     },
     "execution_count": 366,
     "metadata": {},
     "output_type": "execute_result"
    }
   ],
   "source": [
    "sitemap_df['sections'] = sitemap_df['url'].apply(lambda x: \"/\".join(x.split(\"/\")[3:-1]))\n",
    "sitemap_df['valid_sections'] = sitemap_df['sections'].apply(lambda x: x if sections_counter.get(x) > 1 else 'Unknown')\n",
    "sitemap_df['valid_sections'] = sitemap_df['valid_sections'].str.split('/')\n",
    "sitemap_df"
   ]
  },
  {
   "cell_type": "code",
   "execution_count": null,
   "metadata": {},
   "outputs": [],
   "source": []
  },
  {
   "cell_type": "code",
   "execution_count": 385,
   "metadata": {},
   "outputs": [
    {
     "data": {
      "text/html": [
       "<div>\n",
       "<style scoped>\n",
       "    .dataframe tbody tr th:only-of-type {\n",
       "        vertical-align: middle;\n",
       "    }\n",
       "\n",
       "    .dataframe tbody tr th {\n",
       "        vertical-align: top;\n",
       "    }\n",
       "\n",
       "    .dataframe thead th {\n",
       "        text-align: right;\n",
       "    }\n",
       "</style>\n",
       "<table border=\"1\" class=\"dataframe\">\n",
       "  <thead>\n",
       "    <tr style=\"text-align: right;\">\n",
       "      <th></th>\n",
       "      <th>url</th>\n",
       "      <th>changefreq</th>\n",
       "      <th>priority</th>\n",
       "      <th>YearMonth</th>\n",
       "      <th>section</th>\n",
       "      <th>sections</th>\n",
       "      <th>valid_sections</th>\n",
       "      <th>L1</th>\n",
       "      <th>L2</th>\n",
       "      <th>L3</th>\n",
       "      <th>L4</th>\n",
       "    </tr>\n",
       "  </thead>\n",
       "  <tbody>\n",
       "    <tr>\n",
       "      <th>0</th>\n",
       "      <td>https://www.newsday.com/sports/basketball/knic...</td>\n",
       "      <td>monthly</td>\n",
       "      <td>0.9</td>\n",
       "      <td>2012-01-01</td>\n",
       "      <td>sports</td>\n",
       "      <td>sports/basketball/knicks</td>\n",
       "      <td>[sports, basketball, knicks]</td>\n",
       "      <td>sports</td>\n",
       "      <td>basketball</td>\n",
       "      <td>knicks</td>\n",
       "      <td>None</td>\n",
       "    </tr>\n",
       "    <tr>\n",
       "      <th>0</th>\n",
       "      <td>https://www.newsday.com/news/new-york/kelly-be...</td>\n",
       "      <td>monthly</td>\n",
       "      <td>0.9</td>\n",
       "      <td>2012-02-01</td>\n",
       "      <td>news</td>\n",
       "      <td>news/new-york</td>\n",
       "      <td>[news, new-york]</td>\n",
       "      <td>sports</td>\n",
       "      <td>basketball</td>\n",
       "      <td>knicks</td>\n",
       "      <td>None</td>\n",
       "    </tr>\n",
       "    <tr>\n",
       "      <th>0</th>\n",
       "      <td>https://www.newsday.com/news/world/review-targ...</td>\n",
       "      <td>monthly</td>\n",
       "      <td>0.9</td>\n",
       "      <td>2012-03-01</td>\n",
       "      <td>news</td>\n",
       "      <td>news/world</td>\n",
       "      <td>[news, world]</td>\n",
       "      <td>sports</td>\n",
       "      <td>basketball</td>\n",
       "      <td>knicks</td>\n",
       "      <td>None</td>\n",
       "    </tr>\n",
       "    <tr>\n",
       "      <th>0</th>\n",
       "      <td>https://www.newsday.com/opinion/feud-unproduct...</td>\n",
       "      <td>monthly</td>\n",
       "      <td>0.9</td>\n",
       "      <td>2012-04-01</td>\n",
       "      <td>opinion</td>\n",
       "      <td>opinion</td>\n",
       "      <td>[opinion]</td>\n",
       "      <td>sports</td>\n",
       "      <td>basketball</td>\n",
       "      <td>knicks</td>\n",
       "      <td>None</td>\n",
       "    </tr>\n",
       "    <tr>\n",
       "      <th>0</th>\n",
       "      <td>https://www.newsday.com/sports/football/jets/u...</td>\n",
       "      <td>monthly</td>\n",
       "      <td>0.9</td>\n",
       "      <td>2012-05-01</td>\n",
       "      <td>sports</td>\n",
       "      <td>sports/football/jets</td>\n",
       "      <td>[sports, football, jets]</td>\n",
       "      <td>sports</td>\n",
       "      <td>basketball</td>\n",
       "      <td>knicks</td>\n",
       "      <td>None</td>\n",
       "    </tr>\n",
       "    <tr>\n",
       "      <th>...</th>\n",
       "      <td>...</td>\n",
       "      <td>...</td>\n",
       "      <td>...</td>\n",
       "      <td>...</td>\n",
       "      <td>...</td>\n",
       "      <td>...</td>\n",
       "      <td>...</td>\n",
       "      <td>...</td>\n",
       "      <td>...</td>\n",
       "      <td>...</td>\n",
       "      <td>...</td>\n",
       "    </tr>\n",
       "    <tr>\n",
       "      <th>5727</th>\n",
       "      <td>https://www.newsday.com/news/region-state/indi...</td>\n",
       "      <td>monthly</td>\n",
       "      <td>0.9</td>\n",
       "      <td>2012-03-01</td>\n",
       "      <td>news</td>\n",
       "      <td>news/region-state</td>\n",
       "      <td>[news, region-state]</td>\n",
       "      <td>news</td>\n",
       "      <td>new-york</td>\n",
       "      <td>None</td>\n",
       "      <td>None</td>\n",
       "    </tr>\n",
       "    <tr>\n",
       "      <th>5728</th>\n",
       "      <td>https://www.newsday.com/sports/soccer/u-s-notc...</td>\n",
       "      <td>monthly</td>\n",
       "      <td>0.9</td>\n",
       "      <td>2012-03-01</td>\n",
       "      <td>sports</td>\n",
       "      <td>sports/soccer</td>\n",
       "      <td>[sports, soccer]</td>\n",
       "      <td>sports</td>\n",
       "      <td>high-school</td>\n",
       "      <td>boys-basketball</td>\n",
       "      <td>None</td>\n",
       "    </tr>\n",
       "    <tr>\n",
       "      <th>5729</th>\n",
       "      <td>https://www.newsday.com/long-island/suffolk/2-...</td>\n",
       "      <td>monthly</td>\n",
       "      <td>0.9</td>\n",
       "      <td>2012-03-01</td>\n",
       "      <td>long-island</td>\n",
       "      <td>long-island/suffolk</td>\n",
       "      <td>[long-island, suffolk]</td>\n",
       "      <td>sports</td>\n",
       "      <td>baseball</td>\n",
       "      <td>mets</td>\n",
       "      <td>None</td>\n",
       "    </tr>\n",
       "    <tr>\n",
       "      <th>5730</th>\n",
       "      <td>https://www.newsday.com/entertainment/theater/...</td>\n",
       "      <td>monthly</td>\n",
       "      <td>0.9</td>\n",
       "      <td>2012-03-01</td>\n",
       "      <td>entertainment</td>\n",
       "      <td>entertainment/theater</td>\n",
       "      <td>[entertainment, theater]</td>\n",
       "      <td>news</td>\n",
       "      <td>nation</td>\n",
       "      <td>None</td>\n",
       "      <td>None</td>\n",
       "    </tr>\n",
       "    <tr>\n",
       "      <th>5731</th>\n",
       "      <td>https://www.newsday.com/opinion/too-bad-olympi...</td>\n",
       "      <td>monthly</td>\n",
       "      <td>0.9</td>\n",
       "      <td>2012-03-01</td>\n",
       "      <td>opinion</td>\n",
       "      <td>opinion</td>\n",
       "      <td>[opinion]</td>\n",
       "      <td>sports</td>\n",
       "      <td>high-school</td>\n",
       "      <td>boys-basketball</td>\n",
       "      <td>None</td>\n",
       "    </tr>\n",
       "  </tbody>\n",
       "</table>\n",
       "<p>370122 rows × 11 columns</p>\n",
       "</div>"
      ],
      "text/plain": [
       "                                                    url changefreq  priority  \\\n",
       "0     https://www.newsday.com/sports/basketball/knic...    monthly       0.9   \n",
       "0     https://www.newsday.com/news/new-york/kelly-be...    monthly       0.9   \n",
       "0     https://www.newsday.com/news/world/review-targ...    monthly       0.9   \n",
       "0     https://www.newsday.com/opinion/feud-unproduct...    monthly       0.9   \n",
       "0     https://www.newsday.com/sports/football/jets/u...    monthly       0.9   \n",
       "...                                                 ...        ...       ...   \n",
       "5727  https://www.newsday.com/news/region-state/indi...    monthly       0.9   \n",
       "5728  https://www.newsday.com/sports/soccer/u-s-notc...    monthly       0.9   \n",
       "5729  https://www.newsday.com/long-island/suffolk/2-...    monthly       0.9   \n",
       "5730  https://www.newsday.com/entertainment/theater/...    monthly       0.9   \n",
       "5731  https://www.newsday.com/opinion/too-bad-olympi...    monthly       0.9   \n",
       "\n",
       "      YearMonth        section                  sections  \\\n",
       "0    2012-01-01         sports  sports/basketball/knicks   \n",
       "0    2012-02-01           news             news/new-york   \n",
       "0    2012-03-01           news                news/world   \n",
       "0    2012-04-01        opinion                   opinion   \n",
       "0    2012-05-01         sports      sports/football/jets   \n",
       "...         ...            ...                       ...   \n",
       "5727 2012-03-01           news         news/region-state   \n",
       "5728 2012-03-01         sports             sports/soccer   \n",
       "5729 2012-03-01    long-island       long-island/suffolk   \n",
       "5730 2012-03-01  entertainment     entertainment/theater   \n",
       "5731 2012-03-01        opinion                   opinion   \n",
       "\n",
       "                    valid_sections      L1           L2               L3    L4  \n",
       "0     [sports, basketball, knicks]  sports   basketball           knicks  None  \n",
       "0                 [news, new-york]  sports   basketball           knicks  None  \n",
       "0                    [news, world]  sports   basketball           knicks  None  \n",
       "0                        [opinion]  sports   basketball           knicks  None  \n",
       "0         [sports, football, jets]  sports   basketball           knicks  None  \n",
       "...                            ...     ...          ...              ...   ...  \n",
       "5727          [news, region-state]    news     new-york             None  None  \n",
       "5728              [sports, soccer]  sports  high-school  boys-basketball  None  \n",
       "5729        [long-island, suffolk]  sports     baseball             mets  None  \n",
       "5730      [entertainment, theater]    news       nation             None  None  \n",
       "5731                     [opinion]  sports  high-school  boys-basketball  None  \n",
       "\n",
       "[370122 rows x 11 columns]"
      ]
     },
     "execution_count": 385,
     "metadata": {},
     "output_type": "execute_result"
    }
   ],
   "source": [
    "sections_df = pd.DataFrame(sitemap_df['valid_sections'].tolist())\n",
    "sections_df.columns = ['L1', 'L2', 'L3', 'L4']\n",
    "sitemap_df.merge(sections_df, left_index=True, right_index=True)"
   ]
  },
  {
   "cell_type": "code",
   "execution_count": 386,
   "metadata": {},
   "outputs": [
    {
     "data": {
      "text/plain": [
       "url               https://www.newsday.com/news/new-york/buy-a-mi...\n",
       "changefreq                                                  monthly\n",
       "priority                                                        0.9\n",
       "YearMonth                                       2012-02-01 00:00:00\n",
       "section                                                        news\n",
       "sections                                              news/new-york\n",
       "valid_sections                                     [news, new-york]\n",
       "Name: 555, dtype: object"
      ]
     },
     "execution_count": 386,
     "metadata": {},
     "output_type": "execute_result"
    }
   ],
   "source": [
    "sitemap_df.iloc[5727]"
   ]
  },
  {
   "cell_type": "markdown",
   "metadata": {},
   "source": [
    "We can see that obituaries were at one point moved under their own section of coronavirus news. That's heartbreaking. "
   ]
  },
  {
   "cell_type": "code",
   "execution_count": 375,
   "metadata": {},
   "outputs": [],
   "source": [
    "sections = pd.DataFrame(sitemap_df['valid_sections'].tolist())"
   ]
  },
  {
   "cell_type": "code",
   "execution_count": 383,
   "metadata": {},
   "outputs": [
    {
     "data": {
      "text/html": [
       "<div>\n",
       "<style scoped>\n",
       "    .dataframe tbody tr th:only-of-type {\n",
       "        vertical-align: middle;\n",
       "    }\n",
       "\n",
       "    .dataframe tbody tr th {\n",
       "        vertical-align: top;\n",
       "    }\n",
       "\n",
       "    .dataframe thead th {\n",
       "        text-align: right;\n",
       "    }\n",
       "</style>\n",
       "<table border=\"1\" class=\"dataframe\">\n",
       "  <thead>\n",
       "    <tr style=\"text-align: right;\">\n",
       "      <th></th>\n",
       "      <th>0</th>\n",
       "      <th>1</th>\n",
       "      <th>2</th>\n",
       "      <th>3</th>\n",
       "    </tr>\n",
       "  </thead>\n",
       "  <tbody>\n",
       "    <tr>\n",
       "      <th>326214</th>\n",
       "      <td>news</td>\n",
       "      <td>health</td>\n",
       "      <td>coronavirus</td>\n",
       "      <td>obituaries</td>\n",
       "    </tr>\n",
       "    <tr>\n",
       "      <th>326223</th>\n",
       "      <td>news</td>\n",
       "      <td>health</td>\n",
       "      <td>coronavirus</td>\n",
       "      <td>obituaries</td>\n",
       "    </tr>\n",
       "    <tr>\n",
       "      <th>326226</th>\n",
       "      <td>news</td>\n",
       "      <td>health</td>\n",
       "      <td>coronavirus</td>\n",
       "      <td>obituaries</td>\n",
       "    </tr>\n",
       "    <tr>\n",
       "      <th>326259</th>\n",
       "      <td>news</td>\n",
       "      <td>health</td>\n",
       "      <td>coronavirus</td>\n",
       "      <td>obituaries</td>\n",
       "    </tr>\n",
       "    <tr>\n",
       "      <th>326260</th>\n",
       "      <td>news</td>\n",
       "      <td>health</td>\n",
       "      <td>coronavirus</td>\n",
       "      <td>obituaries</td>\n",
       "    </tr>\n",
       "    <tr>\n",
       "      <th>...</th>\n",
       "      <td>...</td>\n",
       "      <td>...</td>\n",
       "      <td>...</td>\n",
       "      <td>...</td>\n",
       "    </tr>\n",
       "    <tr>\n",
       "      <th>346688</th>\n",
       "      <td>news</td>\n",
       "      <td>health</td>\n",
       "      <td>coronavirus</td>\n",
       "      <td>obituaries</td>\n",
       "    </tr>\n",
       "    <tr>\n",
       "      <th>346691</th>\n",
       "      <td>news</td>\n",
       "      <td>health</td>\n",
       "      <td>coronavirus</td>\n",
       "      <td>obituaries</td>\n",
       "    </tr>\n",
       "    <tr>\n",
       "      <th>346814</th>\n",
       "      <td>news</td>\n",
       "      <td>health</td>\n",
       "      <td>coronavirus</td>\n",
       "      <td>obituaries</td>\n",
       "    </tr>\n",
       "    <tr>\n",
       "      <th>350188</th>\n",
       "      <td>news</td>\n",
       "      <td>health</td>\n",
       "      <td>coronavirus</td>\n",
       "      <td>obituaries</td>\n",
       "    </tr>\n",
       "    <tr>\n",
       "      <th>351164</th>\n",
       "      <td>news</td>\n",
       "      <td>health</td>\n",
       "      <td>coronavirus</td>\n",
       "      <td>obituaries</td>\n",
       "    </tr>\n",
       "  </tbody>\n",
       "</table>\n",
       "<p>171 rows × 4 columns</p>\n",
       "</div>"
      ],
      "text/plain": [
       "           0       1            2           3\n",
       "326214  news  health  coronavirus  obituaries\n",
       "326223  news  health  coronavirus  obituaries\n",
       "326226  news  health  coronavirus  obituaries\n",
       "326259  news  health  coronavirus  obituaries\n",
       "326260  news  health  coronavirus  obituaries\n",
       "...      ...     ...          ...         ...\n",
       "346688  news  health  coronavirus  obituaries\n",
       "346691  news  health  coronavirus  obituaries\n",
       "346814  news  health  coronavirus  obituaries\n",
       "350188  news  health  coronavirus  obituaries\n",
       "351164  news  health  coronavirus  obituaries\n",
       "\n",
       "[171 rows x 4 columns]"
      ]
     },
     "execution_count": 383,
     "metadata": {},
     "output_type": "execute_result"
    }
   ],
   "source": [
    "sections[sections[3]=='obituaries']"
   ]
  },
  {
   "cell_type": "code",
   "execution_count": 341,
   "metadata": {},
   "outputs": [],
   "source": [
    "sitemap_df['section'] = sitemap_df['url'].apply(get_section)"
   ]
  },
  {
   "cell_type": "code",
   "execution_count": 343,
   "metadata": {},
   "outputs": [
    {
     "data": {
      "text/plain": [
       "sports             100911\n",
       "long-island         79971\n",
       "news                68850\n",
       "opinion             31013\n",
       "entertainment       30119\n",
       "lifestyle           28858\n",
       "business            20317\n",
       "classifieds          8668\n",
       "travel               1169\n",
       "services              128\n",
       "911-anniversary       114\n",
       "Unknown                 4\n",
       "Name: section, dtype: int64"
      ]
     },
     "execution_count": 343,
     "metadata": {},
     "output_type": "execute_result"
    }
   ],
   "source": [
    "sitemap_df['section'].value_counts()"
   ]
  },
  {
   "cell_type": "code",
   "execution_count": 320,
   "metadata": {},
   "outputs": [
    {
     "data": {
      "text/html": [
       "<div>\n",
       "<style scoped>\n",
       "    .dataframe tbody tr th:only-of-type {\n",
       "        vertical-align: middle;\n",
       "    }\n",
       "\n",
       "    .dataframe tbody tr th {\n",
       "        vertical-align: top;\n",
       "    }\n",
       "\n",
       "    .dataframe thead th {\n",
       "        text-align: right;\n",
       "    }\n",
       "</style>\n",
       "<table border=\"1\" class=\"dataframe\">\n",
       "  <thead>\n",
       "    <tr style=\"text-align: right;\">\n",
       "      <th></th>\n",
       "      <th>loc</th>\n",
       "      <th>changefreq</th>\n",
       "      <th>priority</th>\n",
       "      <th>YearMonth</th>\n",
       "      <th>section</th>\n",
       "      <th>subsection</th>\n",
       "    </tr>\n",
       "  </thead>\n",
       "  <tbody>\n",
       "    <tr>\n",
       "      <th>1207</th>\n",
       "      <td>https://www.newsday.com/services/newsday-llc-p...</td>\n",
       "      <td>monthly</td>\n",
       "      <td>0.9</td>\n",
       "      <td>2022-02-01</td>\n",
       "      <td>services</td>\n",
       "      <td>newsday-llc-privacy-policy-fasg61nc</td>\n",
       "    </tr>\n",
       "    <tr>\n",
       "      <th>1208</th>\n",
       "      <td>https://www.newsday.com/services/newsday-llc-p...</td>\n",
       "      <td>monthly</td>\n",
       "      <td>0.9</td>\n",
       "      <td>2022-02-01</td>\n",
       "      <td>services</td>\n",
       "      <td>newsday-llc-privacy-policy-fasg61nc</td>\n",
       "    </tr>\n",
       "  </tbody>\n",
       "</table>\n",
       "</div>"
      ],
      "text/plain": [
       "                                                    loc changefreq  priority  \\\n",
       "1207  https://www.newsday.com/services/newsday-llc-p...    monthly       0.9   \n",
       "1208  https://www.newsday.com/services/newsday-llc-p...    monthly       0.9   \n",
       "\n",
       "      YearMonth   section                           subsection  \n",
       "1207 2022-02-01  services  newsday-llc-privacy-policy-fasg61nc  \n",
       "1208 2022-02-01  services  newsday-llc-privacy-policy-fasg61nc  "
      ]
     },
     "execution_count": 320,
     "metadata": {},
     "output_type": "execute_result"
    }
   ],
   "source": [
    "sitemap_df[sitemap_df['loc'].str.contains(\"newsday-llc-privacy-policy-fasg61nc\")]"
   ]
  },
  {
   "cell_type": "markdown",
   "metadata": {},
   "source": [
    "Under these loc tags are actual article locations. These will let us see and download the raw html text of the articles. "
   ]
  },
  {
   "cell_type": "code",
   "execution_count": 92,
   "metadata": {},
   "outputs": [
    {
     "data": {
      "text/plain": [
       "<Element '{http://www.sitemaps.org/schemas/sitemap/0.9}urlset' at 0x7fcdf8ae9ad0>"
      ]
     },
     "execution_count": 92,
     "metadata": {},
     "output_type": "execute_result"
    }
   ],
   "source": [
    "article_urls = etree.fromstring(m.content.decode(\"utf-8\"))\n",
    "article_urls"
   ]
  },
  {
   "cell_type": "code",
   "execution_count": 117,
   "metadata": {},
   "outputs": [
    {
     "name": "stdout",
     "output_type": "stream",
     "text": [
      "Defaulting to user installation because normal site-packages is not writeable\n",
      "Collecting networkx\n",
      "  Downloading networkx-2.8.5-py3-none-any.whl (2.0 MB)\n",
      "\u001b[2K     \u001b[90m━━━━━━━━━━━━━━━━━━━━━━━━━━━━━━━━━━━━━━━━\u001b[0m \u001b[32m2.0/2.0 MB\u001b[0m \u001b[31m12.4 MB/s\u001b[0m eta \u001b[36m0:00:00\u001b[0m00:01\u001b[0m00:01\u001b[0m\n",
      "\u001b[?25hInstalling collected packages: networkx\n",
      "Successfully installed networkx-2.8.5\n",
      "\u001b[33mWARNING: You are using pip version 22.0.4; however, version 22.2.2 is available.\n",
      "You should consider upgrading via the '/usr/local/bin/python -m pip install --upgrade pip' command.\u001b[0m\u001b[33m\n",
      "\u001b[0mNote: you may need to restart the kernel to use updated packages.\n"
     ]
    }
   ],
   "source": [
    "%pip install networkx"
   ]
  },
  {
   "cell_type": "code",
   "execution_count": 98,
   "metadata": {},
   "outputs": [],
   "source": [
    "from collections import Counter"
   ]
  },
  {
   "cell_type": "markdown",
   "metadata": {},
   "source": [
    "We can see something interesting just looking at the sections identified by the url; Sports outnumbers the second most common section (long-island) by 2:1! "
   ]
  },
  {
   "cell_type": "code",
   "execution_count": 128,
   "metadata": {},
   "outputs": [
    {
     "name": "stdout",
     "output_type": "stream",
     "text": [
      "0 https:\n",
      "1 \n",
      "2 www.newsday.com\n",
      "3 long-island\n",
      "4 suffolk\n",
      "5 protest-off-key-tikki-bar-cinco-de-mayo-patchogue-rgfnh3o1\n"
     ]
    }
   ],
   "source": [
    "for i, f in enumerate(u[0].text.split('/')):\n",
    "    print(i, f)"
   ]
  },
  {
   "cell_type": "code",
   "execution_count": 120,
   "metadata": {},
   "outputs": [
    {
     "data": {
      "text/plain": [
       "6"
      ]
     },
     "execution_count": 120,
     "metadata": {},
     "output_type": "execute_result"
    }
   ],
   "source": [
    "len(u[0].text.split('/'))"
   ]
  },
  {
   "cell_type": "code",
   "execution_count": 116,
   "metadata": {},
   "outputs": [
    {
     "data": {
      "text/plain": [
       "Counter({'college': 34,\n",
       "         'nassau': 46,\n",
       "         'education': 21,\n",
       "         'baseball': 206,\n",
       "         'high-school': 127,\n",
       "         'suffolk': 69,\n",
       "         'region-state': 28,\n",
       "         'columnists': 83,\n",
       "         'hockey': 144,\n",
       "         'editorials': 26,\n",
       "         'the-point': 21,\n",
       "         'lgbtq-pride-month-h4rgvviq': 1,\n",
       "         'golf': 19,\n",
       "         'football': 54,\n",
       "         'weather': 33,\n",
       "         'transportation': 8,\n",
       "         'celebrities': 25,\n",
       "         'crime': 81,\n",
       "         'media': 15,\n",
       "         'womens-sports': 19,\n",
       "         'soccer': 31,\n",
       "         'long-island-events': 14,\n",
       "         'commentary': 34,\n",
       "         'tennis': 18,\n",
       "         'letters': 31,\n",
       "         'restaurants': 27,\n",
       "         'prologis-warehouse-grumman-bethpage-ida-tax-breaks-ttb53zl8': 1,\n",
       "         'jersey-mikes-subs-bohemia-normandie-inn-torn-down-wul8jes1': 1,\n",
       "         'real-estate': 22,\n",
       "         'tv': 35,\n",
       "         'new-york': 16,\n",
       "         'family': 12,\n",
       "         'horse-racing': 35,\n",
       "         'ground-zero-recovery-anniversary-memorial-ulqgly41': 1,\n",
       "         'holidays': 2,\n",
       "         'towns': 14,\n",
       "         'health': 26,\n",
       "         'fashion-and-shopping': 12,\n",
       "         'basketball': 65,\n",
       "         'motor-racing': 6,\n",
       "         'baby-animals-wildlife-rehabilitators-orphaned-spring-q0fmekcp': 1,\n",
       "         'music': 18,\n",
       "         'nation': 13,\n",
       "         'movies': 16,\n",
       "         'bethpage-air-show-jones-beach-wt1q95xt': 1,\n",
       "         'li-life': 18,\n",
       "         'lottery': 2,\n",
       "         'boxing': 13,\n",
       "         'recreation': 16,\n",
       "         'pinelawn-memorial-park-cemetery-veterans-project-wn2080zw': 1,\n",
       "         'world': 2,\n",
       "         'school-massacre-religion-faithful-direct-action-not-thought-and-prayers-dlvsvo79': 1,\n",
       "         'hamptons-memorial-day-travel-summer-restaurants-hotels-vtv88mee': 1,\n",
       "         'books': 7,\n",
       "         'baby-formula-price-gouging-warning-letitia-james-qv3halx4': 1,\n",
       "         'bethpage-air-show-jones-beach-tvlp4kxf': 1,\n",
       "         'retirement': 14,\n",
       "         'obituaries': 9,\n",
       "         'suffolk-county-sheriffs-office-memorial-fhr7uwyb': 1,\n",
       "         'history': 1,\n",
       "         'blue-angels-bethpage-air-show-republic-airport-ibop6k69': 1,\n",
       "         'mixed-martial-arts': 11,\n",
       "         'environment': 2,\n",
       "         'theater': 14,\n",
       "         'myrtle-beach-cape-may-virginia-beach-cape-cod-national-seashore-maine-beaches-e9frvh2w': 1,\n",
       "         'erap-rent-relief-hempstead-help-dgv0i9ti': 1,\n",
       "         'how-to-save-money-on-summer-vacation-tftopjv0': 1,\n",
       "         'north-shore-university-hospital-northwell-dejana-foundation-toylfxup': 1,\n",
       "         'chembio-malaysia-covid-tests-hiv-manufacturing-f0lzn5gj': 1,\n",
       "         'intoxicated-drivers-boaters-memorial-day-police-enforcement-fu0yb77t': 1,\n",
       "         'school-security-long-island-texas-mass-shooting-lfiwob19': 1,\n",
       "         'ben-elias-clothing-jobs-layoffs-sr7p2tgc': 1,\n",
       "         'employment-jobless-hiring-workers-labor-rhxvyr8j': 1,\n",
       "         'long-island-getaways': 8,\n",
       "         'mask-wearing-covid-restaurants-bassett-nys-qvtb6huh': 1,\n",
       "         'monkeypox-covid-plague-bassett-health-commissioner-v5rf9r2c': 1,\n",
       "         'politics': 34,\n",
       "         'ida-tax-breaks-warehouse-hartz-mountain-venture-one-udte9bva': 1,\n",
       "         'southern-state-parkway-fatal-crash-sb3uxwpf': 1,\n",
       "         'bethpage-air-show-jessy-panzer-lineup-memorial-day-weekend-jones-beach-ofo8o4g6': 1,\n",
       "         'antique-vintage-glass-bay-bottles-mike-cavanaugh-k8yk1pgz': 1,\n",
       "         'long-island-sound-cleanup-funding-gheem42k': 1,\n",
       "         'religion': 2,\n",
       "         'formula-shortage-breastfeeding-long-island-ii5gffmr': 1,\n",
       "         'local': 5,\n",
       "         'judge-helen-voutsinas-state-appellate-court-iqau4kxq': 1,\n",
       "         'pot-marijuana-cannabis-farms-license-yzvuomf4': 1,\n",
       "         'cpi-aero-nyse-otc-delisting-sec-financials-qqdacs94': 1,\n",
       "         'ida-tax-breaks-melville-hotel-marriott-residence-inn-qttrvtt2': 1,\n",
       "         'shark-tank-the-players-trunk-college-athletes-o587s5sz': 1,\n",
       "         'volunteer-drivers-road-to-recovery-american-cancer-society-gtsdtswi': 1,\n",
       "         'gas-prices-long-island-btciu8lb': 1,\n",
       "         'employment-hiring-jobs-oc6ypn0o': 1,\n",
       "         'celtics-heat-game-2-jayson-tatum-gofs9dhn': 1,\n",
       "         'what-is-causing-the-baby-formula-shortage-x63yaqc2': 1,\n",
       "         'business-events-classes-long-island-kmkhc1g6': 1,\n",
       "         'coinbase-crypto-bankruptcy-coke-gamers-agxrs21q': 1,\n",
       "         'covid-19-infection-judges-retreat-montauk-resort-v3dgqdvw': 1,\n",
       "         'inflation-minimum-wage-food-stamps-hkftdzse': 1,\n",
       "         'amazon-fresh-oceanside-hiring-uw4k1sm2': 1,\n",
       "         'sba-funds-committed-to-all-eligible-borrowers-of-covid-disaster-loans-cvbjmpee': 1,\n",
       "         'slant-fin-steel-equities-ida-tax-breaks-factory-vdizryby': 1,\n",
       "         'amazon-human-rights-complaint-pregnant-disabled-ehs7sj5i': 1,\n",
       "         'rockaways-beach-guide-things-to-do-rockaway-hotel-beach-97th-street-tacoway-beach-rippers-i96078': 1,\n",
       "         'baby-formula-shortage-foreign-import-un0druu8': 1,\n",
       "         'influencer-lessons-monetize-hobbies-i90vxqqy': 1,\n",
       "         'technology': 4,\n",
       "         'inflation-consumer-prices-prediction-new-york-fed-fjv84fwo': 1,\n",
       "         'long-island-homes-for-sale-mortgage-rates-pmg5q9iv': 1,\n",
       "         'banking-underserved-communities-of-color-l5qu152f': 1,\n",
       "         'apprentices-jos-employment-metal-refinisher-unions-u4zcb17y': 1,\n",
       "         'baby-formula-white-house-abbott-agreement-island-harvest-collection-drive-bxhofyb9': 1,\n",
       "         'sports-briefs-fj1hlvbp': 1,\n",
       "         'sba-small-business-lia-hofstra-pae45vgw': 1,\n",
       "         'sweetgreen-fast-casual-salad-chain-woodbury-garden-city-jjphau2x': 1,\n",
       "         'podcasts-long-island-mccann-1-800-flowers-rechler-lia-mooch-francesa-lohan-xmoo23d8': 1,\n",
       "         'shopping-boutiques-specialty-shops-nv6t8dk5': 1,\n",
       "         'new-york-state-long-island-nyc-upstate-saratoga-livingston-syracuse-utica-adirondack-coast-lake-champlain-getaway-mhyl5nqm': 1,\n",
       "         'buffalo-shooting-response-o5amrtw1': 1,\n",
       "         'abortion-rights-rallies-h20ah2tu': 2,\n",
       "         'boat-capsize-waves-rescue-coast-guard-mount-sinai-sjdpoi0u': 1,\n",
       "         'inflation-tariffs-steel-aluminum-raimondo-commerce-xr5ro7n4': 1,\n",
       "         'hotaling-insurance-services-hybrid-work-melville-headquarters-d1yq41qj': 1,\n",
       "         'aarp-liberal-conservative-competitors-hche7y38': 1,\n",
       "         'bingo-wholesale-kosher-market-inwood-exg6zm5d': 1,\n",
       "         'keith-herbert-assistant-managing-editor-investigations-ii5wzs8r': 1,\n",
       "         'baby-names-2021-long-island-new-york-state-mgbsja2o': 1,\n",
       "         'northwell-health-cohen-childrens-medical-center-mental-health-feolz09g': 1,\n",
       "         'lunar-eclipse-super-flower-blood-moon-2022-yx8vxdv6': 1,\n",
       "         'wego-chemicals-great-neck-ida-tax-breaks-utxe2d8u': 1,\n",
       "         'mohonk-mountain-house-saranac-waterfront-lodge-brickinn-geneva-on-the-lake-buttermilk-falls-inn-and-spa-new-york-e04nvl9b': 1,\n",
       "         'health-insurance-lawsuit-emergency-room-medical-bills-c9fqtlg1': 1,\n",
       "         'island-harvest-food-insecurity-pandemic-melville-warehouse-q50r5jxz': 1,\n",
       "         'aew-all-elite-wrestling-rampage-dynamite-owen-hart-mjf-john-silver-cwfyweyw': 1,\n",
       "         'pot-law-marijuana-drug-testing-ddr038b8': 1,\n",
       "         'doordash-dashmart-convenience-stores-long-island-ei5t3w80': 1,\n",
       "         'gas-prices-record-high-inflation-dtcp7qyi': 1,\n",
       "         'lazar-lapenna-little-league-jersey-pay-tribute-ni9li8qy': 1,\n",
       "         'gas-prices-record-long-island-vv2zru7a': 1,\n",
       "         'schumer-opioid-federal-funding-public-health-crisis-mqskehzt': 1,\n",
       "         'foreign-trade-zone-import-taxes-islip-exports-jizkd5n4': 1,\n",
       "         'abortions-new-york-history-y0q7l9lm': 1,\n",
       "         'workers-training-grants-li-development-council-kpt4q354': 1,\n",
       "         'sweetgreen-salads-fast-casual-food-garden-city-gmltzxdr': 1,\n",
       "         'sagtikos-parkway-crash-accident-gzk81ewu': 1,\n",
       "         'eidl-covid-disaster-loans-sba-s6uac16x': 1,\n",
       "         'memorial-wall-names-added-fallen-police-officers-px9nfil9': 1,\n",
       "         'chelsea-soccer-cf7v2o30': 1,\n",
       "         'horse-racing-d-wayne-lukas-kentucky-oaks-sw9fr30p': 1,\n",
       "         'melville-postal-service-fire-vf5vuwj6': 1,\n",
       "         'catalytic-converters-stolen-vehicle-thefts-azt0sdvx': 1,\n",
       "         'national-grid-bribery-scheme-sentencings-b1phftas': 1,\n",
       "         'long-island-home-prices-mortgage-rates-r0mblwgf': 1,\n",
       "         'smart-home-devices-home-insurance-savings-ct70dge3': 1,\n",
       "         'autism-jobs-disability-l5uh2nno': 1,\n",
       "         'voices': 1,\n",
       "         'sexual-assault-babylon-schools-pilot-program-r6ogwiwl': 1,\n",
       "         'woman-honored-rare-diseases-social-worker-nicole-drey-g0ue15ah': 1,\n",
       "         'jersey-mikes-sandwich-shop-subs-fast-food-mch2mrhb': 1,\n",
       "         'apprentice-union-glazier-painters-employment-jobs-kvqxb9gm': 1,\n",
       "         'mothers-day-women-business-owners-working-moms-xp25n6ua': 1,\n",
       "         'seniors-calendar-event-listings-may-8-to-15-j4qzx396': 1,\n",
       "         'saratoga-racetrack-saratoga-springs-new-york-saratoga-performing-arts-center-gideon-putnam-hotel-b4u3u7e2': 1,\n",
       "         'lazar-lapenna-boy-who-died-baseball-tributes-mets-long-beach-n1teuc0p': 1,\n",
       "         'wwe-smackdown-nassau-coliseum-drew-mcintyre-k2tz28l2': 1,\n",
       "         'abortion-out-of-state-new-york-supreme-court-h61c48of': 1,\n",
       "         'business-calendar-long-island-events-kx13ke90': 1,\n",
       "         'long-islanders-supreme-court-draft-opinion-abortion-lbih3jqq': 1,\n",
       "         'johnny-depp-amber-heard-lasuit-ot86q2a7': 1,\n",
       "         'us-citizens-naturalization-ceremony-ducks-stadium-t008d3cd': 1,\n",
       "         'union-starbucks-vote-election-labor-ph85ordm': 1,\n",
       "         'long-island-homes-baiting-hollow-solar-panels-fk4klkc1': 1,\n",
       "         'sba-eidl-covid-19-disaster-loan-small-business-q2vhpb3j': 1,\n",
       "         'ronkonkoma-house-fire-four-dogs-rescue-cszvuyb4': 1,\n",
       "         'long-island-marathon-recap-m74rydk1': 1,\n",
       "         'southern-poverty-law-center-report-ve8h0ryt': 1,\n",
       "         'telemedicine-ukraine-doctors-northwell-health-hrva1q7t': 1})"
      ]
     },
     "execution_count": 116,
     "metadata": {},
     "output_type": "execute_result"
    }
   ],
   "source": [
    "Counter(sub_sections)"
   ]
  },
  {
   "cell_type": "code",
   "execution_count": 113,
   "metadata": {},
   "outputs": [
    {
     "data": {
      "text/plain": [
       "Counter({'sports': 862,\n",
       "         'long-island': 355,\n",
       "         'news': 120,\n",
       "         'opinion': 135,\n",
       "         'entertainment': 116,\n",
       "         'lifestyle': 101,\n",
       "         'business': 65,\n",
       "         'classifieds': 22,\n",
       "         '911-anniversary': 1,\n",
       "         'travel': 13})"
      ]
     },
     "execution_count": 113,
     "metadata": {},
     "output_type": "execute_result"
    }
   ],
   "source": [
    "Counter(sections)"
   ]
  },
  {
   "cell_type": "code",
   "execution_count": 124,
   "metadata": {},
   "outputs": [],
   "source": [
    "sections = []\n",
    "sub_sections = []\n",
    "larger = []\n",
    "for u in article_urls:\n",
    "    sections.append(u[0].text.split('/')[3])\n",
    "    sub_sections.append(u[0].text.split('/')[4])\n",
    "    if len(u[0].text.split('/')) > 6:\n",
    "        larger.append(u[0].text)\n",
    "    if len(u[0].text.split('/')) > 7:\n",
    "        print(u[0].text)"
   ]
  },
  {
   "cell_type": "code",
   "execution_count": 197,
   "metadata": {},
   "outputs": [],
   "source": [
    "articles_df.columns=['source', 'target', 'weight']"
   ]
  },
  {
   "cell_type": "code",
   "execution_count": 198,
   "metadata": {},
   "outputs": [],
   "source": [
    "import networkx as nx"
   ]
  },
  {
   "cell_type": "code",
   "execution_count": 205,
   "metadata": {},
   "outputs": [],
   "source": [
    "G = nx.from_pandas_edgelist(articles_df, edge_attr=\"weight\", create_using=nx.DiGraph())"
   ]
  },
  {
   "cell_type": "code",
   "execution_count": 209,
   "metadata": {},
   "outputs": [
    {
     "data": {
      "text/plain": [
       "AtlasView({'college': {'weight': 34}, 'baseball': {'weight': 206}, 'high-school': {'weight': 127}, 'hockey': {'weight': 144}, 'columnists': {'weight': 54}, 'golf': {'weight': 19}, 'football': {'weight': 54}, 'media': {'weight': 15}, 'womens-sports': {'weight': 19}, 'soccer': {'weight': 31}, 'tennis': {'weight': 18}, 'horse-racing': {'weight': 35}, 'basketball': {'weight': 65}, 'motor-racing': {'weight': 6}, 'boxing': {'weight': 13}, 'mixed-martial-arts': {'weight': 11}, 'local': {'weight': 5}})"
      ]
     },
     "execution_count": 209,
     "metadata": {},
     "output_type": "execute_result"
    }
   ],
   "source": [
    "G['sports']"
   ]
  },
  {
   "cell_type": "code",
   "execution_count": 211,
   "metadata": {},
   "outputs": [
    {
     "name": "stdout",
     "output_type": "stream",
     "text": [
      "Defaulting to user installation because normal site-packages is not writeable\n",
      "Collecting matplotlib\n",
      "  Downloading matplotlib-3.5.3-cp310-cp310-manylinux_2_17_x86_64.manylinux2014_x86_64.whl (11.9 MB)\n",
      "\u001b[2K     \u001b[90m━━━━━━━━━━━━━━━━━━━━━━━━━━━━━━━━━━━━━━━━\u001b[0m \u001b[32m11.9/11.9 MB\u001b[0m \u001b[31m13.9 MB/s\u001b[0m eta \u001b[36m0:00:00\u001b[0m00:01\u001b[0m00:01\u001b[0m\n",
      "\u001b[?25hRequirement already satisfied: numpy>=1.17 in /home/vscode/.local/lib/python3.10/site-packages (from matplotlib) (1.23.2)\n",
      "Collecting cycler>=0.10\n",
      "  Downloading cycler-0.11.0-py3-none-any.whl (6.4 kB)\n",
      "Collecting pillow>=6.2.0\n",
      "  Downloading Pillow-9.2.0-cp310-cp310-manylinux_2_28_x86_64.whl (3.2 MB)\n",
      "\u001b[2K     \u001b[90m━━━━━━━━━━━━━━━━━━━━━━━━━━━━━━━━━━━━━━━━\u001b[0m \u001b[32m3.2/3.2 MB\u001b[0m \u001b[31m16.4 MB/s\u001b[0m eta \u001b[36m0:00:00\u001b[0m00:01\u001b[0m00:01\u001b[0m\n",
      "\u001b[?25hRequirement already satisfied: pyparsing>=2.2.1 in /home/vscode/.local/lib/python3.10/site-packages (from matplotlib) (3.0.9)\n",
      "Requirement already satisfied: packaging>=20.0 in /home/vscode/.local/lib/python3.10/site-packages (from matplotlib) (21.3)\n",
      "Collecting kiwisolver>=1.0.1\n",
      "  Downloading kiwisolver-1.4.4-cp310-cp310-manylinux_2_12_x86_64.manylinux2010_x86_64.whl (1.6 MB)\n",
      "\u001b[2K     \u001b[90m━━━━━━━━━━━━━━━━━━━━━━━━━━━━━━━━━━━━━━━━\u001b[0m \u001b[32m1.6/1.6 MB\u001b[0m \u001b[31m12.9 MB/s\u001b[0m eta \u001b[36m0:00:00\u001b[0m00:01\u001b[0m00:01\u001b[0m\n",
      "\u001b[?25hCollecting fonttools>=4.22.0\n",
      "  Downloading fonttools-4.36.0-py3-none-any.whl (950 kB)\n",
      "\u001b[2K     \u001b[90m━━━━━━━━━━━━━━━━━━━━━━━━━━━━━━━━━━━━━━\u001b[0m \u001b[32m950.4/950.4 KB\u001b[0m \u001b[31m14.3 MB/s\u001b[0m eta \u001b[36m0:00:00\u001b[0ma \u001b[36m0:00:01\u001b[0m\n",
      "\u001b[?25hRequirement already satisfied: python-dateutil>=2.7 in /home/vscode/.local/lib/python3.10/site-packages (from matplotlib) (2.8.2)\n",
      "Requirement already satisfied: six>=1.5 in /home/vscode/.local/lib/python3.10/site-packages (from python-dateutil>=2.7->matplotlib) (1.16.0)\n",
      "Installing collected packages: pillow, kiwisolver, fonttools, cycler, matplotlib\n",
      "Successfully installed cycler-0.11.0 fonttools-4.36.0 kiwisolver-1.4.4 matplotlib-3.5.3 pillow-9.2.0\n",
      "\u001b[33mWARNING: You are using pip version 22.0.4; however, version 22.2.2 is available.\n",
      "You should consider upgrading via the '/usr/local/bin/python -m pip install --upgrade pip' command.\u001b[0m\u001b[33m\n",
      "\u001b[0mNote: you may need to restart the kernel to use updated packages.\n"
     ]
    }
   ],
   "source": [
    "%pip install matplotlib"
   ]
  },
  {
   "cell_type": "code",
   "execution_count": 212,
   "metadata": {},
   "outputs": [
    {
     "data": {
      "image/png": "[encoded data removed]",
      "text/plain": [
       "<Figure size 640x480 with 1 Axes>"
      ]
     },
     "metadata": {},
     "output_type": "display_data"
    }
   ],
   "source": [
    "nx.draw(G)"
   ]
  },
  {
   "cell_type": "code",
   "execution_count": 213,
   "metadata": {},
   "outputs": [
    {
     "name": "stdout",
     "output_type": "stream",
     "text": [
      "Defaulting to user installation because normal site-packages is not writeable\n",
      "Collecting anytree\n",
      "  Downloading anytree-2.8.0-py2.py3-none-any.whl (41 kB)\n",
      "\u001b[2K     \u001b[90m━━━━━━━━━━━━━━━━━━━━━━━━━━━━━━━━━━━━━━━━\u001b[0m \u001b[32m41.7/41.7 KB\u001b[0m \u001b[31m2.5 MB/s\u001b[0m eta \u001b[36m0:00:00\u001b[0m\n",
      "\u001b[?25hRequirement already satisfied: six>=1.9.0 in /home/vscode/.local/lib/python3.10/site-packages (from anytree) (1.16.0)\n",
      "Installing collected packages: anytree\n",
      "Successfully installed anytree-2.8.0\n",
      "\u001b[33mWARNING: You are using pip version 22.0.4; however, version 22.2.2 is available.\n",
      "You should consider upgrading via the '/usr/local/bin/python -m pip install --upgrade pip' command.\u001b[0m\u001b[33m\n",
      "\u001b[0mNote: you may need to restart the kernel to use updated packages.\n"
     ]
    }
   ],
   "source": [
    "%pip install anytree"
   ]
  },
  {
   "cell_type": "code",
   "execution_count": 232,
   "metadata": {},
   "outputs": [],
   "source": [
    "from anytree import Node, RenderTree\n",
    "\n",
    "root = Node(\"newsday\")\n",
    "nodes = dict()\n",
    "\n",
    "for k in c.keys():\n",
    "    n = Node(k[1], parent=root)\n",
    "    nodes[k[1]] = n"
   ]
  },
  {
   "cell_type": "code",
   "execution_count": 236,
   "metadata": {},
   "outputs": [
    {
     "data": {
      "text/plain": [
       "Node('/newsday/sports')"
      ]
     },
     "execution_count": 236,
     "metadata": {},
     "output_type": "execute_result"
    }
   ],
   "source": [
    "nodes[k[0]]"
   ]
  },
  {
   "cell_type": "code",
   "execution_count": 233,
   "metadata": {},
   "outputs": [
    {
     "data": {
      "text/plain": [
       "{'sports': Node('/newsday/sports'),\n",
       " 'long-island': Node('/newsday/long-island'),\n",
       " 'news': Node('/newsday/news'),\n",
       " 'opinion': Node('/newsday/opinion'),\n",
       " 'entertainment': Node('/newsday/entertainment'),\n",
       " 'lifestyle': Node('/newsday/lifestyle'),\n",
       " 'business': Node('/newsday/business'),\n",
       " 'classifieds': Node('/newsday/classifieds'),\n",
       " '911-anniversary': Node('/newsday/911-anniversary'),\n",
       " 'travel': Node('/newsday/travel')}"
      ]
     },
     "execution_count": 233,
     "metadata": {},
     "output_type": "execute_result"
    }
   ],
   "source": [
    "nodes"
   ]
  },
  {
   "cell_type": "code",
   "execution_count": 237,
   "metadata": {},
   "outputs": [],
   "source": [
    "for k in e.keys():\n",
    "    n = Node(k[1], parent=nodes[k[0]])\n",
    "    nodes[k[1]] = n"
   ]
  },
  {
   "cell_type": "code",
   "execution_count": 238,
   "metadata": {},
   "outputs": [
    {
     "name": "stdout",
     "output_type": "stream",
     "text": [
      "Node('/newsday')\n",
      "|-- Node('/newsday/sports')\n",
      "|   |-- Node('/newsday/sports/college')\n",
      "|   |   |-- Node('/newsday/sports/college/college-football')\n",
      "|   |   |-- Node('/newsday/sports/college/hofstra')\n",
      "|   |   |-- Node('/newsday/sports/college/stony-brook')\n",
      "|   |   +-- Node('/newsday/sports/college/college-basketball')\n",
      "|   |-- Node('/newsday/sports/baseball')\n",
      "|   |   |-- Node('/newsday/sports/baseball/mets')\n",
      "|   |   +-- Node('/newsday/sports/baseball/yankees')\n",
      "|   |-- Node('/newsday/sports/high-school')\n",
      "|   |   |-- Node('/newsday/sports/high-school/baseball')\n",
      "|   |   |-- Node('/newsday/sports/high-school/softball')\n",
      "|   |   |-- Node('/newsday/sports/high-school/track')\n",
      "|   |   |-- Node('/newsday/sports/high-school/boys-lacrosse')\n",
      "|   |   |-- Node('/newsday/sports/high-school/girls-lacrosse')\n",
      "|   |   |-- Node('/newsday/sports/high-school/football')\n",
      "|   |   |-- Node('/newsday/sports/high-school/tennis')\n",
      "|   |   |-- Node('/newsday/sports/high-school/badminton')\n",
      "|   |   |-- Node('/newsday/sports/high-school/golf')\n",
      "|   |   |-- Node('/newsday/sports/high-school/girls-basketball')\n",
      "|   |   +-- Node('/newsday/sports/high-school/volleyball')\n",
      "|   |-- Node('/newsday/sports/hockey')\n",
      "|   |   |-- Node('/newsday/sports/hockey/rangers')\n",
      "|   |   +-- Node('/newsday/sports/hockey/islanders')\n",
      "|   |-- Node('/newsday/sports/columnists')\n",
      "|   |   |-- Node('/newsday/sports/columnists/andrew-gross')\n",
      "|   |   |-- Node('/newsday/sports/columnists/david-lennon')\n",
      "|   |   |-- Node('/newsday/sports/columnists/laura-albanese')\n",
      "|   |   |-- Node('/newsday/sports/columnists/bob-glauber')\n",
      "|   |   |-- Node('/newsday/sports/columnists/steve-popper')\n",
      "|   |   |-- Node('/newsday/sports/columnists/dan-janison')\n",
      "|   |   |-- Node('/newsday/sports/columnists/cathy-young')\n",
      "|   |   +-- Node('/newsday/sports/columnists/lane-filler')\n",
      "|   |-- Node('/newsday/sports/golf')\n",
      "|   |-- Node('/newsday/sports/football')\n",
      "|   |   |-- Node('/newsday/sports/football/giants')\n",
      "|   |   +-- Node('/newsday/sports/football/jets')\n",
      "|   |-- Node('/newsday/sports/media')\n",
      "|   |-- Node('/newsday/sports/womens-sports')\n",
      "|   |-- Node('/newsday/sports/soccer')\n",
      "|   |   +-- Node('/newsday/sports/soccer/nycfc')\n",
      "|   |-- Node('/newsday/sports/tennis')\n",
      "|   |-- Node('/newsday/sports/horse-racing')\n",
      "|   |-- Node('/newsday/sports/basketball')\n",
      "|   |   |-- Node('/newsday/sports/basketball/liberty')\n",
      "|   |   |-- Node('/newsday/sports/basketball/knicks')\n",
      "|   |   +-- Node('/newsday/sports/basketball/nets')\n",
      "|   |-- Node('/newsday/sports/motor-racing')\n",
      "|   |-- Node('/newsday/sports/boxing')\n",
      "|   |-- Node('/newsday/sports/mixed-martial-arts')\n",
      "|   +-- Node('/newsday/sports/local')\n",
      "|       +-- Node('/newsday/sports/local/ducks')\n",
      "|-- Node('/newsday/long-island')\n",
      "|   |-- Node('/newsday/long-island/nassau')\n",
      "|   |-- Node('/newsday/long-island/education')\n",
      "|   |   +-- Node('/newsday/long-island/education/graduations')\n",
      "|   |-- Node('/newsday/long-island/suffolk')\n",
      "|   |-- Node('/newsday/long-island/transportation')\n",
      "|   |-- Node('/newsday/long-island/crime')\n",
      "|   |-- Node('/newsday/long-island/towns')\n",
      "|   |-- Node('/newsday/long-island/li-life')\n",
      "|   |-- Node('/newsday/long-island/obituaries')\n",
      "|   |-- Node('/newsday/long-island/history')\n",
      "|   |-- Node('/newsday/long-island/environment')\n",
      "|   |-- Node('/newsday/long-island/politics')\n",
      "|   +-- Node('/newsday/long-island/religion')\n",
      "|-- Node('/newsday/news')\n",
      "|   |-- Node('/newsday/news/region-state')\n",
      "|   |-- Node('/newsday/news/weather')\n",
      "|   |-- Node('/newsday/news/new-york')\n",
      "|   |-- Node('/newsday/news/health')\n",
      "|   |   +-- Node('/newsday/news/health/coronavirus')\n",
      "|   |-- Node('/newsday/news/nation')\n",
      "|   |-- Node('/newsday/news/lottery')\n",
      "|   +-- Node('/newsday/news/world')\n",
      "|-- Node('/newsday/opinion')\n",
      "|   |-- Node('/newsday/opinion/columnists')\n",
      "|   |   +-- Node('/newsday/opinion/columnists/randi-f-marshall')\n",
      "|   |-- Node('/newsday/opinion/editorials')\n",
      "|   |-- Node('/newsday/opinion/the-point')\n",
      "|   |-- Node('/newsday/opinion/commentary')\n",
      "|   |   |-- Node('/newsday/opinion/commentary/guest-essays')\n",
      "|   |   +-- Node('/newsday/opinion/commentary/expressway')\n",
      "|   |-- Node('/newsday/opinion/letters')\n",
      "|   +-- Node('/newsday/opinion/voices')\n",
      "|-- Node('/newsday/entertainment')\n",
      "|   |-- Node('/newsday/entertainment/celebrities')\n",
      "|   |-- Node('/newsday/entertainment/tv')\n",
      "|   |-- Node('/newsday/entertainment/music')\n",
      "|   |-- Node('/newsday/entertainment/movies')\n",
      "|   |-- Node('/newsday/entertainment/books')\n",
      "|   +-- Node('/newsday/entertainment/theater')\n",
      "|-- Node('/newsday/lifestyle')\n",
      "|   |-- Node('/newsday/lifestyle/long-island-events')\n",
      "|   |-- Node('/newsday/lifestyle/restaurants')\n",
      "|   |   +-- Node('/newsday/lifestyle/restaurants/food-and-drink')\n",
      "|   |-- Node('/newsday/lifestyle/family')\n",
      "|   |-- Node('/newsday/lifestyle/holidays')\n",
      "|   |   +-- Node('/newsday/lifestyle/holidays/memorial-day')\n",
      "|   |-- Node('/newsday/lifestyle/fashion-and-shopping')\n",
      "|   |-- Node('/newsday/lifestyle/recreation')\n",
      "|   |-- Node('/newsday/lifestyle/retirement')\n",
      "|   +-- Node('/newsday/lifestyle/columnists')\n",
      "|       |-- Node('/newsday/lifestyle/columnists/marge-perry')\n",
      "|       |-- Node('/newsday/lifestyle/columnists/william-f-b-oreilly')\n",
      "|       |-- Node('/newsday/lifestyle/columnists/barbara-barker')\n",
      "|       |-- Node('/newsday/lifestyle/columnists/michael-dobie')\n",
      "|       +-- Node('/newsday/lifestyle/columnists/anthony-rieber')\n",
      "|-- Node('/newsday/business')\n",
      "|   |-- Node('/newsday/business/columnists')\n",
      "|   |   |-- Node('/newsday/business/columnists/jamie-herzlich')\n",
      "|   |   +-- Node('/newsday/business/columnists/neil-best')\n",
      "|   +-- Node('/newsday/business/technology')\n",
      "|-- Node('/newsday/classifieds')\n",
      "|   +-- Node('/newsday/classifieds/real-estate')\n",
      "|-- Node('/newsday/911-anniversary')\n",
      "+-- Node('/newsday/travel')\n",
      "    +-- Node('/newsday/travel/long-island-getaways')\n"
     ]
    }
   ],
   "source": [
    "import anytree\n",
    "print(RenderTree(root, style=anytree.render.AsciiStyle()))"
   ]
  },
  {
   "cell_type": "code",
   "execution_count": 109,
   "metadata": {},
   "outputs": [
    {
     "data": {
      "text/plain": [
       "'https://www.newsday.com/long-island/suffolk/protest-off-key-tikki-bar-cinco-de-mayo-patchogue-rgfnh3o1'"
      ]
     },
     "execution_count": 109,
     "metadata": {},
     "output_type": "execute_result"
    }
   ],
   "source": [
    "u[0].text"
   ]
  },
  {
   "cell_type": "code",
   "execution_count": 52,
   "metadata": {},
   "outputs": [],
   "source": [
    "(_, _, _, section, subsection, article) = u[0].text.split('/')"
   ]
  },
  {
   "cell_type": "code",
   "execution_count": 56,
   "metadata": {},
   "outputs": [
    {
     "name": "stdout",
     "output_type": "stream",
     "text": [
      "long-island suffolk protest-off-key-tikki-bar-cinco-de-mayo-patchogue-rgfnh3o1\n"
     ]
    }
   ],
   "source": [
    "print(section, subsection, article)"
   ]
  },
  {
   "cell_type": "code",
   "execution_count": 135,
   "metadata": {},
   "outputs": [
    {
     "data": {
      "text/plain": [
       "['https:',\n",
       " '',\n",
       " 'www.newsday.com',\n",
       " 'long-island',\n",
       " 'suffolk',\n",
       " 'protest-off-key-tikki-bar-cinco-de-mayo-patchogue-rgfnh3o1']"
      ]
     },
     "execution_count": 135,
     "metadata": {},
     "output_type": "execute_result"
    }
   ],
   "source": [
    "# build a dataframe? Can we apply the function to each record in parallel? \n",
    "fields = u[0].text.split('/')\n",
    "fields"
   ]
  },
  {
   "cell_type": "code",
   "execution_count": 136,
   "metadata": {},
   "outputs": [
    {
     "name": "stdout",
     "output_type": "stream",
     "text": [
      "('long-island', 'suffolk')\n"
     ]
    }
   ],
   "source": [
    "# have to reduce them two at a time\n",
    "for z in zip(fields[3:-1], fields[4:-1]):\n",
    "    print(z)"
   ]
  },
  {
   "cell_type": "code",
   "execution_count": 143,
   "metadata": {},
   "outputs": [],
   "source": [
    "# alright then... \n",
    "sections = []\n",
    "for u in article_urls:\n",
    "    fields = u[0].text.split('/')\n",
    "    sections.append((\"newsday\", fields[3]))\n"
   ]
  },
  {
   "cell_type": "code",
   "execution_count": 147,
   "metadata": {},
   "outputs": [
    {
     "data": {
      "text/plain": [
       "Counter({('newsday', 'sports'): 862,\n",
       "         ('newsday', 'long-island'): 355,\n",
       "         ('newsday', 'news'): 120,\n",
       "         ('newsday', 'opinion'): 135,\n",
       "         ('newsday', 'entertainment'): 116,\n",
       "         ('newsday', 'lifestyle'): 101,\n",
       "         ('newsday', 'business'): 65,\n",
       "         ('newsday', 'classifieds'): 22,\n",
       "         ('newsday', '911-anniversary'): 1,\n",
       "         ('newsday', 'travel'): 13})"
      ]
     },
     "execution_count": 147,
     "metadata": {},
     "output_type": "execute_result"
    }
   ],
   "source": [
    "c = Counter(sections)\n",
    "c"
   ]
  },
  {
   "cell_type": "code",
   "execution_count": 164,
   "metadata": {},
   "outputs": [],
   "source": [
    "# assemble parents and children\n",
    "edges = []\n",
    "\n",
    "articles = []\n",
    "for u in article_urls:\n",
    "    fields = u[0].text.split('/')\n",
    "    for z in zip(fields[3:-1], fields[4:-1]):\n",
    "        edges.append(z)\n",
    "\n",
    "e = Counter(edges)\n",
    "edges_df = pd.DataFrame(e.keys())\n",
    "edges_df['Values'] = e.values()"
   ]
  },
  {
   "cell_type": "code",
   "execution_count": 152,
   "metadata": {},
   "outputs": [
    {
     "data": {
      "text/html": [
       "<div>\n",
       "<style scoped>\n",
       "    .dataframe tbody tr th:only-of-type {\n",
       "        vertical-align: middle;\n",
       "    }\n",
       "\n",
       "    .dataframe tbody tr th {\n",
       "        vertical-align: top;\n",
       "    }\n",
       "\n",
       "    .dataframe thead th {\n",
       "        text-align: right;\n",
       "    }\n",
       "</style>\n",
       "<table border=\"1\" class=\"dataframe\">\n",
       "  <thead>\n",
       "    <tr style=\"text-align: right;\">\n",
       "      <th></th>\n",
       "      <th>0</th>\n",
       "      <th>1</th>\n",
       "      <th>Values</th>\n",
       "    </tr>\n",
       "  </thead>\n",
       "  <tbody>\n",
       "    <tr>\n",
       "      <th>0</th>\n",
       "      <td>newsday</td>\n",
       "      <td>sports</td>\n",
       "      <td>862</td>\n",
       "    </tr>\n",
       "    <tr>\n",
       "      <th>1</th>\n",
       "      <td>newsday</td>\n",
       "      <td>long-island</td>\n",
       "      <td>355</td>\n",
       "    </tr>\n",
       "    <tr>\n",
       "      <th>2</th>\n",
       "      <td>newsday</td>\n",
       "      <td>news</td>\n",
       "      <td>120</td>\n",
       "    </tr>\n",
       "    <tr>\n",
       "      <th>3</th>\n",
       "      <td>newsday</td>\n",
       "      <td>opinion</td>\n",
       "      <td>135</td>\n",
       "    </tr>\n",
       "    <tr>\n",
       "      <th>4</th>\n",
       "      <td>newsday</td>\n",
       "      <td>entertainment</td>\n",
       "      <td>116</td>\n",
       "    </tr>\n",
       "    <tr>\n",
       "      <th>5</th>\n",
       "      <td>newsday</td>\n",
       "      <td>lifestyle</td>\n",
       "      <td>101</td>\n",
       "    </tr>\n",
       "    <tr>\n",
       "      <th>6</th>\n",
       "      <td>newsday</td>\n",
       "      <td>business</td>\n",
       "      <td>65</td>\n",
       "    </tr>\n",
       "    <tr>\n",
       "      <th>7</th>\n",
       "      <td>newsday</td>\n",
       "      <td>classifieds</td>\n",
       "      <td>22</td>\n",
       "    </tr>\n",
       "    <tr>\n",
       "      <th>8</th>\n",
       "      <td>newsday</td>\n",
       "      <td>911-anniversary</td>\n",
       "      <td>1</td>\n",
       "    </tr>\n",
       "    <tr>\n",
       "      <th>9</th>\n",
       "      <td>newsday</td>\n",
       "      <td>travel</td>\n",
       "      <td>13</td>\n",
       "    </tr>\n",
       "  </tbody>\n",
       "</table>\n",
       "</div>"
      ],
      "text/plain": [
       "         0                1  Values\n",
       "0  newsday           sports     862\n",
       "1  newsday      long-island     355\n",
       "2  newsday             news     120\n",
       "3  newsday          opinion     135\n",
       "4  newsday    entertainment     116\n",
       "5  newsday        lifestyle     101\n",
       "6  newsday         business      65\n",
       "7  newsday      classifieds      22\n",
       "8  newsday  911-anniversary       1\n",
       "9  newsday           travel      13"
      ]
     },
     "execution_count": 152,
     "metadata": {},
     "output_type": "execute_result"
    }
   ],
   "source": [
    "df = pd.DataFrame(c.keys())\n",
    "df['Values'] = c.values()\n",
    "df"
   ]
  },
  {
   "cell_type": "code",
   "execution_count": 167,
   "metadata": {},
   "outputs": [],
   "source": [
    "articles_df = pd.concat([df, edges_df])"
   ]
  },
  {
   "cell_type": "code",
   "execution_count": 170,
   "metadata": {},
   "outputs": [
    {
     "data": {
      "text/html": [
       "<div>\n",
       "<style scoped>\n",
       "    .dataframe tbody tr th:only-of-type {\n",
       "        vertical-align: middle;\n",
       "    }\n",
       "\n",
       "    .dataframe tbody tr th {\n",
       "        vertical-align: top;\n",
       "    }\n",
       "\n",
       "    .dataframe thead th {\n",
       "        text-align: right;\n",
       "    }\n",
       "</style>\n",
       "<table border=\"1\" class=\"dataframe\">\n",
       "  <thead>\n",
       "    <tr style=\"text-align: right;\">\n",
       "      <th></th>\n",
       "      <th>Parent</th>\n",
       "      <th>Child</th>\n",
       "      <th>Values</th>\n",
       "    </tr>\n",
       "  </thead>\n",
       "  <tbody>\n",
       "    <tr>\n",
       "      <th>0</th>\n",
       "      <td>newsday</td>\n",
       "      <td>sports</td>\n",
       "      <td>862</td>\n",
       "    </tr>\n",
       "    <tr>\n",
       "      <th>1</th>\n",
       "      <td>newsday</td>\n",
       "      <td>long-island</td>\n",
       "      <td>355</td>\n",
       "    </tr>\n",
       "    <tr>\n",
       "      <th>2</th>\n",
       "      <td>newsday</td>\n",
       "      <td>news</td>\n",
       "      <td>120</td>\n",
       "    </tr>\n",
       "    <tr>\n",
       "      <th>3</th>\n",
       "      <td>newsday</td>\n",
       "      <td>opinion</td>\n",
       "      <td>135</td>\n",
       "    </tr>\n",
       "    <tr>\n",
       "      <th>4</th>\n",
       "      <td>newsday</td>\n",
       "      <td>entertainment</td>\n",
       "      <td>116</td>\n",
       "    </tr>\n",
       "    <tr>\n",
       "      <th>...</th>\n",
       "      <td>...</td>\n",
       "      <td>...</td>\n",
       "      <td>...</td>\n",
       "    </tr>\n",
       "    <tr>\n",
       "      <th>103</th>\n",
       "      <td>columnists</td>\n",
       "      <td>michael-dobie</td>\n",
       "      <td>3</td>\n",
       "    </tr>\n",
       "    <tr>\n",
       "      <th>104</th>\n",
       "      <td>columnists</td>\n",
       "      <td>anthony-rieber</td>\n",
       "      <td>2</td>\n",
       "    </tr>\n",
       "    <tr>\n",
       "      <th>105</th>\n",
       "      <td>basketball</td>\n",
       "      <td>nets</td>\n",
       "      <td>3</td>\n",
       "    </tr>\n",
       "    <tr>\n",
       "      <th>106</th>\n",
       "      <td>opinion</td>\n",
       "      <td>voices</td>\n",
       "      <td>1</td>\n",
       "    </tr>\n",
       "    <tr>\n",
       "      <th>107</th>\n",
       "      <td>college</td>\n",
       "      <td>college-basketball</td>\n",
       "      <td>1</td>\n",
       "    </tr>\n",
       "  </tbody>\n",
       "</table>\n",
       "<p>118 rows × 3 columns</p>\n",
       "</div>"
      ],
      "text/plain": [
       "         Parent               Child  Values\n",
       "0       newsday              sports     862\n",
       "1       newsday         long-island     355\n",
       "2       newsday                news     120\n",
       "3       newsday             opinion     135\n",
       "4       newsday       entertainment     116\n",
       "..          ...                 ...     ...\n",
       "103  columnists       michael-dobie       3\n",
       "104  columnists      anthony-rieber       2\n",
       "105  basketball                nets       3\n",
       "106     opinion              voices       1\n",
       "107     college  college-basketball       1\n",
       "\n",
       "[118 rows x 3 columns]"
      ]
     },
     "execution_count": 170,
     "metadata": {},
     "output_type": "execute_result"
    }
   ],
   "source": [
    "articles_df.columns = ['Parent', 'Child', 'Values']\n",
    "articles_df"
   ]
  },
  {
   "cell_type": "code",
   "execution_count": 195,
   "metadata": {},
   "outputs": [
    {
     "data": {
      "text/plain": [
       "sports           17\n",
       "columnists       16\n",
       "long-island      12\n",
       "high-school      11\n",
       "newsday          10\n",
       "lifestyle         8\n",
       "news              7\n",
       "opinion           6\n",
       "entertainment     6\n",
       "college           4\n",
       "basketball        3\n",
       "business          2\n",
       "hockey            2\n",
       "football          2\n",
       "baseball          2\n",
       "commentary        2\n",
       "local             1\n",
       "soccer            1\n",
       "travel            1\n",
       "holidays          1\n",
       "restaurants       1\n",
       "health            1\n",
       "classifieds       1\n",
       "education         1\n",
       "Name: Parent, dtype: int64"
      ]
     },
     "execution_count": 195,
     "metadata": {},
     "output_type": "execute_result"
    }
   ],
   "source": [
    "articles_df.Parent.value_counts()"
   ]
  },
  {
   "cell_type": "code",
   "execution_count": 175,
   "metadata": {},
   "outputs": [
    {
     "data": {
      "text/plain": [
       "856"
      ]
     },
     "execution_count": 175,
     "metadata": {},
     "output_type": "execute_result"
    }
   ],
   "source": [
    "articles_df.query(\"\"\"Parent=='sports'\"\"\")['Values'].sum()"
   ]
  },
  {
   "cell_type": "code",
   "execution_count": 156,
   "metadata": {},
   "outputs": [],
   "source": [
    "import plotly.express as px"
   ]
  },
  {
   "cell_type": "code",
   "execution_count": 189,
   "metadata": {},
   "outputs": [
    {
     "data": {
      "application/vnd.plotly.v1+json": {
       "config": {
        "plotlyServerURL": "https://plot.ly"
       },
       "data": [
        {
         "domain": {
          "x": [
           0,
           1
          ],
          "y": [
           0,
           1
          ]
         },
         "hovertemplate": "Child=%{label}<br>Values=%{value}<br>Parent=%{parent}<extra></extra>",
         "labels": [
          "sports",
          "long-island",
          "news",
          "opinion",
          "entertainment",
          "lifestyle",
          "business",
          "classifieds",
          "911-anniversary",
          "travel",
          "college",
          "nassau",
          "education",
          "baseball",
          "mets",
          "yankees",
          "high-school",
          "baseball",
          "suffolk",
          "region-state",
          "columnists",
          "randi-f-marshall",
          "hockey",
          "rangers",
          "editorials",
          "columnists",
          "andrew-gross",
          "the-point",
          "golf",
          "football",
          "giants",
          "weather",
          "transportation",
          "celebrities",
          "college-football",
          "crime",
          "media",
          "womens-sports",
          "soccer",
          "long-island-events",
          "commentary",
          "tennis",
          "letters",
          "restaurants",
          "real-estate",
          "tv",
          "new-york",
          "family",
          "horse-racing",
          "david-lennon",
          "guest-essays",
          "holidays",
          "memorial-day",
          "towns",
          "health",
          "coronavirus",
          "fashion-and-shopping",
          "basketball",
          "hofstra",
          "motor-racing",
          "softball",
          "music",
          "nation",
          "food-and-drink",
          "movies",
          "li-life",
          "lottery",
          "boxing",
          "track",
          "laura-albanese",
          "boys-lacrosse",
          "girls-lacrosse",
          "bob-glauber",
          "recreation",
          "world",
          "books",
          "liberty",
          "jets",
          "steve-popper",
          "retirement",
          "obituaries",
          "football",
          "dan-janison",
          "history",
          "mixed-martial-arts",
          "environment",
          "theater",
          "tennis",
          "badminton",
          "golf",
          "cathy-young",
          "lane-filler",
          "columnists",
          "jamie-herzlich",
          "long-island-getaways",
          "politics",
          "nycfc",
          "neil-best",
          "columnists",
          "marge-perry",
          "religion",
          "local",
          "ducks",
          "knicks",
          "stony-brook",
          "william-f-b-oreilly",
          "graduations",
          "barbara-barker",
          "girls-basketball",
          "technology",
          "volleyball",
          "islanders",
          "expressway",
          "michael-dobie",
          "anthony-rieber",
          "nets",
          "voices",
          "college-basketball"
         ],
         "maxdepth": -1,
         "name": "",
         "parents": [
          "newsday",
          "newsday",
          "newsday",
          "newsday",
          "newsday",
          "newsday",
          "newsday",
          "newsday",
          "newsday",
          "newsday",
          "sports",
          "long-island",
          "long-island",
          "sports",
          "baseball",
          "baseball",
          "sports",
          "high-school",
          "long-island",
          "news",
          "opinion",
          "columnists",
          "sports",
          "hockey",
          "opinion",
          "sports",
          "columnists",
          "opinion",
          "sports",
          "sports",
          "football",
          "news",
          "long-island",
          "entertainment",
          "college",
          "long-island",
          "sports",
          "sports",
          "sports",
          "lifestyle",
          "opinion",
          "sports",
          "opinion",
          "lifestyle",
          "classifieds",
          "entertainment",
          "news",
          "lifestyle",
          "sports",
          "columnists",
          "commentary",
          "lifestyle",
          "holidays",
          "long-island",
          "news",
          "health",
          "lifestyle",
          "sports",
          "college",
          "sports",
          "high-school",
          "entertainment",
          "news",
          "restaurants",
          "entertainment",
          "long-island",
          "news",
          "sports",
          "high-school",
          "columnists",
          "high-school",
          "high-school",
          "columnists",
          "lifestyle",
          "news",
          "entertainment",
          "basketball",
          "football",
          "columnists",
          "lifestyle",
          "long-island",
          "high-school",
          "columnists",
          "long-island",
          "sports",
          "long-island",
          "entertainment",
          "high-school",
          "high-school",
          "high-school",
          "columnists",
          "columnists",
          "business",
          "columnists",
          "travel",
          "long-island",
          "soccer",
          "columnists",
          "lifestyle",
          "columnists",
          "long-island",
          "sports",
          "local",
          "basketball",
          "college",
          "columnists",
          "education",
          "columnists",
          "high-school",
          "business",
          "high-school",
          "hockey",
          "commentary",
          "columnists",
          "columnists",
          "basketball",
          "opinion",
          "college"
         ],
         "type": "treemap",
         "values": [
          862,
          355,
          120,
          135,
          116,
          101,
          65,
          22,
          1,
          13,
          34,
          46,
          21,
          206,
          82,
          81,
          127,
          37,
          69,
          28,
          22,
          5,
          144,
          79,
          26,
          54,
          9,
          21,
          19,
          54,
          23,
          33,
          8,
          25,
          6,
          81,
          15,
          19,
          31,
          14,
          34,
          18,
          31,
          27,
          22,
          35,
          16,
          12,
          35,
          23,
          16,
          2,
          2,
          14,
          26,
          19,
          12,
          65,
          2,
          6,
          17,
          18,
          13,
          5,
          16,
          18,
          2,
          13,
          10,
          3,
          22,
          24,
          4,
          16,
          2,
          7,
          9,
          17,
          2,
          14,
          9,
          1,
          4,
          1,
          11,
          2,
          14,
          3,
          3,
          6,
          5,
          4,
          4,
          4,
          8,
          34,
          6,
          10,
          3,
          3,
          2,
          5,
          4,
          5,
          3,
          1,
          2,
          1,
          1,
          4,
          1,
          9,
          3,
          3,
          2,
          3,
          1,
          1
         ]
        }
       ],
       "layout": {
        "legend": {
         "tracegroupgap": 0
        },
        "margin": {
         "t": 60
        },
        "template": {
         "data": {
          "bar": [
           {
            "error_x": {
             "color": "#2a3f5f"
            },
            "error_y": {
             "color": "#2a3f5f"
            },
            "marker": {
             "line": {
              "color": "#E5ECF6",
              "width": 0.5
             },
             "pattern": {
              "fillmode": "overlay",
              "size": 10,
              "solidity": 0.2
             }
            },
            "type": "bar"
           }
          ],
          "barpolar": [
           {
            "marker": {
             "line": {
              "color": "#E5ECF6",
              "width": 0.5
             },
             "pattern": {
              "fillmode": "overlay",
              "size": 10,
              "solidity": 0.2
             }
            },
            "type": "barpolar"
           }
          ],
          "carpet": [
           {
            "aaxis": {
             "endlinecolor": "#2a3f5f",
             "gridcolor": "white",
             "linecolor": "white",
             "minorgridcolor": "white",
             "startlinecolor": "#2a3f5f"
            },
            "baxis": {
             "endlinecolor": "#2a3f5f",
             "gridcolor": "white",
             "linecolor": "white",
             "minorgridcolor": "white",
             "startlinecolor": "#2a3f5f"
            },
            "type": "carpet"
           }
          ],
          "choropleth": [
           {
            "colorbar": {
             "outlinewidth": 0,
             "ticks": ""
            },
            "type": "choropleth"
           }
          ],
          "contour": [
           {
            "colorbar": {
             "outlinewidth": 0,
             "ticks": ""
            },
            "colorscale": [
             [
              0,
              "#0d0887"
             ],
             [
              0.1111111111111111,
              "#46039f"
             ],
             [
              0.2222222222222222,
              "#7201a8"
             ],
             [
              0.3333333333333333,
              "#9c179e"
             ],
             [
              0.4444444444444444,
              "#bd3786"
             ],
             [
              0.5555555555555556,
              "#d8576b"
             ],
             [
              0.6666666666666666,
              "#ed7953"
             ],
             [
              0.7777777777777778,
              "#fb9f3a"
             ],
             [
              0.8888888888888888,
              "#fdca26"
             ],
             [
              1,
              "#f0f921"
             ]
            ],
            "type": "contour"
           }
          ],
          "contourcarpet": [
           {
            "colorbar": {
             "outlinewidth": 0,
             "ticks": ""
            },
            "type": "contourcarpet"
           }
          ],
          "heatmap": [
           {
            "colorbar": {
             "outlinewidth": 0,
             "ticks": ""
            },
            "colorscale": [
             [
              0,
              "#0d0887"
             ],
             [
              0.1111111111111111,
              "#46039f"
             ],
             [
              0.2222222222222222,
              "#7201a8"
             ],
             [
              0.3333333333333333,
              "#9c179e"
             ],
             [
              0.4444444444444444,
              "#bd3786"
             ],
             [
              0.5555555555555556,
              "#d8576b"
             ],
             [
              0.6666666666666666,
              "#ed7953"
             ],
             [
              0.7777777777777778,
              "#fb9f3a"
             ],
             [
              0.8888888888888888,
              "#fdca26"
             ],
             [
              1,
              "#f0f921"
             ]
            ],
            "type": "heatmap"
           }
          ],
          "heatmapgl": [
           {
            "colorbar": {
             "outlinewidth": 0,
             "ticks": ""
            },
            "colorscale": [
             [
              0,
              "#0d0887"
             ],
             [
              0.1111111111111111,
              "#46039f"
             ],
             [
              0.2222222222222222,
              "#7201a8"
             ],
             [
              0.3333333333333333,
              "#9c179e"
             ],
             [
              0.4444444444444444,
              "#bd3786"
             ],
             [
              0.5555555555555556,
              "#d8576b"
             ],
             [
              0.6666666666666666,
              "#ed7953"
             ],
             [
              0.7777777777777778,
              "#fb9f3a"
             ],
             [
              0.8888888888888888,
              "#fdca26"
             ],
             [
              1,
              "#f0f921"
             ]
            ],
            "type": "heatmapgl"
           }
          ],
          "histogram": [
           {
            "marker": {
             "pattern": {
              "fillmode": "overlay",
              "size": 10,
              "solidity": 0.2
             }
            },
            "type": "histogram"
           }
          ],
          "histogram2d": [
           {
            "colorbar": {
             "outlinewidth": 0,
             "ticks": ""
            },
            "colorscale": [
             [
              0,
              "#0d0887"
             ],
             [
              0.1111111111111111,
              "#46039f"
             ],
             [
              0.2222222222222222,
              "#7201a8"
             ],
             [
              0.3333333333333333,
              "#9c179e"
             ],
             [
              0.4444444444444444,
              "#bd3786"
             ],
             [
              0.5555555555555556,
              "#d8576b"
             ],
             [
              0.6666666666666666,
              "#ed7953"
             ],
             [
              0.7777777777777778,
              "#fb9f3a"
             ],
             [
              0.8888888888888888,
              "#fdca26"
             ],
             [
              1,
              "#f0f921"
             ]
            ],
            "type": "histogram2d"
           }
          ],
          "histogram2dcontour": [
           {
            "colorbar": {
             "outlinewidth": 0,
             "ticks": ""
            },
            "colorscale": [
             [
              0,
              "#0d0887"
             ],
             [
              0.1111111111111111,
              "#46039f"
             ],
             [
              0.2222222222222222,
              "#7201a8"
             ],
             [
              0.3333333333333333,
              "#9c179e"
             ],
             [
              0.4444444444444444,
              "#bd3786"
             ],
             [
              0.5555555555555556,
              "#d8576b"
             ],
             [
              0.6666666666666666,
              "#ed7953"
             ],
             [
              0.7777777777777778,
              "#fb9f3a"
             ],
             [
              0.8888888888888888,
              "#fdca26"
             ],
             [
              1,
              "#f0f921"
             ]
            ],
            "type": "histogram2dcontour"
           }
          ],
          "mesh3d": [
           {
            "colorbar": {
             "outlinewidth": 0,
             "ticks": ""
            },
            "type": "mesh3d"
           }
          ],
          "parcoords": [
           {
            "line": {
             "colorbar": {
              "outlinewidth": 0,
              "ticks": ""
             }
            },
            "type": "parcoords"
           }
          ],
          "pie": [
           {
            "automargin": true,
            "type": "pie"
           }
          ],
          "scatter": [
           {
            "fillpattern": {
             "fillmode": "overlay",
             "size": 10,
             "solidity": 0.2
            },
            "type": "scatter"
           }
          ],
          "scatter3d": [
           {
            "line": {
             "colorbar": {
              "outlinewidth": 0,
              "ticks": ""
             }
            },
            "marker": {
             "colorbar": {
              "outlinewidth": 0,
              "ticks": ""
             }
            },
            "type": "scatter3d"
           }
          ],
          "scattercarpet": [
           {
            "marker": {
             "colorbar": {
              "outlinewidth": 0,
              "ticks": ""
             }
            },
            "type": "scattercarpet"
           }
          ],
          "scattergeo": [
           {
            "marker": {
             "colorbar": {
              "outlinewidth": 0,
              "ticks": ""
             }
            },
            "type": "scattergeo"
           }
          ],
          "scattergl": [
           {
            "marker": {
             "colorbar": {
              "outlinewidth": 0,
              "ticks": ""
             }
            },
            "type": "scattergl"
           }
          ],
          "scattermapbox": [
           {
            "marker": {
             "colorbar": {
              "outlinewidth": 0,
              "ticks": ""
             }
            },
            "type": "scattermapbox"
           }
          ],
          "scatterpolar": [
           {
            "marker": {
             "colorbar": {
              "outlinewidth": 0,
              "ticks": ""
             }
            },
            "type": "scatterpolar"
           }
          ],
          "scatterpolargl": [
           {
            "marker": {
             "colorbar": {
              "outlinewidth": 0,
              "ticks": ""
             }
            },
            "type": "scatterpolargl"
           }
          ],
          "scatterternary": [
           {
            "marker": {
             "colorbar": {
              "outlinewidth": 0,
              "ticks": ""
             }
            },
            "type": "scatterternary"
           }
          ],
          "surface": [
           {
            "colorbar": {
             "outlinewidth": 0,
             "ticks": ""
            },
            "colorscale": [
             [
              0,
              "#0d0887"
             ],
             [
              0.1111111111111111,
              "#46039f"
             ],
             [
              0.2222222222222222,
              "#7201a8"
             ],
             [
              0.3333333333333333,
              "#9c179e"
             ],
             [
              0.4444444444444444,
              "#bd3786"
             ],
             [
              0.5555555555555556,
              "#d8576b"
             ],
             [
              0.6666666666666666,
              "#ed7953"
             ],
             [
              0.7777777777777778,
              "#fb9f3a"
             ],
             [
              0.8888888888888888,
              "#fdca26"
             ],
             [
              1,
              "#f0f921"
             ]
            ],
            "type": "surface"
           }
          ],
          "table": [
           {
            "cells": {
             "fill": {
              "color": "#EBF0F8"
             },
             "line": {
              "color": "white"
             }
            },
            "header": {
             "fill": {
              "color": "#C8D4E3"
             },
             "line": {
              "color": "white"
             }
            },
            "type": "table"
           }
          ]
         },
         "layout": {
          "annotationdefaults": {
           "arrowcolor": "#2a3f5f",
           "arrowhead": 0,
           "arrowwidth": 1
          },
          "autotypenumbers": "strict",
          "coloraxis": {
           "colorbar": {
            "outlinewidth": 0,
            "ticks": ""
           }
          },
          "colorscale": {
           "diverging": [
            [
             0,
             "#8e0152"
            ],
            [
             0.1,
             "#c51b7d"
            ],
            [
             0.2,
             "#de77ae"
            ],
            [
             0.3,
             "#f1b6da"
            ],
            [
             0.4,
             "#fde0ef"
            ],
            [
             0.5,
             "#f7f7f7"
            ],
            [
             0.6,
             "#e6f5d0"
            ],
            [
             0.7,
             "#b8e186"
            ],
            [
             0.8,
             "#7fbc41"
            ],
            [
             0.9,
             "#4d9221"
            ],
            [
             1,
             "#276419"
            ]
           ],
           "sequential": [
            [
             0,
             "#0d0887"
            ],
            [
             0.1111111111111111,
             "#46039f"
            ],
            [
             0.2222222222222222,
             "#7201a8"
            ],
            [
             0.3333333333333333,
             "#9c179e"
            ],
            [
             0.4444444444444444,
             "#bd3786"
            ],
            [
             0.5555555555555556,
             "#d8576b"
            ],
            [
             0.6666666666666666,
             "#ed7953"
            ],
            [
             0.7777777777777778,
             "#fb9f3a"
            ],
            [
             0.8888888888888888,
             "#fdca26"
            ],
            [
             1,
             "#f0f921"
            ]
           ],
           "sequentialminus": [
            [
             0,
             "#0d0887"
            ],
            [
             0.1111111111111111,
             "#46039f"
            ],
            [
             0.2222222222222222,
             "#7201a8"
            ],
            [
             0.3333333333333333,
             "#9c179e"
            ],
            [
             0.4444444444444444,
             "#bd3786"
            ],
            [
             0.5555555555555556,
             "#d8576b"
            ],
            [
             0.6666666666666666,
             "#ed7953"
            ],
            [
             0.7777777777777778,
             "#fb9f3a"
            ],
            [
             0.8888888888888888,
             "#fdca26"
            ],
            [
             1,
             "#f0f921"
            ]
           ]
          },
          "colorway": [
           "#636efa",
           "#EF553B",
           "#00cc96",
           "#ab63fa",
           "#FFA15A",
           "#19d3f3",
           "#FF6692",
           "#B6E880",
           "#FF97FF",
           "#FECB52"
          ],
          "font": {
           "color": "#2a3f5f"
          },
          "geo": {
           "bgcolor": "white",
           "lakecolor": "white",
           "landcolor": "#E5ECF6",
           "showlakes": true,
           "showland": true,
           "subunitcolor": "white"
          },
          "hoverlabel": {
           "align": "left"
          },
          "hovermode": "closest",
          "mapbox": {
           "style": "light"
          },
          "paper_bgcolor": "white",
          "plot_bgcolor": "#E5ECF6",
          "polar": {
           "angularaxis": {
            "gridcolor": "white",
            "linecolor": "white",
            "ticks": ""
           },
           "bgcolor": "#E5ECF6",
           "radialaxis": {
            "gridcolor": "white",
            "linecolor": "white",
            "ticks": ""
           }
          },
          "scene": {
           "xaxis": {
            "backgroundcolor": "#E5ECF6",
            "gridcolor": "white",
            "gridwidth": 2,
            "linecolor": "white",
            "showbackground": true,
            "ticks": "",
            "zerolinecolor": "white"
           },
           "yaxis": {
            "backgroundcolor": "#E5ECF6",
            "gridcolor": "white",
            "gridwidth": 2,
            "linecolor": "white",
            "showbackground": true,
            "ticks": "",
            "zerolinecolor": "white"
           },
           "zaxis": {
            "backgroundcolor": "#E5ECF6",
            "gridcolor": "white",
            "gridwidth": 2,
            "linecolor": "white",
            "showbackground": true,
            "ticks": "",
            "zerolinecolor": "white"
           }
          },
          "shapedefaults": {
           "line": {
            "color": "#2a3f5f"
           }
          },
          "ternary": {
           "aaxis": {
            "gridcolor": "white",
            "linecolor": "white",
            "ticks": ""
           },
           "baxis": {
            "gridcolor": "white",
            "linecolor": "white",
            "ticks": ""
           },
           "bgcolor": "#E5ECF6",
           "caxis": {
            "gridcolor": "white",
            "linecolor": "white",
            "ticks": ""
           }
          },
          "title": {
           "x": 0.05
          },
          "xaxis": {
           "automargin": true,
           "gridcolor": "white",
           "linecolor": "white",
           "ticks": "",
           "title": {
            "standoff": 15
           },
           "zerolinecolor": "white",
           "zerolinewidth": 2
          },
          "yaxis": {
           "automargin": true,
           "gridcolor": "white",
           "linecolor": "white",
           "ticks": "",
           "title": {
            "standoff": 15
           },
           "zerolinecolor": "white",
           "zerolinewidth": 2
          }
         }
        }
       }
      },
      "text/html": [
       "<div>                            <div id=\"e9897fb1-c3e5-4462-a7ce-bea6d5befc9b\" class=\"plotly-graph-div\" style=\"height:525px; width:100%;\"></div>            <script type=\"text/javascript\">                require([\"plotly\"], function(Plotly) {                    window.PLOTLYENV=window.PLOTLYENV || {};                                    if (document.getElementById(\"e9897fb1-c3e5-4462-a7ce-bea6d5befc9b\")) {                    Plotly.newPlot(                        \"e9897fb1-c3e5-4462-a7ce-bea6d5befc9b\",                        [{\"domain\":{\"x\":[0.0,1.0],\"y\":[0.0,1.0]},\"hovertemplate\":\"Child=%{label}<br>Values=%{value}<br>Parent=%{parent}<extra></extra>\",\"labels\":[\"sports\",\"long-island\",\"news\",\"opinion\",\"entertainment\",\"lifestyle\",\"business\",\"classifieds\",\"911-anniversary\",\"travel\",\"college\",\"nassau\",\"education\",\"baseball\",\"mets\",\"yankees\",\"high-school\",\"baseball\",\"suffolk\",\"region-state\",\"columnists\",\"randi-f-marshall\",\"hockey\",\"rangers\",\"editorials\",\"columnists\",\"andrew-gross\",\"the-point\",\"golf\",\"football\",\"giants\",\"weather\",\"transportation\",\"celebrities\",\"college-football\",\"crime\",\"media\",\"womens-sports\",\"soccer\",\"long-island-events\",\"commentary\",\"tennis\",\"letters\",\"restaurants\",\"real-estate\",\"tv\",\"new-york\",\"family\",\"horse-racing\",\"david-lennon\",\"guest-essays\",\"holidays\",\"memorial-day\",\"towns\",\"health\",\"coronavirus\",\"fashion-and-shopping\",\"basketball\",\"hofstra\",\"motor-racing\",\"softball\",\"music\",\"nation\",\"food-and-drink\",\"movies\",\"li-life\",\"lottery\",\"boxing\",\"track\",\"laura-albanese\",\"boys-lacrosse\",\"girls-lacrosse\",\"bob-glauber\",\"recreation\",\"world\",\"books\",\"liberty\",\"jets\",\"steve-popper\",\"retirement\",\"obituaries\",\"football\",\"dan-janison\",\"history\",\"mixed-martial-arts\",\"environment\",\"theater\",\"tennis\",\"badminton\",\"golf\",\"cathy-young\",\"lane-filler\",\"columnists\",\"jamie-herzlich\",\"long-island-getaways\",\"politics\",\"nycfc\",\"neil-best\",\"columnists\",\"marge-perry\",\"religion\",\"local\",\"ducks\",\"knicks\",\"stony-brook\",\"william-f-b-oreilly\",\"graduations\",\"barbara-barker\",\"girls-basketball\",\"technology\",\"volleyball\",\"islanders\",\"expressway\",\"michael-dobie\",\"anthony-rieber\",\"nets\",\"voices\",\"college-basketball\"],\"maxdepth\":-1,\"name\":\"\",\"parents\":[\"newsday\",\"newsday\",\"newsday\",\"newsday\",\"newsday\",\"newsday\",\"newsday\",\"newsday\",\"newsday\",\"newsday\",\"sports\",\"long-island\",\"long-island\",\"sports\",\"baseball\",\"baseball\",\"sports\",\"high-school\",\"long-island\",\"news\",\"opinion\",\"columnists\",\"sports\",\"hockey\",\"opinion\",\"sports\",\"columnists\",\"opinion\",\"sports\",\"sports\",\"football\",\"news\",\"long-island\",\"entertainment\",\"college\",\"long-island\",\"sports\",\"sports\",\"sports\",\"lifestyle\",\"opinion\",\"sports\",\"opinion\",\"lifestyle\",\"classifieds\",\"entertainment\",\"news\",\"lifestyle\",\"sports\",\"columnists\",\"commentary\",\"lifestyle\",\"holidays\",\"long-island\",\"news\",\"health\",\"lifestyle\",\"sports\",\"college\",\"sports\",\"high-school\",\"entertainment\",\"news\",\"restaurants\",\"entertainment\",\"long-island\",\"news\",\"sports\",\"high-school\",\"columnists\",\"high-school\",\"high-school\",\"columnists\",\"lifestyle\",\"news\",\"entertainment\",\"basketball\",\"football\",\"columnists\",\"lifestyle\",\"long-island\",\"high-school\",\"columnists\",\"long-island\",\"sports\",\"long-island\",\"entertainment\",\"high-school\",\"high-school\",\"high-school\",\"columnists\",\"columnists\",\"business\",\"columnists\",\"travel\",\"long-island\",\"soccer\",\"columnists\",\"lifestyle\",\"columnists\",\"long-island\",\"sports\",\"local\",\"basketball\",\"college\",\"columnists\",\"education\",\"columnists\",\"high-school\",\"business\",\"high-school\",\"hockey\",\"commentary\",\"columnists\",\"columnists\",\"basketball\",\"opinion\",\"college\"],\"values\":[862,355,120,135,116,101,65,22,1,13,34,46,21,206,82,81,127,37,69,28,22,5,144,79,26,54,9,21,19,54,23,33,8,25,6,81,15,19,31,14,34,18,31,27,22,35,16,12,35,23,16,2,2,14,26,19,12,65,2,6,17,18,13,5,16,18,2,13,10,3,22,24,4,16,2,7,9,17,2,14,9,1,4,1,11,2,14,3,3,6,5,4,4,4,8,34,6,10,3,3,2,5,4,5,3,1,2,1,1,4,1,9,3,3,2,3,1,1],\"type\":\"treemap\"}],                        {\"template\":{\"data\":{\"histogram2dcontour\":[{\"type\":\"histogram2dcontour\",\"colorbar\":{\"outlinewidth\":0,\"ticks\":\"\"},\"colorscale\":[[0.0,\"#0d0887\"],[0.1111111111111111,\"#46039f\"],[0.2222222222222222,\"#7201a8\"],[0.3333333333333333,\"#9c179e\"],[0.4444444444444444,\"#bd3786\"],[0.5555555555555556,\"#d8576b\"],[0.6666666666666666,\"#ed7953\"],[0.7777777777777778,\"#fb9f3a\"],[0.8888888888888888,\"#fdca26\"],[1.0,\"#f0f921\"]]}],\"choropleth\":[{\"type\":\"choropleth\",\"colorbar\":{\"outlinewidth\":0,\"ticks\":\"\"}}],\"histogram2d\":[{\"type\":\"histogram2d\",\"colorbar\":{\"outlinewidth\":0,\"ticks\":\"\"},\"colorscale\":[[0.0,\"#0d0887\"],[0.1111111111111111,\"#46039f\"],[0.2222222222222222,\"#7201a8\"],[0.3333333333333333,\"#9c179e\"],[0.4444444444444444,\"#bd3786\"],[0.5555555555555556,\"#d8576b\"],[0.6666666666666666,\"#ed7953\"],[0.7777777777777778,\"#fb9f3a\"],[0.8888888888888888,\"#fdca26\"],[1.0,\"#f0f921\"]]}],\"heatmap\":[{\"type\":\"heatmap\",\"colorbar\":{\"outlinewidth\":0,\"ticks\":\"\"},\"colorscale\":[[0.0,\"#0d0887\"],[0.1111111111111111,\"#46039f\"],[0.2222222222222222,\"#7201a8\"],[0.3333333333333333,\"#9c179e\"],[0.4444444444444444,\"#bd3786\"],[0.5555555555555556,\"#d8576b\"],[0.6666666666666666,\"#ed7953\"],[0.7777777777777778,\"#fb9f3a\"],[0.8888888888888888,\"#fdca26\"],[1.0,\"#f0f921\"]]}],\"heatmapgl\":[{\"type\":\"heatmapgl\",\"colorbar\":{\"outlinewidth\":0,\"ticks\":\"\"},\"colorscale\":[[0.0,\"#0d0887\"],[0.1111111111111111,\"#46039f\"],[0.2222222222222222,\"#7201a8\"],[0.3333333333333333,\"#9c179e\"],[0.4444444444444444,\"#bd3786\"],[0.5555555555555556,\"#d8576b\"],[0.6666666666666666,\"#ed7953\"],[0.7777777777777778,\"#fb9f3a\"],[0.8888888888888888,\"#fdca26\"],[1.0,\"#f0f921\"]]}],\"contourcarpet\":[{\"type\":\"contourcarpet\",\"colorbar\":{\"outlinewidth\":0,\"ticks\":\"\"}}],\"contour\":[{\"type\":\"contour\",\"colorbar\":{\"outlinewidth\":0,\"ticks\":\"\"},\"colorscale\":[[0.0,\"#0d0887\"],[0.1111111111111111,\"#46039f\"],[0.2222222222222222,\"#7201a8\"],[0.3333333333333333,\"#9c179e\"],[0.4444444444444444,\"#bd3786\"],[0.5555555555555556,\"#d8576b\"],[0.6666666666666666,\"#ed7953\"],[0.7777777777777778,\"#fb9f3a\"],[0.8888888888888888,\"#fdca26\"],[1.0,\"#f0f921\"]]}],\"surface\":[{\"type\":\"surface\",\"colorbar\":{\"outlinewidth\":0,\"ticks\":\"\"},\"colorscale\":[[0.0,\"#0d0887\"],[0.1111111111111111,\"#46039f\"],[0.2222222222222222,\"#7201a8\"],[0.3333333333333333,\"#9c179e\"],[0.4444444444444444,\"#bd3786\"],[0.5555555555555556,\"#d8576b\"],[0.6666666666666666,\"#ed7953\"],[0.7777777777777778,\"#fb9f3a\"],[0.8888888888888888,\"#fdca26\"],[1.0,\"#f0f921\"]]}],\"mesh3d\":[{\"type\":\"mesh3d\",\"colorbar\":{\"outlinewidth\":0,\"ticks\":\"\"}}],\"scatter\":[{\"fillpattern\":{\"fillmode\":\"overlay\",\"size\":10,\"solidity\":0.2},\"type\":\"scatter\"}],\"parcoords\":[{\"type\":\"parcoords\",\"line\":{\"colorbar\":{\"outlinewidth\":0,\"ticks\":\"\"}}}],\"scatterpolargl\":[{\"type\":\"scatterpolargl\",\"marker\":{\"colorbar\":{\"outlinewidth\":0,\"ticks\":\"\"}}}],\"bar\":[{\"error_x\":{\"color\":\"#2a3f5f\"},\"error_y\":{\"color\":\"#2a3f5f\"},\"marker\":{\"line\":{\"color\":\"#E5ECF6\",\"width\":0.5},\"pattern\":{\"fillmode\":\"overlay\",\"size\":10,\"solidity\":0.2}},\"type\":\"bar\"}],\"scattergeo\":[{\"type\":\"scattergeo\",\"marker\":{\"colorbar\":{\"outlinewidth\":0,\"ticks\":\"\"}}}],\"scatterpolar\":[{\"type\":\"scatterpolar\",\"marker\":{\"colorbar\":{\"outlinewidth\":0,\"ticks\":\"\"}}}],\"histogram\":[{\"marker\":{\"pattern\":{\"fillmode\":\"overlay\",\"size\":10,\"solidity\":0.2}},\"type\":\"histogram\"}],\"scattergl\":[{\"type\":\"scattergl\",\"marker\":{\"colorbar\":{\"outlinewidth\":0,\"ticks\":\"\"}}}],\"scatter3d\":[{\"type\":\"scatter3d\",\"line\":{\"colorbar\":{\"outlinewidth\":0,\"ticks\":\"\"}},\"marker\":{\"colorbar\":{\"outlinewidth\":0,\"ticks\":\"\"}}}],\"scattermapbox\":[{\"type\":\"scattermapbox\",\"marker\":{\"colorbar\":{\"outlinewidth\":0,\"ticks\":\"\"}}}],\"scatterternary\":[{\"type\":\"scatterternary\",\"marker\":{\"colorbar\":{\"outlinewidth\":0,\"ticks\":\"\"}}}],\"scattercarpet\":[{\"type\":\"scattercarpet\",\"marker\":{\"colorbar\":{\"outlinewidth\":0,\"ticks\":\"\"}}}],\"carpet\":[{\"aaxis\":{\"endlinecolor\":\"#2a3f5f\",\"gridcolor\":\"white\",\"linecolor\":\"white\",\"minorgridcolor\":\"white\",\"startlinecolor\":\"#2a3f5f\"},\"baxis\":{\"endlinecolor\":\"#2a3f5f\",\"gridcolor\":\"white\",\"linecolor\":\"white\",\"minorgridcolor\":\"white\",\"startlinecolor\":\"#2a3f5f\"},\"type\":\"carpet\"}],\"table\":[{\"cells\":{\"fill\":{\"color\":\"#EBF0F8\"},\"line\":{\"color\":\"white\"}},\"header\":{\"fill\":{\"color\":\"#C8D4E3\"},\"line\":{\"color\":\"white\"}},\"type\":\"table\"}],\"barpolar\":[{\"marker\":{\"line\":{\"color\":\"#E5ECF6\",\"width\":0.5},\"pattern\":{\"fillmode\":\"overlay\",\"size\":10,\"solidity\":0.2}},\"type\":\"barpolar\"}],\"pie\":[{\"automargin\":true,\"type\":\"pie\"}]},\"layout\":{\"autotypenumbers\":\"strict\",\"colorway\":[\"#636efa\",\"#EF553B\",\"#00cc96\",\"#ab63fa\",\"#FFA15A\",\"#19d3f3\",\"#FF6692\",\"#B6E880\",\"#FF97FF\",\"#FECB52\"],\"font\":{\"color\":\"#2a3f5f\"},\"hovermode\":\"closest\",\"hoverlabel\":{\"align\":\"left\"},\"paper_bgcolor\":\"white\",\"plot_bgcolor\":\"#E5ECF6\",\"polar\":{\"bgcolor\":\"#E5ECF6\",\"angularaxis\":{\"gridcolor\":\"white\",\"linecolor\":\"white\",\"ticks\":\"\"},\"radialaxis\":{\"gridcolor\":\"white\",\"linecolor\":\"white\",\"ticks\":\"\"}},\"ternary\":{\"bgcolor\":\"#E5ECF6\",\"aaxis\":{\"gridcolor\":\"white\",\"linecolor\":\"white\",\"ticks\":\"\"},\"baxis\":{\"gridcolor\":\"white\",\"linecolor\":\"white\",\"ticks\":\"\"},\"caxis\":{\"gridcolor\":\"white\",\"linecolor\":\"white\",\"ticks\":\"\"}},\"coloraxis\":{\"colorbar\":{\"outlinewidth\":0,\"ticks\":\"\"}},\"colorscale\":{\"sequential\":[[0.0,\"#0d0887\"],[0.1111111111111111,\"#46039f\"],[0.2222222222222222,\"#7201a8\"],[0.3333333333333333,\"#9c179e\"],[0.4444444444444444,\"#bd3786\"],[0.5555555555555556,\"#d8576b\"],[0.6666666666666666,\"#ed7953\"],[0.7777777777777778,\"#fb9f3a\"],[0.8888888888888888,\"#fdca26\"],[1.0,\"#f0f921\"]],\"sequentialminus\":[[0.0,\"#0d0887\"],[0.1111111111111111,\"#46039f\"],[0.2222222222222222,\"#7201a8\"],[0.3333333333333333,\"#9c179e\"],[0.4444444444444444,\"#bd3786\"],[0.5555555555555556,\"#d8576b\"],[0.6666666666666666,\"#ed7953\"],[0.7777777777777778,\"#fb9f3a\"],[0.8888888888888888,\"#fdca26\"],[1.0,\"#f0f921\"]],\"diverging\":[[0,\"#8e0152\"],[0.1,\"#c51b7d\"],[0.2,\"#de77ae\"],[0.3,\"#f1b6da\"],[0.4,\"#fde0ef\"],[0.5,\"#f7f7f7\"],[0.6,\"#e6f5d0\"],[0.7,\"#b8e186\"],[0.8,\"#7fbc41\"],[0.9,\"#4d9221\"],[1,\"#276419\"]]},\"xaxis\":{\"gridcolor\":\"white\",\"linecolor\":\"white\",\"ticks\":\"\",\"title\":{\"standoff\":15},\"zerolinecolor\":\"white\",\"automargin\":true,\"zerolinewidth\":2},\"yaxis\":{\"gridcolor\":\"white\",\"linecolor\":\"white\",\"ticks\":\"\",\"title\":{\"standoff\":15},\"zerolinecolor\":\"white\",\"automargin\":true,\"zerolinewidth\":2},\"scene\":{\"xaxis\":{\"backgroundcolor\":\"#E5ECF6\",\"gridcolor\":\"white\",\"linecolor\":\"white\",\"showbackground\":true,\"ticks\":\"\",\"zerolinecolor\":\"white\",\"gridwidth\":2},\"yaxis\":{\"backgroundcolor\":\"#E5ECF6\",\"gridcolor\":\"white\",\"linecolor\":\"white\",\"showbackground\":true,\"ticks\":\"\",\"zerolinecolor\":\"white\",\"gridwidth\":2},\"zaxis\":{\"backgroundcolor\":\"#E5ECF6\",\"gridcolor\":\"white\",\"linecolor\":\"white\",\"showbackground\":true,\"ticks\":\"\",\"zerolinecolor\":\"white\",\"gridwidth\":2}},\"shapedefaults\":{\"line\":{\"color\":\"#2a3f5f\"}},\"annotationdefaults\":{\"arrowcolor\":\"#2a3f5f\",\"arrowhead\":0,\"arrowwidth\":1},\"geo\":{\"bgcolor\":\"white\",\"landcolor\":\"#E5ECF6\",\"subunitcolor\":\"white\",\"showland\":true,\"showlakes\":true,\"lakecolor\":\"white\"},\"title\":{\"x\":0.05},\"mapbox\":{\"style\":\"light\"}}},\"legend\":{\"tracegroupgap\":0},\"margin\":{\"t\":60}},                        {\"responsive\": true}                    ).then(function(){\n",
       "                            \n",
       "var gd = document.getElementById('e9897fb1-c3e5-4462-a7ce-bea6d5befc9b');\n",
       "var x = new MutationObserver(function (mutations, observer) {{\n",
       "        var display = window.getComputedStyle(gd).display;\n",
       "        if (!display || display === 'none') {{\n",
       "            console.log([gd, 'removed!']);\n",
       "            Plotly.purge(gd);\n",
       "            observer.disconnect();\n",
       "        }}\n",
       "}});\n",
       "\n",
       "// Listen for the removal of the full notebook cells\n",
       "var notebookContainer = gd.closest('#notebook-container');\n",
       "if (notebookContainer) {{\n",
       "    x.observe(notebookContainer, {childList: true});\n",
       "}}\n",
       "\n",
       "// Listen for the clearing of the current output cell\n",
       "var outputEl = gd.closest('.output');\n",
       "if (outputEl) {{\n",
       "    x.observe(outputEl, {childList: true});\n",
       "}}\n",
       "\n",
       "                        })                };                });            </script>        </div>"
      ]
     },
     "metadata": {},
     "output_type": "display_data"
    }
   ],
   "source": [
    "\n",
    "fig = px.treemap(\n",
    "    articles_df,\n",
    "    names='Child',\n",
    "    parents='Parent',\n",
    "    values='Values',\n",
    "    maxdepth=-1\n",
    ")\n",
    "fig.show()"
   ]
  },
  {
   "cell_type": "code",
   "execution_count": 194,
   "metadata": {},
   "outputs": [
    {
     "data": {
      "application/vnd.plotly.v1+json": {
       "config": {
        "plotlyServerURL": "https://plot.ly"
       },
       "data": [
        {
         "labels": [
          "nassau",
          "education",
          "suffolk",
          "transportation",
          "crime",
          "towns",
          "li-life",
          "obituaries",
          "history",
          "environment",
          "politics",
          "religion"
         ],
         "parents": [
          "long-island",
          "long-island",
          "long-island",
          "long-island",
          "long-island",
          "long-island",
          "long-island",
          "long-island",
          "long-island",
          "long-island",
          "long-island",
          "long-island"
         ],
         "type": "treemap",
         "values": [
          46,
          21,
          69,
          8,
          81,
          14,
          18,
          9,
          1,
          2,
          34,
          2
         ]
        }
       ],
       "layout": {
        "template": {
         "data": {
          "bar": [
           {
            "error_x": {
             "color": "#2a3f5f"
            },
            "error_y": {
             "color": "#2a3f5f"
            },
            "marker": {
             "line": {
              "color": "#E5ECF6",
              "width": 0.5
             },
             "pattern": {
              "fillmode": "overlay",
              "size": 10,
              "solidity": 0.2
             }
            },
            "type": "bar"
           }
          ],
          "barpolar": [
           {
            "marker": {
             "line": {
              "color": "#E5ECF6",
              "width": 0.5
             },
             "pattern": {
              "fillmode": "overlay",
              "size": 10,
              "solidity": 0.2
             }
            },
            "type": "barpolar"
           }
          ],
          "carpet": [
           {
            "aaxis": {
             "endlinecolor": "#2a3f5f",
             "gridcolor": "white",
             "linecolor": "white",
             "minorgridcolor": "white",
             "startlinecolor": "#2a3f5f"
            },
            "baxis": {
             "endlinecolor": "#2a3f5f",
             "gridcolor": "white",
             "linecolor": "white",
             "minorgridcolor": "white",
             "startlinecolor": "#2a3f5f"
            },
            "type": "carpet"
           }
          ],
          "choropleth": [
           {
            "colorbar": {
             "outlinewidth": 0,
             "ticks": ""
            },
            "type": "choropleth"
           }
          ],
          "contour": [
           {
            "colorbar": {
             "outlinewidth": 0,
             "ticks": ""
            },
            "colorscale": [
             [
              0,
              "#0d0887"
             ],
             [
              0.1111111111111111,
              "#46039f"
             ],
             [
              0.2222222222222222,
              "#7201a8"
             ],
             [
              0.3333333333333333,
              "#9c179e"
             ],
             [
              0.4444444444444444,
              "#bd3786"
             ],
             [
              0.5555555555555556,
              "#d8576b"
             ],
             [
              0.6666666666666666,
              "#ed7953"
             ],
             [
              0.7777777777777778,
              "#fb9f3a"
             ],
             [
              0.8888888888888888,
              "#fdca26"
             ],
             [
              1,
              "#f0f921"
             ]
            ],
            "type": "contour"
           }
          ],
          "contourcarpet": [
           {
            "colorbar": {
             "outlinewidth": 0,
             "ticks": ""
            },
            "type": "contourcarpet"
           }
          ],
          "heatmap": [
           {
            "colorbar": {
             "outlinewidth": 0,
             "ticks": ""
            },
            "colorscale": [
             [
              0,
              "#0d0887"
             ],
             [
              0.1111111111111111,
              "#46039f"
             ],
             [
              0.2222222222222222,
              "#7201a8"
             ],
             [
              0.3333333333333333,
              "#9c179e"
             ],
             [
              0.4444444444444444,
              "#bd3786"
             ],
             [
              0.5555555555555556,
              "#d8576b"
             ],
             [
              0.6666666666666666,
              "#ed7953"
             ],
             [
              0.7777777777777778,
              "#fb9f3a"
             ],
             [
              0.8888888888888888,
              "#fdca26"
             ],
             [
              1,
              "#f0f921"
             ]
            ],
            "type": "heatmap"
           }
          ],
          "heatmapgl": [
           {
            "colorbar": {
             "outlinewidth": 0,
             "ticks": ""
            },
            "colorscale": [
             [
              0,
              "#0d0887"
             ],
             [
              0.1111111111111111,
              "#46039f"
             ],
             [
              0.2222222222222222,
              "#7201a8"
             ],
             [
              0.3333333333333333,
              "#9c179e"
             ],
             [
              0.4444444444444444,
              "#bd3786"
             ],
             [
              0.5555555555555556,
              "#d8576b"
             ],
             [
              0.6666666666666666,
              "#ed7953"
             ],
             [
              0.7777777777777778,
              "#fb9f3a"
             ],
             [
              0.8888888888888888,
              "#fdca26"
             ],
             [
              1,
              "#f0f921"
             ]
            ],
            "type": "heatmapgl"
           }
          ],
          "histogram": [
           {
            "marker": {
             "pattern": {
              "fillmode": "overlay",
              "size": 10,
              "solidity": 0.2
             }
            },
            "type": "histogram"
           }
          ],
          "histogram2d": [
           {
            "colorbar": {
             "outlinewidth": 0,
             "ticks": ""
            },
            "colorscale": [
             [
              0,
              "#0d0887"
             ],
             [
              0.1111111111111111,
              "#46039f"
             ],
             [
              0.2222222222222222,
              "#7201a8"
             ],
             [
              0.3333333333333333,
              "#9c179e"
             ],
             [
              0.4444444444444444,
              "#bd3786"
             ],
             [
              0.5555555555555556,
              "#d8576b"
             ],
             [
              0.6666666666666666,
              "#ed7953"
             ],
             [
              0.7777777777777778,
              "#fb9f3a"
             ],
             [
              0.8888888888888888,
              "#fdca26"
             ],
             [
              1,
              "#f0f921"
             ]
            ],
            "type": "histogram2d"
           }
          ],
          "histogram2dcontour": [
           {
            "colorbar": {
             "outlinewidth": 0,
             "ticks": ""
            },
            "colorscale": [
             [
              0,
              "#0d0887"
             ],
             [
              0.1111111111111111,
              "#46039f"
             ],
             [
              0.2222222222222222,
              "#7201a8"
             ],
             [
              0.3333333333333333,
              "#9c179e"
             ],
             [
              0.4444444444444444,
              "#bd3786"
             ],
             [
              0.5555555555555556,
              "#d8576b"
             ],
             [
              0.6666666666666666,
              "#ed7953"
             ],
             [
              0.7777777777777778,
              "#fb9f3a"
             ],
             [
              0.8888888888888888,
              "#fdca26"
             ],
             [
              1,
              "#f0f921"
             ]
            ],
            "type": "histogram2dcontour"
           }
          ],
          "mesh3d": [
           {
            "colorbar": {
             "outlinewidth": 0,
             "ticks": ""
            },
            "type": "mesh3d"
           }
          ],
          "parcoords": [
           {
            "line": {
             "colorbar": {
              "outlinewidth": 0,
              "ticks": ""
             }
            },
            "type": "parcoords"
           }
          ],
          "pie": [
           {
            "automargin": true,
            "type": "pie"
           }
          ],
          "scatter": [
           {
            "fillpattern": {
             "fillmode": "overlay",
             "size": 10,
             "solidity": 0.2
            },
            "type": "scatter"
           }
          ],
          "scatter3d": [
           {
            "line": {
             "colorbar": {
              "outlinewidth": 0,
              "ticks": ""
             }
            },
            "marker": {
             "colorbar": {
              "outlinewidth": 0,
              "ticks": ""
             }
            },
            "type": "scatter3d"
           }
          ],
          "scattercarpet": [
           {
            "marker": {
             "colorbar": {
              "outlinewidth": 0,
              "ticks": ""
             }
            },
            "type": "scattercarpet"
           }
          ],
          "scattergeo": [
           {
            "marker": {
             "colorbar": {
              "outlinewidth": 0,
              "ticks": ""
             }
            },
            "type": "scattergeo"
           }
          ],
          "scattergl": [
           {
            "marker": {
             "colorbar": {
              "outlinewidth": 0,
              "ticks": ""
             }
            },
            "type": "scattergl"
           }
          ],
          "scattermapbox": [
           {
            "marker": {
             "colorbar": {
              "outlinewidth": 0,
              "ticks": ""
             }
            },
            "type": "scattermapbox"
           }
          ],
          "scatterpolar": [
           {
            "marker": {
             "colorbar": {
              "outlinewidth": 0,
              "ticks": ""
             }
            },
            "type": "scatterpolar"
           }
          ],
          "scatterpolargl": [
           {
            "marker": {
             "colorbar": {
              "outlinewidth": 0,
              "ticks": ""
             }
            },
            "type": "scatterpolargl"
           }
          ],
          "scatterternary": [
           {
            "marker": {
             "colorbar": {
              "outlinewidth": 0,
              "ticks": ""
             }
            },
            "type": "scatterternary"
           }
          ],
          "surface": [
           {
            "colorbar": {
             "outlinewidth": 0,
             "ticks": ""
            },
            "colorscale": [
             [
              0,
              "#0d0887"
             ],
             [
              0.1111111111111111,
              "#46039f"
             ],
             [
              0.2222222222222222,
              "#7201a8"
             ],
             [
              0.3333333333333333,
              "#9c179e"
             ],
             [
              0.4444444444444444,
              "#bd3786"
             ],
             [
              0.5555555555555556,
              "#d8576b"
             ],
             [
              0.6666666666666666,
              "#ed7953"
             ],
             [
              0.7777777777777778,
              "#fb9f3a"
             ],
             [
              0.8888888888888888,
              "#fdca26"
             ],
             [
              1,
              "#f0f921"
             ]
            ],
            "type": "surface"
           }
          ],
          "table": [
           {
            "cells": {
             "fill": {
              "color": "#EBF0F8"
             },
             "line": {
              "color": "white"
             }
            },
            "header": {
             "fill": {
              "color": "#C8D4E3"
             },
             "line": {
              "color": "white"
             }
            },
            "type": "table"
           }
          ]
         },
         "layout": {
          "annotationdefaults": {
           "arrowcolor": "#2a3f5f",
           "arrowhead": 0,
           "arrowwidth": 1
          },
          "autotypenumbers": "strict",
          "coloraxis": {
           "colorbar": {
            "outlinewidth": 0,
            "ticks": ""
           }
          },
          "colorscale": {
           "diverging": [
            [
             0,
             "#8e0152"
            ],
            [
             0.1,
             "#c51b7d"
            ],
            [
             0.2,
             "#de77ae"
            ],
            [
             0.3,
             "#f1b6da"
            ],
            [
             0.4,
             "#fde0ef"
            ],
            [
             0.5,
             "#f7f7f7"
            ],
            [
             0.6,
             "#e6f5d0"
            ],
            [
             0.7,
             "#b8e186"
            ],
            [
             0.8,
             "#7fbc41"
            ],
            [
             0.9,
             "#4d9221"
            ],
            [
             1,
             "#276419"
            ]
           ],
           "sequential": [
            [
             0,
             "#0d0887"
            ],
            [
             0.1111111111111111,
             "#46039f"
            ],
            [
             0.2222222222222222,
             "#7201a8"
            ],
            [
             0.3333333333333333,
             "#9c179e"
            ],
            [
             0.4444444444444444,
             "#bd3786"
            ],
            [
             0.5555555555555556,
             "#d8576b"
            ],
            [
             0.6666666666666666,
             "#ed7953"
            ],
            [
             0.7777777777777778,
             "#fb9f3a"
            ],
            [
             0.8888888888888888,
             "#fdca26"
            ],
            [
             1,
             "#f0f921"
            ]
           ],
           "sequentialminus": [
            [
             0,
             "#0d0887"
            ],
            [
             0.1111111111111111,
             "#46039f"
            ],
            [
             0.2222222222222222,
             "#7201a8"
            ],
            [
             0.3333333333333333,
             "#9c179e"
            ],
            [
             0.4444444444444444,
             "#bd3786"
            ],
            [
             0.5555555555555556,
             "#d8576b"
            ],
            [
             0.6666666666666666,
             "#ed7953"
            ],
            [
             0.7777777777777778,
             "#fb9f3a"
            ],
            [
             0.8888888888888888,
             "#fdca26"
            ],
            [
             1,
             "#f0f921"
            ]
           ]
          },
          "colorway": [
           "#636efa",
           "#EF553B",
           "#00cc96",
           "#ab63fa",
           "#FFA15A",
           "#19d3f3",
           "#FF6692",
           "#B6E880",
           "#FF97FF",
           "#FECB52"
          ],
          "font": {
           "color": "#2a3f5f"
          },
          "geo": {
           "bgcolor": "white",
           "lakecolor": "white",
           "landcolor": "#E5ECF6",
           "showlakes": true,
           "showland": true,
           "subunitcolor": "white"
          },
          "hoverlabel": {
           "align": "left"
          },
          "hovermode": "closest",
          "mapbox": {
           "style": "light"
          },
          "paper_bgcolor": "white",
          "plot_bgcolor": "#E5ECF6",
          "polar": {
           "angularaxis": {
            "gridcolor": "white",
            "linecolor": "white",
            "ticks": ""
           },
           "bgcolor": "#E5ECF6",
           "radialaxis": {
            "gridcolor": "white",
            "linecolor": "white",
            "ticks": ""
           }
          },
          "scene": {
           "xaxis": {
            "backgroundcolor": "#E5ECF6",
            "gridcolor": "white",
            "gridwidth": 2,
            "linecolor": "white",
            "showbackground": true,
            "ticks": "",
            "zerolinecolor": "white"
           },
           "yaxis": {
            "backgroundcolor": "#E5ECF6",
            "gridcolor": "white",
            "gridwidth": 2,
            "linecolor": "white",
            "showbackground": true,
            "ticks": "",
            "zerolinecolor": "white"
           },
           "zaxis": {
            "backgroundcolor": "#E5ECF6",
            "gridcolor": "white",
            "gridwidth": 2,
            "linecolor": "white",
            "showbackground": true,
            "ticks": "",
            "zerolinecolor": "white"
           }
          },
          "shapedefaults": {
           "line": {
            "color": "#2a3f5f"
           }
          },
          "ternary": {
           "aaxis": {
            "gridcolor": "white",
            "linecolor": "white",
            "ticks": ""
           },
           "baxis": {
            "gridcolor": "white",
            "linecolor": "white",
            "ticks": ""
           },
           "bgcolor": "#E5ECF6",
           "caxis": {
            "gridcolor": "white",
            "linecolor": "white",
            "ticks": ""
           }
          },
          "title": {
           "x": 0.05
          },
          "xaxis": {
           "automargin": true,
           "gridcolor": "white",
           "linecolor": "white",
           "ticks": "",
           "title": {
            "standoff": 15
           },
           "zerolinecolor": "white",
           "zerolinewidth": 2
          },
          "yaxis": {
           "automargin": true,
           "gridcolor": "white",
           "linecolor": "white",
           "ticks": "",
           "title": {
            "standoff": 15
           },
           "zerolinecolor": "white",
           "zerolinewidth": 2
          }
         }
        }
       }
      },
      "text/html": [
       "<div>                            <div id=\"7488493e-0248-49a5-b29e-b83d63a98091\" class=\"plotly-graph-div\" style=\"height:525px; width:100%;\"></div>            <script type=\"text/javascript\">                require([\"plotly\"], function(Plotly) {                    window.PLOTLYENV=window.PLOTLYENV || {};                                    if (document.getElementById(\"7488493e-0248-49a5-b29e-b83d63a98091\")) {                    Plotly.newPlot(                        \"7488493e-0248-49a5-b29e-b83d63a98091\",                        [{\"labels\":[\"nassau\",\"education\",\"suffolk\",\"transportation\",\"crime\",\"towns\",\"li-life\",\"obituaries\",\"history\",\"environment\",\"politics\",\"religion\"],\"parents\":[\"long-island\",\"long-island\",\"long-island\",\"long-island\",\"long-island\",\"long-island\",\"long-island\",\"long-island\",\"long-island\",\"long-island\",\"long-island\",\"long-island\"],\"values\":[46,21,69,8,81,14,18,9,1,2,34,2],\"type\":\"treemap\"}],                        {\"template\":{\"data\":{\"histogram2dcontour\":[{\"type\":\"histogram2dcontour\",\"colorbar\":{\"outlinewidth\":0,\"ticks\":\"\"},\"colorscale\":[[0.0,\"#0d0887\"],[0.1111111111111111,\"#46039f\"],[0.2222222222222222,\"#7201a8\"],[0.3333333333333333,\"#9c179e\"],[0.4444444444444444,\"#bd3786\"],[0.5555555555555556,\"#d8576b\"],[0.6666666666666666,\"#ed7953\"],[0.7777777777777778,\"#fb9f3a\"],[0.8888888888888888,\"#fdca26\"],[1.0,\"#f0f921\"]]}],\"choropleth\":[{\"type\":\"choropleth\",\"colorbar\":{\"outlinewidth\":0,\"ticks\":\"\"}}],\"histogram2d\":[{\"type\":\"histogram2d\",\"colorbar\":{\"outlinewidth\":0,\"ticks\":\"\"},\"colorscale\":[[0.0,\"#0d0887\"],[0.1111111111111111,\"#46039f\"],[0.2222222222222222,\"#7201a8\"],[0.3333333333333333,\"#9c179e\"],[0.4444444444444444,\"#bd3786\"],[0.5555555555555556,\"#d8576b\"],[0.6666666666666666,\"#ed7953\"],[0.7777777777777778,\"#fb9f3a\"],[0.8888888888888888,\"#fdca26\"],[1.0,\"#f0f921\"]]}],\"heatmap\":[{\"type\":\"heatmap\",\"colorbar\":{\"outlinewidth\":0,\"ticks\":\"\"},\"colorscale\":[[0.0,\"#0d0887\"],[0.1111111111111111,\"#46039f\"],[0.2222222222222222,\"#7201a8\"],[0.3333333333333333,\"#9c179e\"],[0.4444444444444444,\"#bd3786\"],[0.5555555555555556,\"#d8576b\"],[0.6666666666666666,\"#ed7953\"],[0.7777777777777778,\"#fb9f3a\"],[0.8888888888888888,\"#fdca26\"],[1.0,\"#f0f921\"]]}],\"heatmapgl\":[{\"type\":\"heatmapgl\",\"colorbar\":{\"outlinewidth\":0,\"ticks\":\"\"},\"colorscale\":[[0.0,\"#0d0887\"],[0.1111111111111111,\"#46039f\"],[0.2222222222222222,\"#7201a8\"],[0.3333333333333333,\"#9c179e\"],[0.4444444444444444,\"#bd3786\"],[0.5555555555555556,\"#d8576b\"],[0.6666666666666666,\"#ed7953\"],[0.7777777777777778,\"#fb9f3a\"],[0.8888888888888888,\"#fdca26\"],[1.0,\"#f0f921\"]]}],\"contourcarpet\":[{\"type\":\"contourcarpet\",\"colorbar\":{\"outlinewidth\":0,\"ticks\":\"\"}}],\"contour\":[{\"type\":\"contour\",\"colorbar\":{\"outlinewidth\":0,\"ticks\":\"\"},\"colorscale\":[[0.0,\"#0d0887\"],[0.1111111111111111,\"#46039f\"],[0.2222222222222222,\"#7201a8\"],[0.3333333333333333,\"#9c179e\"],[0.4444444444444444,\"#bd3786\"],[0.5555555555555556,\"#d8576b\"],[0.6666666666666666,\"#ed7953\"],[0.7777777777777778,\"#fb9f3a\"],[0.8888888888888888,\"#fdca26\"],[1.0,\"#f0f921\"]]}],\"surface\":[{\"type\":\"surface\",\"colorbar\":{\"outlinewidth\":0,\"ticks\":\"\"},\"colorscale\":[[0.0,\"#0d0887\"],[0.1111111111111111,\"#46039f\"],[0.2222222222222222,\"#7201a8\"],[0.3333333333333333,\"#9c179e\"],[0.4444444444444444,\"#bd3786\"],[0.5555555555555556,\"#d8576b\"],[0.6666666666666666,\"#ed7953\"],[0.7777777777777778,\"#fb9f3a\"],[0.8888888888888888,\"#fdca26\"],[1.0,\"#f0f921\"]]}],\"mesh3d\":[{\"type\":\"mesh3d\",\"colorbar\":{\"outlinewidth\":0,\"ticks\":\"\"}}],\"scatter\":[{\"fillpattern\":{\"fillmode\":\"overlay\",\"size\":10,\"solidity\":0.2},\"type\":\"scatter\"}],\"parcoords\":[{\"type\":\"parcoords\",\"line\":{\"colorbar\":{\"outlinewidth\":0,\"ticks\":\"\"}}}],\"scatterpolargl\":[{\"type\":\"scatterpolargl\",\"marker\":{\"colorbar\":{\"outlinewidth\":0,\"ticks\":\"\"}}}],\"bar\":[{\"error_x\":{\"color\":\"#2a3f5f\"},\"error_y\":{\"color\":\"#2a3f5f\"},\"marker\":{\"line\":{\"color\":\"#E5ECF6\",\"width\":0.5},\"pattern\":{\"fillmode\":\"overlay\",\"size\":10,\"solidity\":0.2}},\"type\":\"bar\"}],\"scattergeo\":[{\"type\":\"scattergeo\",\"marker\":{\"colorbar\":{\"outlinewidth\":0,\"ticks\":\"\"}}}],\"scatterpolar\":[{\"type\":\"scatterpolar\",\"marker\":{\"colorbar\":{\"outlinewidth\":0,\"ticks\":\"\"}}}],\"histogram\":[{\"marker\":{\"pattern\":{\"fillmode\":\"overlay\",\"size\":10,\"solidity\":0.2}},\"type\":\"histogram\"}],\"scattergl\":[{\"type\":\"scattergl\",\"marker\":{\"colorbar\":{\"outlinewidth\":0,\"ticks\":\"\"}}}],\"scatter3d\":[{\"type\":\"scatter3d\",\"line\":{\"colorbar\":{\"outlinewidth\":0,\"ticks\":\"\"}},\"marker\":{\"colorbar\":{\"outlinewidth\":0,\"ticks\":\"\"}}}],\"scattermapbox\":[{\"type\":\"scattermapbox\",\"marker\":{\"colorbar\":{\"outlinewidth\":0,\"ticks\":\"\"}}}],\"scatterternary\":[{\"type\":\"scatterternary\",\"marker\":{\"colorbar\":{\"outlinewidth\":0,\"ticks\":\"\"}}}],\"scattercarpet\":[{\"type\":\"scattercarpet\",\"marker\":{\"colorbar\":{\"outlinewidth\":0,\"ticks\":\"\"}}}],\"carpet\":[{\"aaxis\":{\"endlinecolor\":\"#2a3f5f\",\"gridcolor\":\"white\",\"linecolor\":\"white\",\"minorgridcolor\":\"white\",\"startlinecolor\":\"#2a3f5f\"},\"baxis\":{\"endlinecolor\":\"#2a3f5f\",\"gridcolor\":\"white\",\"linecolor\":\"white\",\"minorgridcolor\":\"white\",\"startlinecolor\":\"#2a3f5f\"},\"type\":\"carpet\"}],\"table\":[{\"cells\":{\"fill\":{\"color\":\"#EBF0F8\"},\"line\":{\"color\":\"white\"}},\"header\":{\"fill\":{\"color\":\"#C8D4E3\"},\"line\":{\"color\":\"white\"}},\"type\":\"table\"}],\"barpolar\":[{\"marker\":{\"line\":{\"color\":\"#E5ECF6\",\"width\":0.5},\"pattern\":{\"fillmode\":\"overlay\",\"size\":10,\"solidity\":0.2}},\"type\":\"barpolar\"}],\"pie\":[{\"automargin\":true,\"type\":\"pie\"}]},\"layout\":{\"autotypenumbers\":\"strict\",\"colorway\":[\"#636efa\",\"#EF553B\",\"#00cc96\",\"#ab63fa\",\"#FFA15A\",\"#19d3f3\",\"#FF6692\",\"#B6E880\",\"#FF97FF\",\"#FECB52\"],\"font\":{\"color\":\"#2a3f5f\"},\"hovermode\":\"closest\",\"hoverlabel\":{\"align\":\"left\"},\"paper_bgcolor\":\"white\",\"plot_bgcolor\":\"#E5ECF6\",\"polar\":{\"bgcolor\":\"#E5ECF6\",\"angularaxis\":{\"gridcolor\":\"white\",\"linecolor\":\"white\",\"ticks\":\"\"},\"radialaxis\":{\"gridcolor\":\"white\",\"linecolor\":\"white\",\"ticks\":\"\"}},\"ternary\":{\"bgcolor\":\"#E5ECF6\",\"aaxis\":{\"gridcolor\":\"white\",\"linecolor\":\"white\",\"ticks\":\"\"},\"baxis\":{\"gridcolor\":\"white\",\"linecolor\":\"white\",\"ticks\":\"\"},\"caxis\":{\"gridcolor\":\"white\",\"linecolor\":\"white\",\"ticks\":\"\"}},\"coloraxis\":{\"colorbar\":{\"outlinewidth\":0,\"ticks\":\"\"}},\"colorscale\":{\"sequential\":[[0.0,\"#0d0887\"],[0.1111111111111111,\"#46039f\"],[0.2222222222222222,\"#7201a8\"],[0.3333333333333333,\"#9c179e\"],[0.4444444444444444,\"#bd3786\"],[0.5555555555555556,\"#d8576b\"],[0.6666666666666666,\"#ed7953\"],[0.7777777777777778,\"#fb9f3a\"],[0.8888888888888888,\"#fdca26\"],[1.0,\"#f0f921\"]],\"sequentialminus\":[[0.0,\"#0d0887\"],[0.1111111111111111,\"#46039f\"],[0.2222222222222222,\"#7201a8\"],[0.3333333333333333,\"#9c179e\"],[0.4444444444444444,\"#bd3786\"],[0.5555555555555556,\"#d8576b\"],[0.6666666666666666,\"#ed7953\"],[0.7777777777777778,\"#fb9f3a\"],[0.8888888888888888,\"#fdca26\"],[1.0,\"#f0f921\"]],\"diverging\":[[0,\"#8e0152\"],[0.1,\"#c51b7d\"],[0.2,\"#de77ae\"],[0.3,\"#f1b6da\"],[0.4,\"#fde0ef\"],[0.5,\"#f7f7f7\"],[0.6,\"#e6f5d0\"],[0.7,\"#b8e186\"],[0.8,\"#7fbc41\"],[0.9,\"#4d9221\"],[1,\"#276419\"]]},\"xaxis\":{\"gridcolor\":\"white\",\"linecolor\":\"white\",\"ticks\":\"\",\"title\":{\"standoff\":15},\"zerolinecolor\":\"white\",\"automargin\":true,\"zerolinewidth\":2},\"yaxis\":{\"gridcolor\":\"white\",\"linecolor\":\"white\",\"ticks\":\"\",\"title\":{\"standoff\":15},\"zerolinecolor\":\"white\",\"automargin\":true,\"zerolinewidth\":2},\"scene\":{\"xaxis\":{\"backgroundcolor\":\"#E5ECF6\",\"gridcolor\":\"white\",\"linecolor\":\"white\",\"showbackground\":true,\"ticks\":\"\",\"zerolinecolor\":\"white\",\"gridwidth\":2},\"yaxis\":{\"backgroundcolor\":\"#E5ECF6\",\"gridcolor\":\"white\",\"linecolor\":\"white\",\"showbackground\":true,\"ticks\":\"\",\"zerolinecolor\":\"white\",\"gridwidth\":2},\"zaxis\":{\"backgroundcolor\":\"#E5ECF6\",\"gridcolor\":\"white\",\"linecolor\":\"white\",\"showbackground\":true,\"ticks\":\"\",\"zerolinecolor\":\"white\",\"gridwidth\":2}},\"shapedefaults\":{\"line\":{\"color\":\"#2a3f5f\"}},\"annotationdefaults\":{\"arrowcolor\":\"#2a3f5f\",\"arrowhead\":0,\"arrowwidth\":1},\"geo\":{\"bgcolor\":\"white\",\"landcolor\":\"#E5ECF6\",\"subunitcolor\":\"white\",\"showland\":true,\"showlakes\":true,\"lakecolor\":\"white\"},\"title\":{\"x\":0.05},\"mapbox\":{\"style\":\"light\"}}}},                        {\"responsive\": true}                    ).then(function(){\n",
       "                            \n",
       "var gd = document.getElementById('7488493e-0248-49a5-b29e-b83d63a98091');\n",
       "var x = new MutationObserver(function (mutations, observer) {{\n",
       "        var display = window.getComputedStyle(gd).display;\n",
       "        if (!display || display === 'none') {{\n",
       "            console.log([gd, 'removed!']);\n",
       "            Plotly.purge(gd);\n",
       "            observer.disconnect();\n",
       "        }}\n",
       "}});\n",
       "\n",
       "// Listen for the removal of the full notebook cells\n",
       "var notebookContainer = gd.closest('#notebook-container');\n",
       "if (notebookContainer) {{\n",
       "    x.observe(notebookContainer, {childList: true});\n",
       "}}\n",
       "\n",
       "// Listen for the clearing of the current output cell\n",
       "var outputEl = gd.closest('.output');\n",
       "if (outputEl) {{\n",
       "    x.observe(outputEl, {childList: true});\n",
       "}}\n",
       "\n",
       "                        })                };                });            </script>        </div>"
      ]
     },
     "metadata": {},
     "output_type": "display_data"
    }
   ],
   "source": [
    "import plotly.graph_objects as go\n",
    "\n",
    "fig = go.Figure(go.Treemap(\n",
    "    labels=articles_df.query(\"Parent=='long-island'\")['Child'],\n",
    "    parents=articles_df.query(\"Parent=='long-island'\")['Parent'],\n",
    "    values=articles_df.query(\"Parent=='long-island'\")['Values']\n",
    "))\n",
    "fig.show()"
   ]
  },
  {
   "cell_type": "code",
   "execution_count": 142,
   "metadata": {},
   "outputs": [
    {
     "name": "stdout",
     "output_type": "stream",
     "text": [
      "Defaulting to user installation because normal site-packages is not writeable\n",
      "Collecting plotly\n",
      "  Downloading plotly-5.10.0-py2.py3-none-any.whl (15.2 MB)\n",
      "\u001b[2K     \u001b[90m━━━━━━━━━━━━━━━━━━━━━━━━━━━━━━━━━━━━━━━━\u001b[0m \u001b[32m15.2/15.2 MB\u001b[0m \u001b[31m9.7 MB/s\u001b[0m eta \u001b[36m0:00:00\u001b[0m:00:01\u001b[0m00:01\u001b[0m\n",
      "\u001b[?25hCollecting tenacity>=6.2.0\n",
      "  Downloading tenacity-8.0.1-py3-none-any.whl (24 kB)\n",
      "Installing collected packages: tenacity, plotly\n",
      "Successfully installed plotly-5.10.0 tenacity-8.0.1\n",
      "\u001b[33mWARNING: You are using pip version 22.0.4; however, version 22.2.2 is available.\n",
      "You should consider upgrading via the '/usr/local/bin/python -m pip install --upgrade pip' command.\u001b[0m\u001b[33m\n",
      "\u001b[0mNote: you may need to restart the kernel to use updated packages.\n"
     ]
    }
   ],
   "source": [
    "%pip install plotly"
   ]
  },
  {
   "cell_type": "code",
   "execution_count": 141,
   "metadata": {},
   "outputs": [
    {
     "data": {
      "text/html": [
       "<div>\n",
       "<style scoped>\n",
       "    .dataframe tbody tr th:only-of-type {\n",
       "        vertical-align: middle;\n",
       "    }\n",
       "\n",
       "    .dataframe tbody tr th {\n",
       "        vertical-align: top;\n",
       "    }\n",
       "\n",
       "    .dataframe thead th {\n",
       "        text-align: right;\n",
       "    }\n",
       "</style>\n",
       "<table border=\"1\" class=\"dataframe\">\n",
       "  <thead>\n",
       "    <tr style=\"text-align: right;\">\n",
       "      <th></th>\n",
       "      <th>0</th>\n",
       "      <th>1</th>\n",
       "    </tr>\n",
       "  </thead>\n",
       "  <tbody>\n",
       "    <tr>\n",
       "      <th>0</th>\n",
       "      <td>sports</td>\n",
       "      <td>college</td>\n",
       "    </tr>\n",
       "    <tr>\n",
       "      <th>1</th>\n",
       "      <td>long-island</td>\n",
       "      <td>nassau</td>\n",
       "    </tr>\n",
       "    <tr>\n",
       "      <th>2</th>\n",
       "      <td>long-island</td>\n",
       "      <td>education</td>\n",
       "    </tr>\n",
       "    <tr>\n",
       "      <th>3</th>\n",
       "      <td>long-island</td>\n",
       "      <td>nassau</td>\n",
       "    </tr>\n",
       "    <tr>\n",
       "      <th>4</th>\n",
       "      <td>sports</td>\n",
       "      <td>baseball</td>\n",
       "    </tr>\n",
       "    <tr>\n",
       "      <th>...</th>\n",
       "      <td>...</td>\n",
       "      <td>...</td>\n",
       "    </tr>\n",
       "    <tr>\n",
       "      <th>2249</th>\n",
       "      <td>sports</td>\n",
       "      <td>baseball</td>\n",
       "    </tr>\n",
       "    <tr>\n",
       "      <th>2250</th>\n",
       "      <td>baseball</td>\n",
       "      <td>yankees</td>\n",
       "    </tr>\n",
       "    <tr>\n",
       "      <th>2251</th>\n",
       "      <td>sports</td>\n",
       "      <td>high-school</td>\n",
       "    </tr>\n",
       "    <tr>\n",
       "      <th>2252</th>\n",
       "      <td>high-school</td>\n",
       "      <td>track</td>\n",
       "    </tr>\n",
       "    <tr>\n",
       "      <th>2253</th>\n",
       "      <td>long-island</td>\n",
       "      <td>suffolk</td>\n",
       "    </tr>\n",
       "  </tbody>\n",
       "</table>\n",
       "<p>2254 rows × 2 columns</p>\n",
       "</div>"
      ],
      "text/plain": [
       "                0            1\n",
       "0          sports      college\n",
       "1     long-island       nassau\n",
       "2     long-island    education\n",
       "3     long-island       nassau\n",
       "4          sports     baseball\n",
       "...           ...          ...\n",
       "2249       sports     baseball\n",
       "2250     baseball      yankees\n",
       "2251       sports  high-school\n",
       "2252  high-school        track\n",
       "2253  long-island      suffolk\n",
       "\n",
       "[2254 rows x 2 columns]"
      ]
     },
     "execution_count": 141,
     "metadata": {},
     "output_type": "execute_result"
    }
   ],
   "source": [
    "import pandas as pd\n",
    "pd.DataFrame(edges)"
   ]
  },
  {
   "cell_type": "code",
   "execution_count": 140,
   "metadata": {},
   "outputs": [
    {
     "data": {
      "text/plain": [
       "['https:',\n",
       " '',\n",
       " 'www.newsday.com',\n",
       " 'long-island',\n",
       " 'suffolk',\n",
       " 'protest-off-key-tikki-bar-cinco-de-mayo-patchogue-rgfnh3o1']"
      ]
     },
     "execution_count": 140,
     "metadata": {},
     "output_type": "execute_result"
    }
   ],
   "source": [
    "fields"
   ]
  },
  {
   "cell_type": "code",
   "execution_count": 139,
   "metadata": {},
   "outputs": [
    {
     "data": {
      "text/plain": [
       "Counter({('sports', 'college'): 34,\n",
       "         ('long-island', 'nassau'): 46,\n",
       "         ('long-island', 'education'): 21,\n",
       "         ('sports', 'baseball'): 206,\n",
       "         ('baseball', 'mets'): 82,\n",
       "         ('baseball', 'yankees'): 81,\n",
       "         ('sports', 'high-school'): 127,\n",
       "         ('high-school', 'baseball'): 37,\n",
       "         ('long-island', 'suffolk'): 69,\n",
       "         ('news', 'region-state'): 28,\n",
       "         ('opinion', 'columnists'): 22,\n",
       "         ('columnists', 'randi-f-marshall'): 5,\n",
       "         ('sports', 'hockey'): 144,\n",
       "         ('hockey', 'rangers'): 79,\n",
       "         ('opinion', 'editorials'): 26,\n",
       "         ('sports', 'columnists'): 54,\n",
       "         ('columnists', 'andrew-gross'): 9,\n",
       "         ('opinion', 'the-point'): 21,\n",
       "         ('sports', 'golf'): 19,\n",
       "         ('sports', 'football'): 54,\n",
       "         ('football', 'giants'): 23,\n",
       "         ('news', 'weather'): 33,\n",
       "         ('long-island', 'transportation'): 8,\n",
       "         ('entertainment', 'celebrities'): 25,\n",
       "         ('college', 'college-football'): 6,\n",
       "         ('long-island', 'crime'): 81,\n",
       "         ('sports', 'media'): 15,\n",
       "         ('sports', 'womens-sports'): 19,\n",
       "         ('sports', 'soccer'): 31,\n",
       "         ('lifestyle', 'long-island-events'): 14,\n",
       "         ('opinion', 'commentary'): 34,\n",
       "         ('sports', 'tennis'): 18,\n",
       "         ('opinion', 'letters'): 31,\n",
       "         ('lifestyle', 'restaurants'): 27,\n",
       "         ('classifieds', 'real-estate'): 22,\n",
       "         ('entertainment', 'tv'): 35,\n",
       "         ('news', 'new-york'): 16,\n",
       "         ('lifestyle', 'family'): 12,\n",
       "         ('sports', 'horse-racing'): 35,\n",
       "         ('columnists', 'david-lennon'): 23,\n",
       "         ('commentary', 'guest-essays'): 16,\n",
       "         ('lifestyle', 'holidays'): 2,\n",
       "         ('holidays', 'memorial-day'): 2,\n",
       "         ('long-island', 'towns'): 14,\n",
       "         ('news', 'health'): 26,\n",
       "         ('health', 'coronavirus'): 19,\n",
       "         ('lifestyle', 'fashion-and-shopping'): 12,\n",
       "         ('sports', 'basketball'): 65,\n",
       "         ('college', 'hofstra'): 2,\n",
       "         ('sports', 'motor-racing'): 6,\n",
       "         ('high-school', 'softball'): 17,\n",
       "         ('entertainment', 'music'): 18,\n",
       "         ('news', 'nation'): 13,\n",
       "         ('restaurants', 'food-and-drink'): 5,\n",
       "         ('entertainment', 'movies'): 16,\n",
       "         ('long-island', 'li-life'): 18,\n",
       "         ('news', 'lottery'): 2,\n",
       "         ('sports', 'boxing'): 13,\n",
       "         ('high-school', 'track'): 10,\n",
       "         ('columnists', 'laura-albanese'): 3,\n",
       "         ('high-school', 'boys-lacrosse'): 22,\n",
       "         ('high-school', 'girls-lacrosse'): 24,\n",
       "         ('columnists', 'bob-glauber'): 4,\n",
       "         ('lifestyle', 'recreation'): 16,\n",
       "         ('news', 'world'): 2,\n",
       "         ('entertainment', 'books'): 7,\n",
       "         ('basketball', 'liberty'): 9,\n",
       "         ('football', 'jets'): 17,\n",
       "         ('columnists', 'steve-popper'): 2,\n",
       "         ('lifestyle', 'retirement'): 14,\n",
       "         ('long-island', 'obituaries'): 9,\n",
       "         ('high-school', 'football'): 1,\n",
       "         ('columnists', 'dan-janison'): 4,\n",
       "         ('long-island', 'history'): 1,\n",
       "         ('sports', 'mixed-martial-arts'): 11,\n",
       "         ('long-island', 'environment'): 2,\n",
       "         ('entertainment', 'theater'): 14,\n",
       "         ('high-school', 'tennis'): 3,\n",
       "         ('high-school', 'badminton'): 3,\n",
       "         ('high-school', 'golf'): 6,\n",
       "         ('columnists', 'cathy-young'): 5,\n",
       "         ('columnists', 'lane-filler'): 4,\n",
       "         ('business', 'columnists'): 4,\n",
       "         ('columnists', 'jamie-herzlich'): 4,\n",
       "         ('travel', 'long-island-getaways'): 8,\n",
       "         ('long-island', 'politics'): 34,\n",
       "         ('soccer', 'nycfc'): 6,\n",
       "         ('columnists', 'neil-best'): 10,\n",
       "         ('lifestyle', 'columnists'): 3,\n",
       "         ('columnists', 'marge-perry'): 3,\n",
       "         ('long-island', 'religion'): 2,\n",
       "         ('sports', 'local'): 5,\n",
       "         ('local', 'ducks'): 4,\n",
       "         ('basketball', 'knicks'): 5,\n",
       "         ('college', 'stony-brook'): 3,\n",
       "         ('columnists', 'william-f-b-oreilly'): 1,\n",
       "         ('education', 'graduations'): 2,\n",
       "         ('columnists', 'barbara-barker'): 1,\n",
       "         ('high-school', 'girls-basketball'): 1,\n",
       "         ('business', 'technology'): 4,\n",
       "         ('high-school', 'volleyball'): 1,\n",
       "         ('hockey', 'islanders'): 9,\n",
       "         ('commentary', 'expressway'): 3,\n",
       "         ('columnists', 'michael-dobie'): 3,\n",
       "         ('columnists', 'anthony-rieber'): 2,\n",
       "         ('basketball', 'nets'): 3,\n",
       "         ('opinion', 'voices'): 1,\n",
       "         ('college', 'college-basketball'): 1})"
      ]
     },
     "execution_count": 139,
     "metadata": {},
     "output_type": "execute_result"
    }
   ],
   "source": [
    "Counter(edges)"
   ]
  },
  {
   "cell_type": "code",
   "execution_count": 65,
   "metadata": {},
   "outputs": [],
   "source": [
    "import pandas as pd\n",
    "articles_df = pd.DataFrame(articles)"
   ]
  },
  {
   "cell_type": "code",
   "execution_count": 66,
   "metadata": {},
   "outputs": [],
   "source": [
    "def download_text(url):\n",
    "    response = requests.get(url)\n",
    "    if response == 200:\n",
    "        return response.content.decode(\"utf-8\")"
   ]
  },
  {
   "cell_type": "code",
   "execution_count": 79,
   "metadata": {},
   "outputs": [
    {
     "data": {
      "text/plain": [
       "True"
      ]
     },
     "execution_count": 79,
     "metadata": {},
     "output_type": "execute_result"
    }
   ],
   "source": [
    "response.ok"
   ]
  },
  {
   "cell_type": "code",
   "execution_count": 76,
   "metadata": {},
   "outputs": [
    {
     "data": {
      "text/plain": [
       "'/workspaces/long-island-digest/data/raw/newsday/2022-05/nys-local-elections-turnout-ijy7ye2r.html'"
      ]
     },
     "execution_count": 76,
     "metadata": {},
     "output_type": "execute_result"
    }
   ],
   "source": [
    "article_path = os.path.join(\"/workspaces/long-island-digest/data/raw/newsday/2022-05\", f\"{row['article']}.html\")"
   ]
  },
  {
   "cell_type": "code",
   "execution_count": 82,
   "metadata": {},
   "outputs": [
    {
     "ename": "ConnectionError",
     "evalue": "('Connection aborted.', RemoteDisconnected('Remote end closed connection without response'))",
     "output_type": "error",
     "traceback": [
      "\u001b[0;31m---------------------------------------------------------------------------\u001b[0m",
      "\u001b[0;31mRemoteDisconnected\u001b[0m                        Traceback (most recent call last)",
      "File \u001b[0;32m~/.local/lib/python3.10/site-packages/urllib3/connectionpool.py:703\u001b[0m, in \u001b[0;36mHTTPConnectionPool.urlopen\u001b[0;34m(self, method, url, body, headers, retries, redirect, assert_same_host, timeout, pool_timeout, release_conn, chunked, body_pos, **response_kw)\u001b[0m\n\u001b[1;32m    702\u001b[0m \u001b[39m# Make the request on the httplib connection object.\u001b[39;00m\n\u001b[0;32m--> 703\u001b[0m httplib_response \u001b[39m=\u001b[39m \u001b[39mself\u001b[39;49m\u001b[39m.\u001b[39;49m_make_request(\n\u001b[1;32m    704\u001b[0m     conn,\n\u001b[1;32m    705\u001b[0m     method,\n\u001b[1;32m    706\u001b[0m     url,\n\u001b[1;32m    707\u001b[0m     timeout\u001b[39m=\u001b[39;49mtimeout_obj,\n\u001b[1;32m    708\u001b[0m     body\u001b[39m=\u001b[39;49mbody,\n\u001b[1;32m    709\u001b[0m     headers\u001b[39m=\u001b[39;49mheaders,\n\u001b[1;32m    710\u001b[0m     chunked\u001b[39m=\u001b[39;49mchunked,\n\u001b[1;32m    711\u001b[0m )\n\u001b[1;32m    713\u001b[0m \u001b[39m# If we're going to release the connection in ``finally:``, then\u001b[39;00m\n\u001b[1;32m    714\u001b[0m \u001b[39m# the response doesn't need to know about the connection. Otherwise\u001b[39;00m\n\u001b[1;32m    715\u001b[0m \u001b[39m# it will also try to release it and we'll have a double-release\u001b[39;00m\n\u001b[1;32m    716\u001b[0m \u001b[39m# mess.\u001b[39;00m\n",
      "File \u001b[0;32m~/.local/lib/python3.10/site-packages/urllib3/connectionpool.py:449\u001b[0m, in \u001b[0;36mHTTPConnectionPool._make_request\u001b[0;34m(self, conn, method, url, timeout, chunked, **httplib_request_kw)\u001b[0m\n\u001b[1;32m    445\u001b[0m         \u001b[39mexcept\u001b[39;00m \u001b[39mBaseException\u001b[39;00m \u001b[39mas\u001b[39;00m e:\n\u001b[1;32m    446\u001b[0m             \u001b[39m# Remove the TypeError from the exception chain in\u001b[39;00m\n\u001b[1;32m    447\u001b[0m             \u001b[39m# Python 3 (including for exceptions like SystemExit).\u001b[39;00m\n\u001b[1;32m    448\u001b[0m             \u001b[39m# Otherwise it looks like a bug in the code.\u001b[39;00m\n\u001b[0;32m--> 449\u001b[0m             six\u001b[39m.\u001b[39;49mraise_from(e, \u001b[39mNone\u001b[39;49;00m)\n\u001b[1;32m    450\u001b[0m \u001b[39mexcept\u001b[39;00m (SocketTimeout, BaseSSLError, SocketError) \u001b[39mas\u001b[39;00m e:\n",
      "File \u001b[0;32m<string>:3\u001b[0m, in \u001b[0;36mraise_from\u001b[0;34m(value, from_value)\u001b[0m\n",
      "File \u001b[0;32m~/.local/lib/python3.10/site-packages/urllib3/connectionpool.py:444\u001b[0m, in \u001b[0;36mHTTPConnectionPool._make_request\u001b[0;34m(self, conn, method, url, timeout, chunked, **httplib_request_kw)\u001b[0m\n\u001b[1;32m    443\u001b[0m \u001b[39mtry\u001b[39;00m:\n\u001b[0;32m--> 444\u001b[0m     httplib_response \u001b[39m=\u001b[39m conn\u001b[39m.\u001b[39;49mgetresponse()\n\u001b[1;32m    445\u001b[0m \u001b[39mexcept\u001b[39;00m \u001b[39mBaseException\u001b[39;00m \u001b[39mas\u001b[39;00m e:\n\u001b[1;32m    446\u001b[0m     \u001b[39m# Remove the TypeError from the exception chain in\u001b[39;00m\n\u001b[1;32m    447\u001b[0m     \u001b[39m# Python 3 (including for exceptions like SystemExit).\u001b[39;00m\n\u001b[1;32m    448\u001b[0m     \u001b[39m# Otherwise it looks like a bug in the code.\u001b[39;00m\n",
      "File \u001b[0;32m/usr/local/lib/python3.10/http/client.py:1374\u001b[0m, in \u001b[0;36mHTTPConnection.getresponse\u001b[0;34m(self)\u001b[0m\n\u001b[1;32m   1373\u001b[0m \u001b[39mtry\u001b[39;00m:\n\u001b[0;32m-> 1374\u001b[0m     response\u001b[39m.\u001b[39;49mbegin()\n\u001b[1;32m   1375\u001b[0m \u001b[39mexcept\u001b[39;00m \u001b[39mConnectionError\u001b[39;00m:\n",
      "File \u001b[0;32m/usr/local/lib/python3.10/http/client.py:318\u001b[0m, in \u001b[0;36mHTTPResponse.begin\u001b[0;34m(self)\u001b[0m\n\u001b[1;32m    317\u001b[0m \u001b[39mwhile\u001b[39;00m \u001b[39mTrue\u001b[39;00m:\n\u001b[0;32m--> 318\u001b[0m     version, status, reason \u001b[39m=\u001b[39m \u001b[39mself\u001b[39;49m\u001b[39m.\u001b[39;49m_read_status()\n\u001b[1;32m    319\u001b[0m     \u001b[39mif\u001b[39;00m status \u001b[39m!=\u001b[39m CONTINUE:\n",
      "File \u001b[0;32m/usr/local/lib/python3.10/http/client.py:287\u001b[0m, in \u001b[0;36mHTTPResponse._read_status\u001b[0;34m(self)\u001b[0m\n\u001b[1;32m    284\u001b[0m \u001b[39mif\u001b[39;00m \u001b[39mnot\u001b[39;00m line:\n\u001b[1;32m    285\u001b[0m     \u001b[39m# Presumably, the server closed the connection before\u001b[39;00m\n\u001b[1;32m    286\u001b[0m     \u001b[39m# sending a valid response.\u001b[39;00m\n\u001b[0;32m--> 287\u001b[0m     \u001b[39mraise\u001b[39;00m RemoteDisconnected(\u001b[39m\"\u001b[39m\u001b[39mRemote end closed connection without\u001b[39m\u001b[39m\"\u001b[39m\n\u001b[1;32m    288\u001b[0m                              \u001b[39m\"\u001b[39m\u001b[39m response\u001b[39m\u001b[39m\"\u001b[39m)\n\u001b[1;32m    289\u001b[0m \u001b[39mtry\u001b[39;00m:\n",
      "\u001b[0;31mRemoteDisconnected\u001b[0m: Remote end closed connection without response",
      "\nDuring handling of the above exception, another exception occurred:\n",
      "\u001b[0;31mProtocolError\u001b[0m                             Traceback (most recent call last)",
      "File \u001b[0;32m~/.local/lib/python3.10/site-packages/requests/adapters.py:489\u001b[0m, in \u001b[0;36mHTTPAdapter.send\u001b[0;34m(self, request, stream, timeout, verify, cert, proxies)\u001b[0m\n\u001b[1;32m    488\u001b[0m \u001b[39mif\u001b[39;00m \u001b[39mnot\u001b[39;00m chunked:\n\u001b[0;32m--> 489\u001b[0m     resp \u001b[39m=\u001b[39m conn\u001b[39m.\u001b[39;49murlopen(\n\u001b[1;32m    490\u001b[0m         method\u001b[39m=\u001b[39;49mrequest\u001b[39m.\u001b[39;49mmethod,\n\u001b[1;32m    491\u001b[0m         url\u001b[39m=\u001b[39;49murl,\n\u001b[1;32m    492\u001b[0m         body\u001b[39m=\u001b[39;49mrequest\u001b[39m.\u001b[39;49mbody,\n\u001b[1;32m    493\u001b[0m         headers\u001b[39m=\u001b[39;49mrequest\u001b[39m.\u001b[39;49mheaders,\n\u001b[1;32m    494\u001b[0m         redirect\u001b[39m=\u001b[39;49m\u001b[39mFalse\u001b[39;49;00m,\n\u001b[1;32m    495\u001b[0m         assert_same_host\u001b[39m=\u001b[39;49m\u001b[39mFalse\u001b[39;49;00m,\n\u001b[1;32m    496\u001b[0m         preload_content\u001b[39m=\u001b[39;49m\u001b[39mFalse\u001b[39;49;00m,\n\u001b[1;32m    497\u001b[0m         decode_content\u001b[39m=\u001b[39;49m\u001b[39mFalse\u001b[39;49;00m,\n\u001b[1;32m    498\u001b[0m         retries\u001b[39m=\u001b[39;49m\u001b[39mself\u001b[39;49m\u001b[39m.\u001b[39;49mmax_retries,\n\u001b[1;32m    499\u001b[0m         timeout\u001b[39m=\u001b[39;49mtimeout,\n\u001b[1;32m    500\u001b[0m     )\n\u001b[1;32m    502\u001b[0m \u001b[39m# Send the request.\u001b[39;00m\n\u001b[1;32m    503\u001b[0m \u001b[39melse\u001b[39;00m:\n",
      "File \u001b[0;32m~/.local/lib/python3.10/site-packages/urllib3/connectionpool.py:787\u001b[0m, in \u001b[0;36mHTTPConnectionPool.urlopen\u001b[0;34m(self, method, url, body, headers, retries, redirect, assert_same_host, timeout, pool_timeout, release_conn, chunked, body_pos, **response_kw)\u001b[0m\n\u001b[1;32m    785\u001b[0m     e \u001b[39m=\u001b[39m ProtocolError(\u001b[39m\"\u001b[39m\u001b[39mConnection aborted.\u001b[39m\u001b[39m\"\u001b[39m, e)\n\u001b[0;32m--> 787\u001b[0m retries \u001b[39m=\u001b[39m retries\u001b[39m.\u001b[39;49mincrement(\n\u001b[1;32m    788\u001b[0m     method, url, error\u001b[39m=\u001b[39;49me, _pool\u001b[39m=\u001b[39;49m\u001b[39mself\u001b[39;49m, _stacktrace\u001b[39m=\u001b[39;49msys\u001b[39m.\u001b[39;49mexc_info()[\u001b[39m2\u001b[39;49m]\n\u001b[1;32m    789\u001b[0m )\n\u001b[1;32m    790\u001b[0m retries\u001b[39m.\u001b[39msleep()\n",
      "File \u001b[0;32m~/.local/lib/python3.10/site-packages/urllib3/util/retry.py:550\u001b[0m, in \u001b[0;36mRetry.increment\u001b[0;34m(self, method, url, response, error, _pool, _stacktrace)\u001b[0m\n\u001b[1;32m    549\u001b[0m \u001b[39mif\u001b[39;00m read \u001b[39mis\u001b[39;00m \u001b[39mFalse\u001b[39;00m \u001b[39mor\u001b[39;00m \u001b[39mnot\u001b[39;00m \u001b[39mself\u001b[39m\u001b[39m.\u001b[39m_is_method_retryable(method):\n\u001b[0;32m--> 550\u001b[0m     \u001b[39mraise\u001b[39;00m six\u001b[39m.\u001b[39;49mreraise(\u001b[39mtype\u001b[39;49m(error), error, _stacktrace)\n\u001b[1;32m    551\u001b[0m \u001b[39melif\u001b[39;00m read \u001b[39mis\u001b[39;00m \u001b[39mnot\u001b[39;00m \u001b[39mNone\u001b[39;00m:\n",
      "File \u001b[0;32m~/.local/lib/python3.10/site-packages/urllib3/packages/six.py:769\u001b[0m, in \u001b[0;36mreraise\u001b[0;34m(tp, value, tb)\u001b[0m\n\u001b[1;32m    768\u001b[0m \u001b[39mif\u001b[39;00m value\u001b[39m.\u001b[39m__traceback__ \u001b[39mis\u001b[39;00m \u001b[39mnot\u001b[39;00m tb:\n\u001b[0;32m--> 769\u001b[0m     \u001b[39mraise\u001b[39;00m value\u001b[39m.\u001b[39mwith_traceback(tb)\n\u001b[1;32m    770\u001b[0m \u001b[39mraise\u001b[39;00m value\n",
      "File \u001b[0;32m~/.local/lib/python3.10/site-packages/urllib3/connectionpool.py:703\u001b[0m, in \u001b[0;36mHTTPConnectionPool.urlopen\u001b[0;34m(self, method, url, body, headers, retries, redirect, assert_same_host, timeout, pool_timeout, release_conn, chunked, body_pos, **response_kw)\u001b[0m\n\u001b[1;32m    702\u001b[0m \u001b[39m# Make the request on the httplib connection object.\u001b[39;00m\n\u001b[0;32m--> 703\u001b[0m httplib_response \u001b[39m=\u001b[39m \u001b[39mself\u001b[39;49m\u001b[39m.\u001b[39;49m_make_request(\n\u001b[1;32m    704\u001b[0m     conn,\n\u001b[1;32m    705\u001b[0m     method,\n\u001b[1;32m    706\u001b[0m     url,\n\u001b[1;32m    707\u001b[0m     timeout\u001b[39m=\u001b[39;49mtimeout_obj,\n\u001b[1;32m    708\u001b[0m     body\u001b[39m=\u001b[39;49mbody,\n\u001b[1;32m    709\u001b[0m     headers\u001b[39m=\u001b[39;49mheaders,\n\u001b[1;32m    710\u001b[0m     chunked\u001b[39m=\u001b[39;49mchunked,\n\u001b[1;32m    711\u001b[0m )\n\u001b[1;32m    713\u001b[0m \u001b[39m# If we're going to release the connection in ``finally:``, then\u001b[39;00m\n\u001b[1;32m    714\u001b[0m \u001b[39m# the response doesn't need to know about the connection. Otherwise\u001b[39;00m\n\u001b[1;32m    715\u001b[0m \u001b[39m# it will also try to release it and we'll have a double-release\u001b[39;00m\n\u001b[1;32m    716\u001b[0m \u001b[39m# mess.\u001b[39;00m\n",
      "File \u001b[0;32m~/.local/lib/python3.10/site-packages/urllib3/connectionpool.py:449\u001b[0m, in \u001b[0;36mHTTPConnectionPool._make_request\u001b[0;34m(self, conn, method, url, timeout, chunked, **httplib_request_kw)\u001b[0m\n\u001b[1;32m    445\u001b[0m         \u001b[39mexcept\u001b[39;00m \u001b[39mBaseException\u001b[39;00m \u001b[39mas\u001b[39;00m e:\n\u001b[1;32m    446\u001b[0m             \u001b[39m# Remove the TypeError from the exception chain in\u001b[39;00m\n\u001b[1;32m    447\u001b[0m             \u001b[39m# Python 3 (including for exceptions like SystemExit).\u001b[39;00m\n\u001b[1;32m    448\u001b[0m             \u001b[39m# Otherwise it looks like a bug in the code.\u001b[39;00m\n\u001b[0;32m--> 449\u001b[0m             six\u001b[39m.\u001b[39;49mraise_from(e, \u001b[39mNone\u001b[39;49;00m)\n\u001b[1;32m    450\u001b[0m \u001b[39mexcept\u001b[39;00m (SocketTimeout, BaseSSLError, SocketError) \u001b[39mas\u001b[39;00m e:\n",
      "File \u001b[0;32m<string>:3\u001b[0m, in \u001b[0;36mraise_from\u001b[0;34m(value, from_value)\u001b[0m\n",
      "File \u001b[0;32m~/.local/lib/python3.10/site-packages/urllib3/connectionpool.py:444\u001b[0m, in \u001b[0;36mHTTPConnectionPool._make_request\u001b[0;34m(self, conn, method, url, timeout, chunked, **httplib_request_kw)\u001b[0m\n\u001b[1;32m    443\u001b[0m \u001b[39mtry\u001b[39;00m:\n\u001b[0;32m--> 444\u001b[0m     httplib_response \u001b[39m=\u001b[39m conn\u001b[39m.\u001b[39;49mgetresponse()\n\u001b[1;32m    445\u001b[0m \u001b[39mexcept\u001b[39;00m \u001b[39mBaseException\u001b[39;00m \u001b[39mas\u001b[39;00m e:\n\u001b[1;32m    446\u001b[0m     \u001b[39m# Remove the TypeError from the exception chain in\u001b[39;00m\n\u001b[1;32m    447\u001b[0m     \u001b[39m# Python 3 (including for exceptions like SystemExit).\u001b[39;00m\n\u001b[1;32m    448\u001b[0m     \u001b[39m# Otherwise it looks like a bug in the code.\u001b[39;00m\n",
      "File \u001b[0;32m/usr/local/lib/python3.10/http/client.py:1374\u001b[0m, in \u001b[0;36mHTTPConnection.getresponse\u001b[0;34m(self)\u001b[0m\n\u001b[1;32m   1373\u001b[0m \u001b[39mtry\u001b[39;00m:\n\u001b[0;32m-> 1374\u001b[0m     response\u001b[39m.\u001b[39;49mbegin()\n\u001b[1;32m   1375\u001b[0m \u001b[39mexcept\u001b[39;00m \u001b[39mConnectionError\u001b[39;00m:\n",
      "File \u001b[0;32m/usr/local/lib/python3.10/http/client.py:318\u001b[0m, in \u001b[0;36mHTTPResponse.begin\u001b[0;34m(self)\u001b[0m\n\u001b[1;32m    317\u001b[0m \u001b[39mwhile\u001b[39;00m \u001b[39mTrue\u001b[39;00m:\n\u001b[0;32m--> 318\u001b[0m     version, status, reason \u001b[39m=\u001b[39m \u001b[39mself\u001b[39;49m\u001b[39m.\u001b[39;49m_read_status()\n\u001b[1;32m    319\u001b[0m     \u001b[39mif\u001b[39;00m status \u001b[39m!=\u001b[39m CONTINUE:\n",
      "File \u001b[0;32m/usr/local/lib/python3.10/http/client.py:287\u001b[0m, in \u001b[0;36mHTTPResponse._read_status\u001b[0;34m(self)\u001b[0m\n\u001b[1;32m    284\u001b[0m \u001b[39mif\u001b[39;00m \u001b[39mnot\u001b[39;00m line:\n\u001b[1;32m    285\u001b[0m     \u001b[39m# Presumably, the server closed the connection before\u001b[39;00m\n\u001b[1;32m    286\u001b[0m     \u001b[39m# sending a valid response.\u001b[39;00m\n\u001b[0;32m--> 287\u001b[0m     \u001b[39mraise\u001b[39;00m RemoteDisconnected(\u001b[39m\"\u001b[39m\u001b[39mRemote end closed connection without\u001b[39m\u001b[39m\"\u001b[39m\n\u001b[1;32m    288\u001b[0m                              \u001b[39m\"\u001b[39m\u001b[39m response\u001b[39m\u001b[39m\"\u001b[39m)\n\u001b[1;32m    289\u001b[0m \u001b[39mtry\u001b[39;00m:\n",
      "\u001b[0;31mProtocolError\u001b[0m: ('Connection aborted.', RemoteDisconnected('Remote end closed connection without response'))",
      "\nDuring handling of the above exception, another exception occurred:\n",
      "\u001b[0;31mConnectionError\u001b[0m                           Traceback (most recent call last)",
      "\u001b[1;32m/workspaces/long-island-digest/notebooks/1.0-daveg-reading-the-sitemap.ipynb Cell 19\u001b[0m in \u001b[0;36m<cell line: 2>\u001b[0;34m()\u001b[0m\n\u001b[1;32m      <a href='vscode-notebook-cell://dev-container%2B2f55736572732f646176696467616c6c61676865722f436f64652f7372632f6769746875622e636f6d2f6f6e656578747261666163742f6c6f6e672d69736c616e642d646967657374/workspaces/long-island-digest/notebooks/1.0-daveg-reading-the-sitemap.ipynb#X32sdnNjb2RlLXJlbW90ZQ%3D%3D?line=0'>1</a>\u001b[0m \u001b[39mimport\u001b[39;00m \u001b[39mos\u001b[39;00m\n\u001b[1;32m      <a href='vscode-notebook-cell://dev-container%2B2f55736572732f646176696467616c6c61676865722f436f64652f7372632f6769746875622e636f6d2f6f6e656578747261666163742f6c6f6e672d69736c616e642d646967657374/workspaces/long-island-digest/notebooks/1.0-daveg-reading-the-sitemap.ipynb#X32sdnNjb2RlLXJlbW90ZQ%3D%3D?line=1'>2</a>\u001b[0m \u001b[39mfor\u001b[39;00m i, row \u001b[39min\u001b[39;00m articles_df\u001b[39m.\u001b[39miterrows():\n\u001b[0;32m----> <a href='vscode-notebook-cell://dev-container%2B2f55736572732f646176696467616c6c61676865722f436f64652f7372632f6769746875622e636f6d2f6f6e656578747261666163742f6c6f6e672d69736c616e642d646967657374/workspaces/long-island-digest/notebooks/1.0-daveg-reading-the-sitemap.ipynb#X32sdnNjb2RlLXJlbW90ZQ%3D%3D?line=2'>3</a>\u001b[0m     response \u001b[39m=\u001b[39m requests\u001b[39m.\u001b[39;49mget(row[\u001b[39m'\u001b[39;49m\u001b[39murl\u001b[39;49m\u001b[39m'\u001b[39;49m])\n\u001b[1;32m      <a href='vscode-notebook-cell://dev-container%2B2f55736572732f646176696467616c6c61676865722f436f64652f7372632f6769746875622e636f6d2f6f6e656578747261666163742f6c6f6e672d69736c616e642d646967657374/workspaces/long-island-digest/notebooks/1.0-daveg-reading-the-sitemap.ipynb#X32sdnNjb2RlLXJlbW90ZQ%3D%3D?line=3'>4</a>\u001b[0m     \u001b[39mif\u001b[39;00m response\u001b[39m.\u001b[39mok:\n\u001b[1;32m      <a href='vscode-notebook-cell://dev-container%2B2f55736572732f646176696467616c6c61676865722f436f64652f7372632f6769746875622e636f6d2f6f6e656578747261666163742f6c6f6e672d69736c616e642d646967657374/workspaces/long-island-digest/notebooks/1.0-daveg-reading-the-sitemap.ipynb#X32sdnNjb2RlLXJlbW90ZQ%3D%3D?line=4'>5</a>\u001b[0m         article_path \u001b[39m=\u001b[39m os\u001b[39m.\u001b[39mpath\u001b[39m.\u001b[39mjoin(\u001b[39m\"\u001b[39m\u001b[39m/workspaces/long-island-digest/data/raw/newsday/2022-05\u001b[39m\u001b[39m\"\u001b[39m, \u001b[39mf\u001b[39m\u001b[39m\"\u001b[39m\u001b[39m{\u001b[39;00mrow[\u001b[39m'\u001b[39m\u001b[39marticle\u001b[39m\u001b[39m'\u001b[39m]\u001b[39m}\u001b[39;00m\u001b[39m.html\u001b[39m\u001b[39m\"\u001b[39m)\n",
      "File \u001b[0;32m~/.local/lib/python3.10/site-packages/requests/api.py:73\u001b[0m, in \u001b[0;36mget\u001b[0;34m(url, params, **kwargs)\u001b[0m\n\u001b[1;32m     62\u001b[0m \u001b[39mdef\u001b[39;00m \u001b[39mget\u001b[39m(url, params\u001b[39m=\u001b[39m\u001b[39mNone\u001b[39;00m, \u001b[39m*\u001b[39m\u001b[39m*\u001b[39mkwargs):\n\u001b[1;32m     63\u001b[0m     \u001b[39mr\u001b[39m\u001b[39m\"\"\"Sends a GET request.\u001b[39;00m\n\u001b[1;32m     64\u001b[0m \n\u001b[1;32m     65\u001b[0m \u001b[39m    :param url: URL for the new :class:`Request` object.\u001b[39;00m\n\u001b[0;32m   (...)\u001b[0m\n\u001b[1;32m     70\u001b[0m \u001b[39m    :rtype: requests.Response\u001b[39;00m\n\u001b[1;32m     71\u001b[0m \u001b[39m    \"\"\"\u001b[39;00m\n\u001b[0;32m---> 73\u001b[0m     \u001b[39mreturn\u001b[39;00m request(\u001b[39m\"\u001b[39;49m\u001b[39mget\u001b[39;49m\u001b[39m\"\u001b[39;49m, url, params\u001b[39m=\u001b[39;49mparams, \u001b[39m*\u001b[39;49m\u001b[39m*\u001b[39;49mkwargs)\n",
      "File \u001b[0;32m~/.local/lib/python3.10/site-packages/requests/api.py:59\u001b[0m, in \u001b[0;36mrequest\u001b[0;34m(method, url, **kwargs)\u001b[0m\n\u001b[1;32m     55\u001b[0m \u001b[39m# By using the 'with' statement we are sure the session is closed, thus we\u001b[39;00m\n\u001b[1;32m     56\u001b[0m \u001b[39m# avoid leaving sockets open which can trigger a ResourceWarning in some\u001b[39;00m\n\u001b[1;32m     57\u001b[0m \u001b[39m# cases, and look like a memory leak in others.\u001b[39;00m\n\u001b[1;32m     58\u001b[0m \u001b[39mwith\u001b[39;00m sessions\u001b[39m.\u001b[39mSession() \u001b[39mas\u001b[39;00m session:\n\u001b[0;32m---> 59\u001b[0m     \u001b[39mreturn\u001b[39;00m session\u001b[39m.\u001b[39;49mrequest(method\u001b[39m=\u001b[39;49mmethod, url\u001b[39m=\u001b[39;49murl, \u001b[39m*\u001b[39;49m\u001b[39m*\u001b[39;49mkwargs)\n",
      "File \u001b[0;32m~/.local/lib/python3.10/site-packages/requests/sessions.py:587\u001b[0m, in \u001b[0;36mSession.request\u001b[0;34m(self, method, url, params, data, headers, cookies, files, auth, timeout, allow_redirects, proxies, hooks, stream, verify, cert, json)\u001b[0m\n\u001b[1;32m    582\u001b[0m send_kwargs \u001b[39m=\u001b[39m {\n\u001b[1;32m    583\u001b[0m     \u001b[39m\"\u001b[39m\u001b[39mtimeout\u001b[39m\u001b[39m\"\u001b[39m: timeout,\n\u001b[1;32m    584\u001b[0m     \u001b[39m\"\u001b[39m\u001b[39mallow_redirects\u001b[39m\u001b[39m\"\u001b[39m: allow_redirects,\n\u001b[1;32m    585\u001b[0m }\n\u001b[1;32m    586\u001b[0m send_kwargs\u001b[39m.\u001b[39mupdate(settings)\n\u001b[0;32m--> 587\u001b[0m resp \u001b[39m=\u001b[39m \u001b[39mself\u001b[39;49m\u001b[39m.\u001b[39;49msend(prep, \u001b[39m*\u001b[39;49m\u001b[39m*\u001b[39;49msend_kwargs)\n\u001b[1;32m    589\u001b[0m \u001b[39mreturn\u001b[39;00m resp\n",
      "File \u001b[0;32m~/.local/lib/python3.10/site-packages/requests/sessions.py:701\u001b[0m, in \u001b[0;36mSession.send\u001b[0;34m(self, request, **kwargs)\u001b[0m\n\u001b[1;32m    698\u001b[0m start \u001b[39m=\u001b[39m preferred_clock()\n\u001b[1;32m    700\u001b[0m \u001b[39m# Send the request\u001b[39;00m\n\u001b[0;32m--> 701\u001b[0m r \u001b[39m=\u001b[39m adapter\u001b[39m.\u001b[39;49msend(request, \u001b[39m*\u001b[39;49m\u001b[39m*\u001b[39;49mkwargs)\n\u001b[1;32m    703\u001b[0m \u001b[39m# Total elapsed time of the request (approximately)\u001b[39;00m\n\u001b[1;32m    704\u001b[0m elapsed \u001b[39m=\u001b[39m preferred_clock() \u001b[39m-\u001b[39m start\n",
      "File \u001b[0;32m~/.local/lib/python3.10/site-packages/requests/adapters.py:547\u001b[0m, in \u001b[0;36mHTTPAdapter.send\u001b[0;34m(self, request, stream, timeout, verify, cert, proxies)\u001b[0m\n\u001b[1;32m    544\u001b[0m             \u001b[39mraise\u001b[39;00m\n\u001b[1;32m    546\u001b[0m \u001b[39mexcept\u001b[39;00m (ProtocolError, \u001b[39mOSError\u001b[39;00m) \u001b[39mas\u001b[39;00m err:\n\u001b[0;32m--> 547\u001b[0m     \u001b[39mraise\u001b[39;00m \u001b[39mConnectionError\u001b[39;00m(err, request\u001b[39m=\u001b[39mrequest)\n\u001b[1;32m    549\u001b[0m \u001b[39mexcept\u001b[39;00m MaxRetryError \u001b[39mas\u001b[39;00m e:\n\u001b[1;32m    550\u001b[0m     \u001b[39mif\u001b[39;00m \u001b[39misinstance\u001b[39m(e\u001b[39m.\u001b[39mreason, ConnectTimeoutError):\n\u001b[1;32m    551\u001b[0m         \u001b[39m# TODO: Remove this in 3.0.0: see #2811\u001b[39;00m\n",
      "\u001b[0;31mConnectionError\u001b[0m: ('Connection aborted.', RemoteDisconnected('Remote end closed connection without response'))"
     ]
    }
   ],
   "source": [
    "import os\n",
    "for i, row in articles_df.iterrows():\n",
    "    response = requests.get(row['url'])\n",
    "    if response.ok:\n",
    "        article_path = os.path.join(\"/workspaces/long-island-digest/data/raw/newsday/2022-05\", f\"{row['article']}.html\")\n",
    "        with open(article_path, \"wb\") as fout:\n",
    "            fout.write(response.content)\n",
    "        \n"
   ]
  },
  {
   "cell_type": "code",
   "execution_count": 67,
   "metadata": {},
   "outputs": [
    {
     "ename": "ConnectionError",
     "evalue": "('Connection aborted.', RemoteDisconnected('Remote end closed connection without response'))",
     "output_type": "error",
     "traceback": [
      "\u001b[0;31m---------------------------------------------------------------------------\u001b[0m",
      "\u001b[0;31mRemoteDisconnected\u001b[0m                        Traceback (most recent call last)",
      "File \u001b[0;32m~/.local/lib/python3.10/site-packages/urllib3/connectionpool.py:703\u001b[0m, in \u001b[0;36mHTTPConnectionPool.urlopen\u001b[0;34m(self, method, url, body, headers, retries, redirect, assert_same_host, timeout, pool_timeout, release_conn, chunked, body_pos, **response_kw)\u001b[0m\n\u001b[1;32m    702\u001b[0m \u001b[39m# Make the request on the httplib connection object.\u001b[39;00m\n\u001b[0;32m--> 703\u001b[0m httplib_response \u001b[39m=\u001b[39m \u001b[39mself\u001b[39;49m\u001b[39m.\u001b[39;49m_make_request(\n\u001b[1;32m    704\u001b[0m     conn,\n\u001b[1;32m    705\u001b[0m     method,\n\u001b[1;32m    706\u001b[0m     url,\n\u001b[1;32m    707\u001b[0m     timeout\u001b[39m=\u001b[39;49mtimeout_obj,\n\u001b[1;32m    708\u001b[0m     body\u001b[39m=\u001b[39;49mbody,\n\u001b[1;32m    709\u001b[0m     headers\u001b[39m=\u001b[39;49mheaders,\n\u001b[1;32m    710\u001b[0m     chunked\u001b[39m=\u001b[39;49mchunked,\n\u001b[1;32m    711\u001b[0m )\n\u001b[1;32m    713\u001b[0m \u001b[39m# If we're going to release the connection in ``finally:``, then\u001b[39;00m\n\u001b[1;32m    714\u001b[0m \u001b[39m# the response doesn't need to know about the connection. Otherwise\u001b[39;00m\n\u001b[1;32m    715\u001b[0m \u001b[39m# it will also try to release it and we'll have a double-release\u001b[39;00m\n\u001b[1;32m    716\u001b[0m \u001b[39m# mess.\u001b[39;00m\n",
      "File \u001b[0;32m~/.local/lib/python3.10/site-packages/urllib3/connectionpool.py:449\u001b[0m, in \u001b[0;36mHTTPConnectionPool._make_request\u001b[0;34m(self, conn, method, url, timeout, chunked, **httplib_request_kw)\u001b[0m\n\u001b[1;32m    445\u001b[0m         \u001b[39mexcept\u001b[39;00m \u001b[39mBaseException\u001b[39;00m \u001b[39mas\u001b[39;00m e:\n\u001b[1;32m    446\u001b[0m             \u001b[39m# Remove the TypeError from the exception chain in\u001b[39;00m\n\u001b[1;32m    447\u001b[0m             \u001b[39m# Python 3 (including for exceptions like SystemExit).\u001b[39;00m\n\u001b[1;32m    448\u001b[0m             \u001b[39m# Otherwise it looks like a bug in the code.\u001b[39;00m\n\u001b[0;32m--> 449\u001b[0m             six\u001b[39m.\u001b[39;49mraise_from(e, \u001b[39mNone\u001b[39;49;00m)\n\u001b[1;32m    450\u001b[0m \u001b[39mexcept\u001b[39;00m (SocketTimeout, BaseSSLError, SocketError) \u001b[39mas\u001b[39;00m e:\n",
      "File \u001b[0;32m<string>:3\u001b[0m, in \u001b[0;36mraise_from\u001b[0;34m(value, from_value)\u001b[0m\n",
      "File \u001b[0;32m~/.local/lib/python3.10/site-packages/urllib3/connectionpool.py:444\u001b[0m, in \u001b[0;36mHTTPConnectionPool._make_request\u001b[0;34m(self, conn, method, url, timeout, chunked, **httplib_request_kw)\u001b[0m\n\u001b[1;32m    443\u001b[0m \u001b[39mtry\u001b[39;00m:\n\u001b[0;32m--> 444\u001b[0m     httplib_response \u001b[39m=\u001b[39m conn\u001b[39m.\u001b[39;49mgetresponse()\n\u001b[1;32m    445\u001b[0m \u001b[39mexcept\u001b[39;00m \u001b[39mBaseException\u001b[39;00m \u001b[39mas\u001b[39;00m e:\n\u001b[1;32m    446\u001b[0m     \u001b[39m# Remove the TypeError from the exception chain in\u001b[39;00m\n\u001b[1;32m    447\u001b[0m     \u001b[39m# Python 3 (including for exceptions like SystemExit).\u001b[39;00m\n\u001b[1;32m    448\u001b[0m     \u001b[39m# Otherwise it looks like a bug in the code.\u001b[39;00m\n",
      "File \u001b[0;32m/usr/local/lib/python3.10/http/client.py:1374\u001b[0m, in \u001b[0;36mHTTPConnection.getresponse\u001b[0;34m(self)\u001b[0m\n\u001b[1;32m   1373\u001b[0m \u001b[39mtry\u001b[39;00m:\n\u001b[0;32m-> 1374\u001b[0m     response\u001b[39m.\u001b[39;49mbegin()\n\u001b[1;32m   1375\u001b[0m \u001b[39mexcept\u001b[39;00m \u001b[39mConnectionError\u001b[39;00m:\n",
      "File \u001b[0;32m/usr/local/lib/python3.10/http/client.py:318\u001b[0m, in \u001b[0;36mHTTPResponse.begin\u001b[0;34m(self)\u001b[0m\n\u001b[1;32m    317\u001b[0m \u001b[39mwhile\u001b[39;00m \u001b[39mTrue\u001b[39;00m:\n\u001b[0;32m--> 318\u001b[0m     version, status, reason \u001b[39m=\u001b[39m \u001b[39mself\u001b[39;49m\u001b[39m.\u001b[39;49m_read_status()\n\u001b[1;32m    319\u001b[0m     \u001b[39mif\u001b[39;00m status \u001b[39m!=\u001b[39m CONTINUE:\n",
      "File \u001b[0;32m/usr/local/lib/python3.10/http/client.py:287\u001b[0m, in \u001b[0;36mHTTPResponse._read_status\u001b[0;34m(self)\u001b[0m\n\u001b[1;32m    284\u001b[0m \u001b[39mif\u001b[39;00m \u001b[39mnot\u001b[39;00m line:\n\u001b[1;32m    285\u001b[0m     \u001b[39m# Presumably, the server closed the connection before\u001b[39;00m\n\u001b[1;32m    286\u001b[0m     \u001b[39m# sending a valid response.\u001b[39;00m\n\u001b[0;32m--> 287\u001b[0m     \u001b[39mraise\u001b[39;00m RemoteDisconnected(\u001b[39m\"\u001b[39m\u001b[39mRemote end closed connection without\u001b[39m\u001b[39m\"\u001b[39m\n\u001b[1;32m    288\u001b[0m                              \u001b[39m\"\u001b[39m\u001b[39m response\u001b[39m\u001b[39m\"\u001b[39m)\n\u001b[1;32m    289\u001b[0m \u001b[39mtry\u001b[39;00m:\n",
      "\u001b[0;31mRemoteDisconnected\u001b[0m: Remote end closed connection without response",
      "\nDuring handling of the above exception, another exception occurred:\n",
      "\u001b[0;31mProtocolError\u001b[0m                             Traceback (most recent call last)",
      "File \u001b[0;32m~/.local/lib/python3.10/site-packages/requests/adapters.py:489\u001b[0m, in \u001b[0;36mHTTPAdapter.send\u001b[0;34m(self, request, stream, timeout, verify, cert, proxies)\u001b[0m\n\u001b[1;32m    488\u001b[0m \u001b[39mif\u001b[39;00m \u001b[39mnot\u001b[39;00m chunked:\n\u001b[0;32m--> 489\u001b[0m     resp \u001b[39m=\u001b[39m conn\u001b[39m.\u001b[39;49murlopen(\n\u001b[1;32m    490\u001b[0m         method\u001b[39m=\u001b[39;49mrequest\u001b[39m.\u001b[39;49mmethod,\n\u001b[1;32m    491\u001b[0m         url\u001b[39m=\u001b[39;49murl,\n\u001b[1;32m    492\u001b[0m         body\u001b[39m=\u001b[39;49mrequest\u001b[39m.\u001b[39;49mbody,\n\u001b[1;32m    493\u001b[0m         headers\u001b[39m=\u001b[39;49mrequest\u001b[39m.\u001b[39;49mheaders,\n\u001b[1;32m    494\u001b[0m         redirect\u001b[39m=\u001b[39;49m\u001b[39mFalse\u001b[39;49;00m,\n\u001b[1;32m    495\u001b[0m         assert_same_host\u001b[39m=\u001b[39;49m\u001b[39mFalse\u001b[39;49;00m,\n\u001b[1;32m    496\u001b[0m         preload_content\u001b[39m=\u001b[39;49m\u001b[39mFalse\u001b[39;49;00m,\n\u001b[1;32m    497\u001b[0m         decode_content\u001b[39m=\u001b[39;49m\u001b[39mFalse\u001b[39;49;00m,\n\u001b[1;32m    498\u001b[0m         retries\u001b[39m=\u001b[39;49m\u001b[39mself\u001b[39;49m\u001b[39m.\u001b[39;49mmax_retries,\n\u001b[1;32m    499\u001b[0m         timeout\u001b[39m=\u001b[39;49mtimeout,\n\u001b[1;32m    500\u001b[0m     )\n\u001b[1;32m    502\u001b[0m \u001b[39m# Send the request.\u001b[39;00m\n\u001b[1;32m    503\u001b[0m \u001b[39melse\u001b[39;00m:\n",
      "File \u001b[0;32m~/.local/lib/python3.10/site-packages/urllib3/connectionpool.py:787\u001b[0m, in \u001b[0;36mHTTPConnectionPool.urlopen\u001b[0;34m(self, method, url, body, headers, retries, redirect, assert_same_host, timeout, pool_timeout, release_conn, chunked, body_pos, **response_kw)\u001b[0m\n\u001b[1;32m    785\u001b[0m     e \u001b[39m=\u001b[39m ProtocolError(\u001b[39m\"\u001b[39m\u001b[39mConnection aborted.\u001b[39m\u001b[39m\"\u001b[39m, e)\n\u001b[0;32m--> 787\u001b[0m retries \u001b[39m=\u001b[39m retries\u001b[39m.\u001b[39;49mincrement(\n\u001b[1;32m    788\u001b[0m     method, url, error\u001b[39m=\u001b[39;49me, _pool\u001b[39m=\u001b[39;49m\u001b[39mself\u001b[39;49m, _stacktrace\u001b[39m=\u001b[39;49msys\u001b[39m.\u001b[39;49mexc_info()[\u001b[39m2\u001b[39;49m]\n\u001b[1;32m    789\u001b[0m )\n\u001b[1;32m    790\u001b[0m retries\u001b[39m.\u001b[39msleep()\n",
      "File \u001b[0;32m~/.local/lib/python3.10/site-packages/urllib3/util/retry.py:550\u001b[0m, in \u001b[0;36mRetry.increment\u001b[0;34m(self, method, url, response, error, _pool, _stacktrace)\u001b[0m\n\u001b[1;32m    549\u001b[0m \u001b[39mif\u001b[39;00m read \u001b[39mis\u001b[39;00m \u001b[39mFalse\u001b[39;00m \u001b[39mor\u001b[39;00m \u001b[39mnot\u001b[39;00m \u001b[39mself\u001b[39m\u001b[39m.\u001b[39m_is_method_retryable(method):\n\u001b[0;32m--> 550\u001b[0m     \u001b[39mraise\u001b[39;00m six\u001b[39m.\u001b[39;49mreraise(\u001b[39mtype\u001b[39;49m(error), error, _stacktrace)\n\u001b[1;32m    551\u001b[0m \u001b[39melif\u001b[39;00m read \u001b[39mis\u001b[39;00m \u001b[39mnot\u001b[39;00m \u001b[39mNone\u001b[39;00m:\n",
      "File \u001b[0;32m~/.local/lib/python3.10/site-packages/urllib3/packages/six.py:769\u001b[0m, in \u001b[0;36mreraise\u001b[0;34m(tp, value, tb)\u001b[0m\n\u001b[1;32m    768\u001b[0m \u001b[39mif\u001b[39;00m value\u001b[39m.\u001b[39m__traceback__ \u001b[39mis\u001b[39;00m \u001b[39mnot\u001b[39;00m tb:\n\u001b[0;32m--> 769\u001b[0m     \u001b[39mraise\u001b[39;00m value\u001b[39m.\u001b[39mwith_traceback(tb)\n\u001b[1;32m    770\u001b[0m \u001b[39mraise\u001b[39;00m value\n",
      "File \u001b[0;32m~/.local/lib/python3.10/site-packages/urllib3/connectionpool.py:703\u001b[0m, in \u001b[0;36mHTTPConnectionPool.urlopen\u001b[0;34m(self, method, url, body, headers, retries, redirect, assert_same_host, timeout, pool_timeout, release_conn, chunked, body_pos, **response_kw)\u001b[0m\n\u001b[1;32m    702\u001b[0m \u001b[39m# Make the request on the httplib connection object.\u001b[39;00m\n\u001b[0;32m--> 703\u001b[0m httplib_response \u001b[39m=\u001b[39m \u001b[39mself\u001b[39;49m\u001b[39m.\u001b[39;49m_make_request(\n\u001b[1;32m    704\u001b[0m     conn,\n\u001b[1;32m    705\u001b[0m     method,\n\u001b[1;32m    706\u001b[0m     url,\n\u001b[1;32m    707\u001b[0m     timeout\u001b[39m=\u001b[39;49mtimeout_obj,\n\u001b[1;32m    708\u001b[0m     body\u001b[39m=\u001b[39;49mbody,\n\u001b[1;32m    709\u001b[0m     headers\u001b[39m=\u001b[39;49mheaders,\n\u001b[1;32m    710\u001b[0m     chunked\u001b[39m=\u001b[39;49mchunked,\n\u001b[1;32m    711\u001b[0m )\n\u001b[1;32m    713\u001b[0m \u001b[39m# If we're going to release the connection in ``finally:``, then\u001b[39;00m\n\u001b[1;32m    714\u001b[0m \u001b[39m# the response doesn't need to know about the connection. Otherwise\u001b[39;00m\n\u001b[1;32m    715\u001b[0m \u001b[39m# it will also try to release it and we'll have a double-release\u001b[39;00m\n\u001b[1;32m    716\u001b[0m \u001b[39m# mess.\u001b[39;00m\n",
      "File \u001b[0;32m~/.local/lib/python3.10/site-packages/urllib3/connectionpool.py:449\u001b[0m, in \u001b[0;36mHTTPConnectionPool._make_request\u001b[0;34m(self, conn, method, url, timeout, chunked, **httplib_request_kw)\u001b[0m\n\u001b[1;32m    445\u001b[0m         \u001b[39mexcept\u001b[39;00m \u001b[39mBaseException\u001b[39;00m \u001b[39mas\u001b[39;00m e:\n\u001b[1;32m    446\u001b[0m             \u001b[39m# Remove the TypeError from the exception chain in\u001b[39;00m\n\u001b[1;32m    447\u001b[0m             \u001b[39m# Python 3 (including for exceptions like SystemExit).\u001b[39;00m\n\u001b[1;32m    448\u001b[0m             \u001b[39m# Otherwise it looks like a bug in the code.\u001b[39;00m\n\u001b[0;32m--> 449\u001b[0m             six\u001b[39m.\u001b[39;49mraise_from(e, \u001b[39mNone\u001b[39;49;00m)\n\u001b[1;32m    450\u001b[0m \u001b[39mexcept\u001b[39;00m (SocketTimeout, BaseSSLError, SocketError) \u001b[39mas\u001b[39;00m e:\n",
      "File \u001b[0;32m<string>:3\u001b[0m, in \u001b[0;36mraise_from\u001b[0;34m(value, from_value)\u001b[0m\n",
      "File \u001b[0;32m~/.local/lib/python3.10/site-packages/urllib3/connectionpool.py:444\u001b[0m, in \u001b[0;36mHTTPConnectionPool._make_request\u001b[0;34m(self, conn, method, url, timeout, chunked, **httplib_request_kw)\u001b[0m\n\u001b[1;32m    443\u001b[0m \u001b[39mtry\u001b[39;00m:\n\u001b[0;32m--> 444\u001b[0m     httplib_response \u001b[39m=\u001b[39m conn\u001b[39m.\u001b[39;49mgetresponse()\n\u001b[1;32m    445\u001b[0m \u001b[39mexcept\u001b[39;00m \u001b[39mBaseException\u001b[39;00m \u001b[39mas\u001b[39;00m e:\n\u001b[1;32m    446\u001b[0m     \u001b[39m# Remove the TypeError from the exception chain in\u001b[39;00m\n\u001b[1;32m    447\u001b[0m     \u001b[39m# Python 3 (including for exceptions like SystemExit).\u001b[39;00m\n\u001b[1;32m    448\u001b[0m     \u001b[39m# Otherwise it looks like a bug in the code.\u001b[39;00m\n",
      "File \u001b[0;32m/usr/local/lib/python3.10/http/client.py:1374\u001b[0m, in \u001b[0;36mHTTPConnection.getresponse\u001b[0;34m(self)\u001b[0m\n\u001b[1;32m   1373\u001b[0m \u001b[39mtry\u001b[39;00m:\n\u001b[0;32m-> 1374\u001b[0m     response\u001b[39m.\u001b[39;49mbegin()\n\u001b[1;32m   1375\u001b[0m \u001b[39mexcept\u001b[39;00m \u001b[39mConnectionError\u001b[39;00m:\n",
      "File \u001b[0;32m/usr/local/lib/python3.10/http/client.py:318\u001b[0m, in \u001b[0;36mHTTPResponse.begin\u001b[0;34m(self)\u001b[0m\n\u001b[1;32m    317\u001b[0m \u001b[39mwhile\u001b[39;00m \u001b[39mTrue\u001b[39;00m:\n\u001b[0;32m--> 318\u001b[0m     version, status, reason \u001b[39m=\u001b[39m \u001b[39mself\u001b[39;49m\u001b[39m.\u001b[39;49m_read_status()\n\u001b[1;32m    319\u001b[0m     \u001b[39mif\u001b[39;00m status \u001b[39m!=\u001b[39m CONTINUE:\n",
      "File \u001b[0;32m/usr/local/lib/python3.10/http/client.py:287\u001b[0m, in \u001b[0;36mHTTPResponse._read_status\u001b[0;34m(self)\u001b[0m\n\u001b[1;32m    284\u001b[0m \u001b[39mif\u001b[39;00m \u001b[39mnot\u001b[39;00m line:\n\u001b[1;32m    285\u001b[0m     \u001b[39m# Presumably, the server closed the connection before\u001b[39;00m\n\u001b[1;32m    286\u001b[0m     \u001b[39m# sending a valid response.\u001b[39;00m\n\u001b[0;32m--> 287\u001b[0m     \u001b[39mraise\u001b[39;00m RemoteDisconnected(\u001b[39m\"\u001b[39m\u001b[39mRemote end closed connection without\u001b[39m\u001b[39m\"\u001b[39m\n\u001b[1;32m    288\u001b[0m                              \u001b[39m\"\u001b[39m\u001b[39m response\u001b[39m\u001b[39m\"\u001b[39m)\n\u001b[1;32m    289\u001b[0m \u001b[39mtry\u001b[39;00m:\n",
      "\u001b[0;31mProtocolError\u001b[0m: ('Connection aborted.', RemoteDisconnected('Remote end closed connection without response'))",
      "\nDuring handling of the above exception, another exception occurred:\n",
      "\u001b[0;31mConnectionError\u001b[0m                           Traceback (most recent call last)",
      "\u001b[1;32m/workspaces/long-island-digest/notebooks/1.0-daveg-reading-the-sitemap.ipynb Cell 17\u001b[0m in \u001b[0;36m<cell line: 1>\u001b[0;34m()\u001b[0m\n\u001b[0;32m----> <a href='vscode-notebook-cell://dev-container%2B2f55736572732f646176696467616c6c61676865722f436f64652f7372632f6769746875622e636f6d2f6f6e656578747261666163742f6c6f6e672d69736c616e642d646967657374/workspaces/long-island-digest/notebooks/1.0-daveg-reading-the-sitemap.ipynb#X31sdnNjb2RlLXJlbW90ZQ%3D%3D?line=0'>1</a>\u001b[0m articles_df[\u001b[39m'\u001b[39m\u001b[39mhtml\u001b[39m\u001b[39m'\u001b[39m] \u001b[39m=\u001b[39m articles_df[\u001b[39m'\u001b[39;49m\u001b[39murl\u001b[39;49m\u001b[39m'\u001b[39;49m]\u001b[39m.\u001b[39;49mapply(download_text)\n",
      "File \u001b[0;32m~/.local/lib/python3.10/site-packages/pandas/core/series.py:4433\u001b[0m, in \u001b[0;36mSeries.apply\u001b[0;34m(self, func, convert_dtype, args, **kwargs)\u001b[0m\n\u001b[1;32m   4323\u001b[0m \u001b[39mdef\u001b[39;00m \u001b[39mapply\u001b[39m(\n\u001b[1;32m   4324\u001b[0m     \u001b[39mself\u001b[39m,\n\u001b[1;32m   4325\u001b[0m     func: AggFuncType,\n\u001b[0;32m   (...)\u001b[0m\n\u001b[1;32m   4328\u001b[0m     \u001b[39m*\u001b[39m\u001b[39m*\u001b[39mkwargs,\n\u001b[1;32m   4329\u001b[0m ) \u001b[39m-\u001b[39m\u001b[39m>\u001b[39m DataFrame \u001b[39m|\u001b[39m Series:\n\u001b[1;32m   4330\u001b[0m     \u001b[39m\"\"\"\u001b[39;00m\n\u001b[1;32m   4331\u001b[0m \u001b[39m    Invoke function on values of Series.\u001b[39;00m\n\u001b[1;32m   4332\u001b[0m \n\u001b[0;32m   (...)\u001b[0m\n\u001b[1;32m   4431\u001b[0m \u001b[39m    dtype: float64\u001b[39;00m\n\u001b[1;32m   4432\u001b[0m \u001b[39m    \"\"\"\u001b[39;00m\n\u001b[0;32m-> 4433\u001b[0m     \u001b[39mreturn\u001b[39;00m SeriesApply(\u001b[39mself\u001b[39;49m, func, convert_dtype, args, kwargs)\u001b[39m.\u001b[39;49mapply()\n",
      "File \u001b[0;32m~/.local/lib/python3.10/site-packages/pandas/core/apply.py:1088\u001b[0m, in \u001b[0;36mSeriesApply.apply\u001b[0;34m(self)\u001b[0m\n\u001b[1;32m   1084\u001b[0m \u001b[39mif\u001b[39;00m \u001b[39misinstance\u001b[39m(\u001b[39mself\u001b[39m\u001b[39m.\u001b[39mf, \u001b[39mstr\u001b[39m):\n\u001b[1;32m   1085\u001b[0m     \u001b[39m# if we are a string, try to dispatch\u001b[39;00m\n\u001b[1;32m   1086\u001b[0m     \u001b[39mreturn\u001b[39;00m \u001b[39mself\u001b[39m\u001b[39m.\u001b[39mapply_str()\n\u001b[0;32m-> 1088\u001b[0m \u001b[39mreturn\u001b[39;00m \u001b[39mself\u001b[39;49m\u001b[39m.\u001b[39;49mapply_standard()\n",
      "File \u001b[0;32m~/.local/lib/python3.10/site-packages/pandas/core/apply.py:1143\u001b[0m, in \u001b[0;36mSeriesApply.apply_standard\u001b[0;34m(self)\u001b[0m\n\u001b[1;32m   1137\u001b[0m         values \u001b[39m=\u001b[39m obj\u001b[39m.\u001b[39mastype(\u001b[39mobject\u001b[39m)\u001b[39m.\u001b[39m_values\n\u001b[1;32m   1138\u001b[0m         \u001b[39m# error: Argument 2 to \"map_infer\" has incompatible type\u001b[39;00m\n\u001b[1;32m   1139\u001b[0m         \u001b[39m# \"Union[Callable[..., Any], str, List[Union[Callable[..., Any], str]],\u001b[39;00m\n\u001b[1;32m   1140\u001b[0m         \u001b[39m# Dict[Hashable, Union[Union[Callable[..., Any], str],\u001b[39;00m\n\u001b[1;32m   1141\u001b[0m         \u001b[39m# List[Union[Callable[..., Any], str]]]]]\"; expected\u001b[39;00m\n\u001b[1;32m   1142\u001b[0m         \u001b[39m# \"Callable[[Any], Any]\"\u001b[39;00m\n\u001b[0;32m-> 1143\u001b[0m         mapped \u001b[39m=\u001b[39m lib\u001b[39m.\u001b[39;49mmap_infer(\n\u001b[1;32m   1144\u001b[0m             values,\n\u001b[1;32m   1145\u001b[0m             f,  \u001b[39m# type: ignore[arg-type]\u001b[39;49;00m\n\u001b[1;32m   1146\u001b[0m             convert\u001b[39m=\u001b[39;49m\u001b[39mself\u001b[39;49m\u001b[39m.\u001b[39;49mconvert_dtype,\n\u001b[1;32m   1147\u001b[0m         )\n\u001b[1;32m   1149\u001b[0m \u001b[39mif\u001b[39;00m \u001b[39mlen\u001b[39m(mapped) \u001b[39mand\u001b[39;00m \u001b[39misinstance\u001b[39m(mapped[\u001b[39m0\u001b[39m], ABCSeries):\n\u001b[1;32m   1150\u001b[0m     \u001b[39m# GH#43986 Need to do list(mapped) in order to get treated as nested\u001b[39;00m\n\u001b[1;32m   1151\u001b[0m     \u001b[39m#  See also GH#25959 regarding EA support\u001b[39;00m\n\u001b[1;32m   1152\u001b[0m     \u001b[39mreturn\u001b[39;00m obj\u001b[39m.\u001b[39m_constructor_expanddim(\u001b[39mlist\u001b[39m(mapped), index\u001b[39m=\u001b[39mobj\u001b[39m.\u001b[39mindex)\n",
      "File \u001b[0;32m~/.local/lib/python3.10/site-packages/pandas/_libs/lib.pyx:2870\u001b[0m, in \u001b[0;36mpandas._libs.lib.map_infer\u001b[0;34m()\u001b[0m\n",
      "\u001b[1;32m/workspaces/long-island-digest/notebooks/1.0-daveg-reading-the-sitemap.ipynb Cell 17\u001b[0m in \u001b[0;36mdownload_text\u001b[0;34m(url)\u001b[0m\n\u001b[1;32m      <a href='vscode-notebook-cell://dev-container%2B2f55736572732f646176696467616c6c61676865722f436f64652f7372632f6769746875622e636f6d2f6f6e656578747261666163742f6c6f6e672d69736c616e642d646967657374/workspaces/long-island-digest/notebooks/1.0-daveg-reading-the-sitemap.ipynb#X31sdnNjb2RlLXJlbW90ZQ%3D%3D?line=0'>1</a>\u001b[0m \u001b[39mdef\u001b[39;00m \u001b[39mdownload_text\u001b[39m(url):\n\u001b[0;32m----> <a href='vscode-notebook-cell://dev-container%2B2f55736572732f646176696467616c6c61676865722f436f64652f7372632f6769746875622e636f6d2f6f6e656578747261666163742f6c6f6e672d69736c616e642d646967657374/workspaces/long-island-digest/notebooks/1.0-daveg-reading-the-sitemap.ipynb#X31sdnNjb2RlLXJlbW90ZQ%3D%3D?line=1'>2</a>\u001b[0m     response \u001b[39m=\u001b[39m requests\u001b[39m.\u001b[39;49mget(url)\n\u001b[1;32m      <a href='vscode-notebook-cell://dev-container%2B2f55736572732f646176696467616c6c61676865722f436f64652f7372632f6769746875622e636f6d2f6f6e656578747261666163742f6c6f6e672d69736c616e642d646967657374/workspaces/long-island-digest/notebooks/1.0-daveg-reading-the-sitemap.ipynb#X31sdnNjb2RlLXJlbW90ZQ%3D%3D?line=2'>3</a>\u001b[0m     \u001b[39mif\u001b[39;00m response \u001b[39m==\u001b[39m \u001b[39m200\u001b[39m:\n\u001b[1;32m      <a href='vscode-notebook-cell://dev-container%2B2f55736572732f646176696467616c6c61676865722f436f64652f7372632f6769746875622e636f6d2f6f6e656578747261666163742f6c6f6e672d69736c616e642d646967657374/workspaces/long-island-digest/notebooks/1.0-daveg-reading-the-sitemap.ipynb#X31sdnNjb2RlLXJlbW90ZQ%3D%3D?line=3'>4</a>\u001b[0m         \u001b[39mreturn\u001b[39;00m response\u001b[39m.\u001b[39mcontent\u001b[39m.\u001b[39mdecode(\u001b[39m\"\u001b[39m\u001b[39mutf-8\u001b[39m\u001b[39m\"\u001b[39m)\n",
      "File \u001b[0;32m~/.local/lib/python3.10/site-packages/requests/api.py:73\u001b[0m, in \u001b[0;36mget\u001b[0;34m(url, params, **kwargs)\u001b[0m\n\u001b[1;32m     62\u001b[0m \u001b[39mdef\u001b[39;00m \u001b[39mget\u001b[39m(url, params\u001b[39m=\u001b[39m\u001b[39mNone\u001b[39;00m, \u001b[39m*\u001b[39m\u001b[39m*\u001b[39mkwargs):\n\u001b[1;32m     63\u001b[0m     \u001b[39mr\u001b[39m\u001b[39m\"\"\"Sends a GET request.\u001b[39;00m\n\u001b[1;32m     64\u001b[0m \n\u001b[1;32m     65\u001b[0m \u001b[39m    :param url: URL for the new :class:`Request` object.\u001b[39;00m\n\u001b[0;32m   (...)\u001b[0m\n\u001b[1;32m     70\u001b[0m \u001b[39m    :rtype: requests.Response\u001b[39;00m\n\u001b[1;32m     71\u001b[0m \u001b[39m    \"\"\"\u001b[39;00m\n\u001b[0;32m---> 73\u001b[0m     \u001b[39mreturn\u001b[39;00m request(\u001b[39m\"\u001b[39;49m\u001b[39mget\u001b[39;49m\u001b[39m\"\u001b[39;49m, url, params\u001b[39m=\u001b[39;49mparams, \u001b[39m*\u001b[39;49m\u001b[39m*\u001b[39;49mkwargs)\n",
      "File \u001b[0;32m~/.local/lib/python3.10/site-packages/requests/api.py:59\u001b[0m, in \u001b[0;36mrequest\u001b[0;34m(method, url, **kwargs)\u001b[0m\n\u001b[1;32m     55\u001b[0m \u001b[39m# By using the 'with' statement we are sure the session is closed, thus we\u001b[39;00m\n\u001b[1;32m     56\u001b[0m \u001b[39m# avoid leaving sockets open which can trigger a ResourceWarning in some\u001b[39;00m\n\u001b[1;32m     57\u001b[0m \u001b[39m# cases, and look like a memory leak in others.\u001b[39;00m\n\u001b[1;32m     58\u001b[0m \u001b[39mwith\u001b[39;00m sessions\u001b[39m.\u001b[39mSession() \u001b[39mas\u001b[39;00m session:\n\u001b[0;32m---> 59\u001b[0m     \u001b[39mreturn\u001b[39;00m session\u001b[39m.\u001b[39;49mrequest(method\u001b[39m=\u001b[39;49mmethod, url\u001b[39m=\u001b[39;49murl, \u001b[39m*\u001b[39;49m\u001b[39m*\u001b[39;49mkwargs)\n",
      "File \u001b[0;32m~/.local/lib/python3.10/site-packages/requests/sessions.py:587\u001b[0m, in \u001b[0;36mSession.request\u001b[0;34m(self, method, url, params, data, headers, cookies, files, auth, timeout, allow_redirects, proxies, hooks, stream, verify, cert, json)\u001b[0m\n\u001b[1;32m    582\u001b[0m send_kwargs \u001b[39m=\u001b[39m {\n\u001b[1;32m    583\u001b[0m     \u001b[39m\"\u001b[39m\u001b[39mtimeout\u001b[39m\u001b[39m\"\u001b[39m: timeout,\n\u001b[1;32m    584\u001b[0m     \u001b[39m\"\u001b[39m\u001b[39mallow_redirects\u001b[39m\u001b[39m\"\u001b[39m: allow_redirects,\n\u001b[1;32m    585\u001b[0m }\n\u001b[1;32m    586\u001b[0m send_kwargs\u001b[39m.\u001b[39mupdate(settings)\n\u001b[0;32m--> 587\u001b[0m resp \u001b[39m=\u001b[39m \u001b[39mself\u001b[39;49m\u001b[39m.\u001b[39;49msend(prep, \u001b[39m*\u001b[39;49m\u001b[39m*\u001b[39;49msend_kwargs)\n\u001b[1;32m    589\u001b[0m \u001b[39mreturn\u001b[39;00m resp\n",
      "File \u001b[0;32m~/.local/lib/python3.10/site-packages/requests/sessions.py:701\u001b[0m, in \u001b[0;36mSession.send\u001b[0;34m(self, request, **kwargs)\u001b[0m\n\u001b[1;32m    698\u001b[0m start \u001b[39m=\u001b[39m preferred_clock()\n\u001b[1;32m    700\u001b[0m \u001b[39m# Send the request\u001b[39;00m\n\u001b[0;32m--> 701\u001b[0m r \u001b[39m=\u001b[39m adapter\u001b[39m.\u001b[39;49msend(request, \u001b[39m*\u001b[39;49m\u001b[39m*\u001b[39;49mkwargs)\n\u001b[1;32m    703\u001b[0m \u001b[39m# Total elapsed time of the request (approximately)\u001b[39;00m\n\u001b[1;32m    704\u001b[0m elapsed \u001b[39m=\u001b[39m preferred_clock() \u001b[39m-\u001b[39m start\n",
      "File \u001b[0;32m~/.local/lib/python3.10/site-packages/requests/adapters.py:547\u001b[0m, in \u001b[0;36mHTTPAdapter.send\u001b[0;34m(self, request, stream, timeout, verify, cert, proxies)\u001b[0m\n\u001b[1;32m    544\u001b[0m             \u001b[39mraise\u001b[39;00m\n\u001b[1;32m    546\u001b[0m \u001b[39mexcept\u001b[39;00m (ProtocolError, \u001b[39mOSError\u001b[39;00m) \u001b[39mas\u001b[39;00m err:\n\u001b[0;32m--> 547\u001b[0m     \u001b[39mraise\u001b[39;00m \u001b[39mConnectionError\u001b[39;00m(err, request\u001b[39m=\u001b[39mrequest)\n\u001b[1;32m    549\u001b[0m \u001b[39mexcept\u001b[39;00m MaxRetryError \u001b[39mas\u001b[39;00m e:\n\u001b[1;32m    550\u001b[0m     \u001b[39mif\u001b[39;00m \u001b[39misinstance\u001b[39m(e\u001b[39m.\u001b[39mreason, ConnectTimeoutError):\n\u001b[1;32m    551\u001b[0m         \u001b[39m# TODO: Remove this in 3.0.0: see #2811\u001b[39;00m\n",
      "\u001b[0;31mConnectionError\u001b[0m: ('Connection aborted.', RemoteDisconnected('Remote end closed connection without response'))"
     ]
    }
   ],
   "source": [
    "articles_df['html'] = articles_df['url'].apply(download_text)"
   ]
  },
  {
   "cell_type": "code",
   "execution_count": 68,
   "metadata": {},
   "outputs": [
    {
     "data": {
      "text/html": [
       "<div>\n",
       "<style scoped>\n",
       "    .dataframe tbody tr th:only-of-type {\n",
       "        vertical-align: middle;\n",
       "    }\n",
       "\n",
       "    .dataframe tbody tr th {\n",
       "        vertical-align: top;\n",
       "    }\n",
       "\n",
       "    .dataframe thead th {\n",
       "        text-align: right;\n",
       "    }\n",
       "</style>\n",
       "<table border=\"1\" class=\"dataframe\">\n",
       "  <thead>\n",
       "    <tr style=\"text-align: right;\">\n",
       "      <th></th>\n",
       "      <th>url</th>\n",
       "      <th>section</th>\n",
       "      <th>subsection</th>\n",
       "      <th>article</th>\n",
       "    </tr>\n",
       "  </thead>\n",
       "  <tbody>\n",
       "    <tr>\n",
       "      <th>0</th>\n",
       "      <td>https://www.newsday.com/sports/college/aidan-k...</td>\n",
       "      <td>sports</td>\n",
       "      <td>college</td>\n",
       "      <td>aidan-kaminska-port-jefferson-umass-lacrosse-w...</td>\n",
       "    </tr>\n",
       "    <tr>\n",
       "      <th>1</th>\n",
       "      <td>https://www.newsday.com/long-island/nassau/bet...</td>\n",
       "      <td>long-island</td>\n",
       "      <td>nassau</td>\n",
       "      <td>bethpage-man-dies-struck-sedan-vepizees</td>\n",
       "    </tr>\n",
       "    <tr>\n",
       "      <th>2</th>\n",
       "      <td>https://www.newsday.com/long-island/education/...</td>\n",
       "      <td>long-island</td>\n",
       "      <td>education</td>\n",
       "      <td>relaxed-rules-regents-exams-u8seogt6</td>\n",
       "    </tr>\n",
       "    <tr>\n",
       "      <th>3</th>\n",
       "      <td>https://www.newsday.com/long-island/nassau/nif...</td>\n",
       "      <td>long-island</td>\n",
       "      <td>nassau</td>\n",
       "      <td>nifa-nassau-county-employee-longevity-pay-jwp4...</td>\n",
       "    </tr>\n",
       "    <tr>\n",
       "      <th>4</th>\n",
       "      <td>https://www.newsday.com/sports/baseball/mets/j...</td>\n",
       "      <td>sports</td>\n",
       "      <td>baseball</td>\n",
       "      <td>johan-santana-no-hitter-terry-collins-mets-c4i...</td>\n",
       "    </tr>\n",
       "    <tr>\n",
       "      <th>...</th>\n",
       "      <td>...</td>\n",
       "      <td>...</td>\n",
       "      <td>...</td>\n",
       "      <td>...</td>\n",
       "    </tr>\n",
       "    <tr>\n",
       "      <th>1785</th>\n",
       "      <td>https://www.newsday.com/sports/columnists/bob-...</td>\n",
       "      <td>sports</td>\n",
       "      <td>columnists</td>\n",
       "      <td>jets-nfl-draft-joe-douglas-w5c3bfk6</td>\n",
       "    </tr>\n",
       "    <tr>\n",
       "      <th>1786</th>\n",
       "      <td>https://www.newsday.com/sports/high-school/boy...</td>\n",
       "      <td>sports</td>\n",
       "      <td>high-school</td>\n",
       "      <td>high-school-boys-lacrosse-ukufxvn4</td>\n",
       "    </tr>\n",
       "    <tr>\n",
       "      <th>1787</th>\n",
       "      <td>https://www.newsday.com/sports/baseball/yankee...</td>\n",
       "      <td>sports</td>\n",
       "      <td>baseball</td>\n",
       "      <td>yankees-p119yvsl</td>\n",
       "    </tr>\n",
       "    <tr>\n",
       "      <th>1788</th>\n",
       "      <td>https://www.newsday.com/sports/high-school/tra...</td>\n",
       "      <td>sports</td>\n",
       "      <td>high-school</td>\n",
       "      <td>high-school-track-j9kex1ci</td>\n",
       "    </tr>\n",
       "    <tr>\n",
       "      <th>1789</th>\n",
       "      <td>https://www.newsday.com/long-island/suffolk/pr...</td>\n",
       "      <td>long-island</td>\n",
       "      <td>suffolk</td>\n",
       "      <td>protest-off-key-tikki-bar-cinco-de-mayo-patcho...</td>\n",
       "    </tr>\n",
       "  </tbody>\n",
       "</table>\n",
       "<p>1790 rows × 4 columns</p>\n",
       "</div>"
      ],
      "text/plain": [
       "                                                    url      section  \\\n",
       "0     https://www.newsday.com/sports/college/aidan-k...       sports   \n",
       "1     https://www.newsday.com/long-island/nassau/bet...  long-island   \n",
       "2     https://www.newsday.com/long-island/education/...  long-island   \n",
       "3     https://www.newsday.com/long-island/nassau/nif...  long-island   \n",
       "4     https://www.newsday.com/sports/baseball/mets/j...       sports   \n",
       "...                                                 ...          ...   \n",
       "1785  https://www.newsday.com/sports/columnists/bob-...       sports   \n",
       "1786  https://www.newsday.com/sports/high-school/boy...       sports   \n",
       "1787  https://www.newsday.com/sports/baseball/yankee...       sports   \n",
       "1788  https://www.newsday.com/sports/high-school/tra...       sports   \n",
       "1789  https://www.newsday.com/long-island/suffolk/pr...  long-island   \n",
       "\n",
       "       subsection                                            article  \n",
       "0         college  aidan-kaminska-port-jefferson-umass-lacrosse-w...  \n",
       "1          nassau            bethpage-man-dies-struck-sedan-vepizees  \n",
       "2       education               relaxed-rules-regents-exams-u8seogt6  \n",
       "3          nassau  nifa-nassau-county-employee-longevity-pay-jwp4...  \n",
       "4        baseball  johan-santana-no-hitter-terry-collins-mets-c4i...  \n",
       "...           ...                                                ...  \n",
       "1785   columnists                jets-nfl-draft-joe-douglas-w5c3bfk6  \n",
       "1786  high-school                 high-school-boys-lacrosse-ukufxvn4  \n",
       "1787     baseball                                   yankees-p119yvsl  \n",
       "1788  high-school                         high-school-track-j9kex1ci  \n",
       "1789      suffolk  protest-off-key-tikki-bar-cinco-de-mayo-patcho...  \n",
       "\n",
       "[1790 rows x 4 columns]"
      ]
     },
     "execution_count": 68,
     "metadata": {},
     "output_type": "execute_result"
    }
   ],
   "source": [
    "articles_df"
   ]
  },
  {
   "cell_type": "code",
   "execution_count": null,
   "metadata": {},
   "outputs": [],
   "source": []
  },
  {
   "cell_type": "code",
   "execution_count": null,
   "metadata": {},
   "outputs": [],
   "source": []
  }
 ],
 "metadata": {
  "kernelspec": {
   "display_name": "Python 3.10.4 64-bit",
   "language": "python",
   "name": "python3"
  },
  "language_info": {
   "codemirror_mode": {
    "name": "ipython",
    "version": 3
   },
   "file_extension": ".py",
   "mimetype": "text/x-python",
   "name": "python",
   "nbconvert_exporter": "python",
   "pygments_lexer": "ipython3",
   "version": "3.10.4"
  },
  "orig_nbformat": 4,
  "vscode": {
   "interpreter": {
    "hash": "949777d72b0d2535278d3dc13498b2535136f6dfe0678499012e853ee9abcab1"
   }
  }
 },
 "nbformat": 4,
 "nbformat_minor": 2
}
